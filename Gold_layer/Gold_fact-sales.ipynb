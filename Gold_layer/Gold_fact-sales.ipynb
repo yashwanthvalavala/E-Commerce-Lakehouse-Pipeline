{
 "cells": [
  {
   "cell_type": "code",
   "execution_count": 2,
   "id": "ee198d71",
   "metadata": {},
   "outputs": [],
   "source": [
    "# autoloader.py\n",
    "from pyspark.sql import SparkSession\n",
    "\n",
    "spark = (\n",
    "    SparkSession.builder\n",
    "    .appName(\"BronzeAutoloader\")\n",
    "    .master(\"local[*]\")\n",
    "    .config(\n",
    "        \"spark.jars.packages\",\n",
    "        \"io.delta:delta-spark_2.12:3.1.0\"\n",
    "    )\n",
    "    .config(\"spark.sql.extensions\", \"io.delta.sql.DeltaSparkSessionExtension\")\n",
    "    .config(\"spark.sql.catalog.spark_catalog\", \"org.apache.spark.sql.delta.catalog.DeltaCatalog\")\n",
    "    .getOrCreate()\n",
    ")"
   ]
  },
  {
   "cell_type": "code",
   "execution_count": 3,
   "id": "24bfb664",
   "metadata": {},
   "outputs": [
    {
     "name": "stdout",
     "output_type": "stream",
     "text": [
      "Loading dimensions...\n",
      "Building new_fact_sales...\n",
      "Creating fact_sales table...\n",
      "fact_sales table created.\n"
     ]
    }
   ],
   "source": [
    "import os\n",
    "import shutil\n",
    "from delta.tables import DeltaTable\n",
    "from pyspark.sql.functions import col, current_timestamp, lit\n",
    "\n",
    "# === Define Paths Explicitly ===\n",
    "dim_orders_path = r\"C:/Users/User/Desktop/E-Commerce Data Lakaehouse with AI-Powered Self-Healing Pipelines/Gold_layer/Gold_data/dim_orders/data\"\n",
    "dim_customer_path = r\"C:/Users/User/Desktop/E-Commerce Data Lakaehouse with AI-Powered Self-Healing Pipelines/Gold_layer/Gold_data/dim_customer/data\"\n",
    "dim_products_path = r\"C:/Users/User/Desktop/E-Commerce Data Lakaehouse with AI-Powered Self-Healing Pipelines/Gold_layer/Gold_data/dim_products/data\"\n",
    "dim_deliveries_path = r\"C:/Users/User/Desktop/E-Commerce Data Lakaehouse with AI-Powered Self-Healing Pipelines/Gold_layer/Gold_data/dim_deliveries/data\"\n",
    "fact_sales_path = r\"C:/Users/User/Desktop/E-Commerce Data Lakaehouse with AI-Powered Self-Healing Pipelines/Gold_layer/Gold_data/fact_sales/data\"\n",
    "\n",
    "try:\n",
    "    # === Load Dimension Tables ===\n",
    "    print(\"Loading dimensions...\")\n",
    "    dim_orders = spark.read.format(\"delta\").load(dim_orders_path)\n",
    "    dim_customer = spark.read.format(\"delta\").load(dim_customer_path)\n",
    "    dim_products = spark.read.format(\"delta\").load(dim_products_path)\n",
    "    dim_deliveries = spark.read.format(\"delta\").load(dim_deliveries_path)\n",
    "\n",
    "    # === Build Fact Table ===\n",
    "    print(\"Building new_fact_sales...\")\n",
    "    new_fact_sales = (\n",
    "        dim_orders.alias(\"o\")\n",
    "        .join(dim_customer.alias(\"c\"), col(\"o.customer_id\") == col(\"c.customer_id\"), \"left\")\n",
    "        .join(dim_products.alias(\"p\"), col(\"o.product_id\") == col(\"p.product_id\"), \"left\")\n",
    "        .join(dim_deliveries.alias(\"d\"), col(\"o.order_id\") == col(\"d.order_id\"), \"left\")\n",
    "        .select(\n",
    "            col(\"c.customer_sk\").alias(\"customer_sk\"),\n",
    "            col(\"p.product_sk\").alias(\"product_sk\"),\n",
    "            col(\"o.customer_id\"),\n",
    "            col(\"o.order_id\"),\n",
    "            col(\"o.transaction_id\"),\n",
    "            col(\"d.delivery_id\"),\n",
    "            col(\"o.quantity\"),\n",
    "            col(\"o.total_amount\"),\n",
    "            col(\"p.stock_quantity\"),\n",
    "            col(\"c.signup_date\"),\n",
    "            col(\"o.order_date\"),\n",
    "            col(\"d.delivery_date\"),\n",
    "            col(\"c.full_name\"),\n",
    "            col(\"p.name\").alias(\"product_name\"),\n",
    "            col(\"p.category\"),\n",
    "            col(\"o.payment_method\"),\n",
    "            col(\"o.order_status\"),\n",
    "            col(\"d.delivery_status\"),\n",
    "            col(\"o.last_updated\"),\n",
    "            col(\"o.ingestion_timestamp\"),\n",
    "        )\n",
    "        .withColumn(\"start_date\", current_timestamp())\n",
    "        .withColumn(\"end_date\", lit(None).cast(\"timestamp\"))\n",
    "        .withColumn(\"is_current\", lit(True))\n",
    "        .withColumn(\"load_timestamp\", current_timestamp())\n",
    "    )\n",
    "\n",
    "    # === Merge / Create fact_sales ===\n",
    "    if not DeltaTable.isDeltaTable(spark, fact_sales_path):\n",
    "        print(\"Creating fact_sales table...\")\n",
    "        new_fact_sales.write.format(\"delta\").mode(\"overwrite\").option(\"overwriteSchema\", \"true\").save(fact_sales_path)\n",
    "\n",
    "        # Register in Hive Metastore\n",
    "        spark_sql_path = fact_sales_path.replace(\"\\\\\", \"/\")\n",
    "        spark.sql(f\"\"\"\n",
    "            CREATE TABLE IF NOT EXISTS fact_sales\n",
    "            USING DELTA\n",
    "            LOCATION '{spark_sql_path}'\n",
    "        \"\"\")\n",
    "        print(\"fact_sales table created.\")\n",
    "    else:\n",
    "        print(\"Merging new fact rows into fact_sales...\")\n",
    "        fact_sales = DeltaTable.forPath(spark, fact_sales_path)\n",
    "        (fact_sales.alias(\"t\")\n",
    "         .merge(\n",
    "             new_fact_sales.alias(\"s\"),\n",
    "             \"t.order_id = s.order_id AND t.transaction_id = s.transaction_id AND t.is_current = true\"\n",
    "         )\n",
    "         .whenMatchedUpdate(\n",
    "             condition=(\n",
    "                 \"t.total_amount <> s.total_amount OR \"\n",
    "                 \"t.quantity <> s.quantity OR \"\n",
    "                 \"t.order_status <> s.order_status OR \"\n",
    "                 \"t.delivery_status <> s.delivery_status\"\n",
    "             ),\n",
    "             set={\n",
    "                 \"end_date\": \"current_timestamp()\",\n",
    "                 \"is_current\": \"false\"\n",
    "             }\n",
    "         )\n",
    "         .whenNotMatchedInsertAll()\n",
    "         .execute()\n",
    "        )\n",
    "        print(\"fact_sales merged successfully.\")\n",
    "\n",
    "except Exception as e:\n",
    "    print(f\"Error while building fact_sales: {e}\")\n",
    "    # Auto-fix if schema mismatch\n",
    "    if os.path.exists(fact_sales_path):\n",
    "        print(\"Removing old fact_sales and retrying...\")\n",
    "        shutil.rmtree(fact_sales_path)\n",
    "        new_fact_sales.write.format(\"delta\").mode(\"overwrite\").option(\"overwriteSchema\", \"true\").save(fact_sales_path)\n",
    "        spark_sql_path = fact_sales_path.replace(\"\\\\\", \"/\")\n",
    "        spark.sql(f\"\"\"\n",
    "            CREATE TABLE IF NOT EXISTS fact_sales\n",
    "            USING DELTA\n",
    "            LOCATION '{spark_sql_path}'\n",
    "        \"\"\")\n",
    "        print(\"fact_sales recreated with fresh schema.\")\n",
    "    else:\n",
    "        raise\n"
   ]
  },
  {
   "cell_type": "code",
   "execution_count": 4,
   "id": "346855be",
   "metadata": {},
   "outputs": [
    {
     "name": "stdout",
     "output_type": "stream",
     "text": [
      "+-----------+-----------+-------------+------------+----------------+--------------------+--------+------------+--------------+-------------------+-------------------+-------------------+------------------+--------------------+---------------+--------------+------------+---------------+-------------------+--------------------+--------------------+--------+----------+--------------------+\n",
      "|customer_sk| product_sk|  customer_id|    order_id|  transaction_id|         delivery_id|quantity|total_amount|stock_quantity|        signup_date|         order_date|      delivery_date|         full_name|        product_name|       category|payment_method|order_status|delivery_status|       last_updated| ingestion_timestamp|          start_date|end_date|is_current|      load_timestamp|\n",
      "+-----------+-----------+-------------+------------+----------------+--------------------+--------+------------+--------------+-------------------+-------------------+-------------------+------------------+--------------------+---------------+--------------+------------+---------------+-------------------+--------------------+--------------------+--------+----------+--------------------+\n",
      "|      24330|17179880741|CUST-F9931D1D|ORD-000783A9|TXN-70497FB45DE0|df044148-8278-4b4...|       3|     2870.61|           212|2020-11-30 00:00:00|2021-04-03 00:00:00|2021-04-11 00:00:00|      Sydney Smith|   Beauty - Into 540|         Beauty|    Debit Card|   Delivered|     In Transit|2025-09-08 22:30:58|2025-09-26 16:54:...|2025-09-26 16:59:...|    NULL|      true|2025-09-26 16:59:...|\n",
      "|60129545361|25769814533|CUST-1E554F16|ORD-000A5437|TXN-214F5E7AF050|91603cd9-30bc-48d...|       4|     4921.24|           707|2021-06-27 00:00:00|2024-03-30 00:00:00|2024-04-05 00:00:00|   Christine Smith|Home & Kitchen - ...| Home & Kitchen|    Debit Card|     Pending|         Failed|2025-09-08 22:30:58|2025-09-26 16:54:...|2025-09-26 16:59:...|    NULL|      true|2025-09-26 16:59:...|\n",
      "|17179880553|60129551818|CUST-74CAA47E|ORD-000DE275|TXN-38111293DBBC|                NULL|       1|     1116.56|           808|2023-09-20 00:00:00|2021-05-31 00:00:00|               NULL|     Jonathan Chen|  Health - While 862|         Health|        PayPal|   Delivered|           NULL|2025-09-08 22:30:58|2025-09-26 16:54:...|2025-09-26 16:59:...|    NULL|      true|2025-09-26 16:59:...|\n",
      "|34359757672|25769806714|CUST-C6189ED3|ORD-000E688D|TXN-E4DED7D4CA55|f4bffc03-8c33-42c...|       1|     1184.11|           436|2023-12-18 00:00:00|2023-02-23 00:00:00|2023-03-03 00:00:00|      Amanda James|      Toys - Ago 455|           Toys|   Credit Card|     Shipped|      Preparing|2025-09-08 22:30:58|2025-09-26 16:54:...|2025-09-26 16:59:...|    NULL|      true|2025-09-26 16:59:...|\n",
      "|25769809740|42949697412|CUST-3F8D7C3D|ORD-00161597|TXN-CADFE3D8E11E|                NULL|       1|      1624.2|           774|2024-04-08 00:00:00|2021-05-31 00:00:00|               NULL|   Cristina Miller|Electronics - Aro...|    Electronics|   Credit Card|   Delivered|           NULL|2025-09-08 22:30:58|2025-09-26 16:54:...|2025-09-26 16:59:...|    NULL|      true|2025-09-26 16:59:...|\n",
      "|60129554783|60129558236|CUST-78227150|ORD-001BD2B7|TXN-F9CE6D0ECF03|5d968d80-066f-448...|       5|     7331.65|           942|2023-06-06 00:00:00|2025-03-21 00:00:00|2025-03-22 00:00:00|      Scott Thomas|   Health - They 312|         Health|          Cash|     Pending|        Shipped|2025-09-08 22:30:58|2025-09-26 16:54:...|2025-09-26 16:59:...|    NULL|      true|2025-09-26 16:59:...|\n",
      "|60129553787|34359747416|CUST-6E162787|ORD-001CFED4|TXN-4C9E000A4030|8b43e289-8c5e-435...|       4|     1262.68|           169|2021-06-02 00:00:00|2023-01-16 00:00:00|2023-01-18 00:00:00|    Heather Duncan|Clothing - Stock 991|       Clothing|           UPI|   Delivered|         Failed|2025-09-08 22:30:58|2025-09-26 16:54:...|2025-09-26 16:59:...|    NULL|      true|2025-09-26 16:59:...|\n",
      "|42949679293|34359751413|CUST-41A6F9E3|ORD-00218921|TXN-CA83A5D01255|4e4911b7-7e9c-4eb...|       4|      4762.8|           802|2025-02-10 00:00:00|2023-07-28 00:00:00|2023-08-05 00:00:00|Nicholas Henderson|Clothing - Future...|       Clothing|        PayPal|     Pending|        Shipped|2025-09-08 22:30:58|2025-09-26 16:54:...|2025-09-26 16:59:...|    NULL|      true|2025-09-26 16:59:...|\n",
      "|25769812657|60129542227|CUST-5DA34AFB|ORD-002A7C5B|TXN-1CC4C6C7C78B|dbe9b805-0744-4ac...|       1|      1608.6|           285|2021-12-27 00:00:00|2025-02-03 00:00:00|2025-02-06 00:00:00|   Brandon Alvarez|   Beauty - Find 694|         Beauty|          Cash|     Pending|     In Transit|2025-09-08 22:30:58|2025-09-26 16:54:...|2025-09-26 16:59:...|    NULL|      true|2025-09-26 16:59:...|\n",
      "|51539607588|51539612710|CUST-005A4168|ORD-002C170B|TXN-67962C53FBCA|                NULL|       3|     2846.46|           284|2021-05-29 00:00:00|2024-12-31 00:00:00|               NULL|    Rebecca Garcia|Jewelry - Weight 689|        Jewelry|   Credit Card|     Pending|           NULL|2025-09-08 22:30:58|2025-09-26 16:54:...|2025-09-26 16:59:...|    NULL|      true|2025-09-26 16:59:...|\n",
      "|42949688597|      20710|CUST-A24E2718|ORD-0039CE1D|TXN-8F76AD3791AD|2b3437ed-bc71-401...|       2|     3913.82|           636|2024-04-22 00:00:00|2024-01-30 00:00:00|2024-02-07 00:00:00|   Logan Hernandez|Automotive - Cult...|     Automotive|   Credit Card|   Cancelled|        Shipped|2025-09-08 22:30:58|2025-09-26 16:54:...|2025-09-26 16:59:...|    NULL|      true|2025-09-26 16:59:...|\n",
      "|60129560562|17179872533|CUST-AEE43906|ORD-004A88D2|TXN-1FC02759A17C|                NULL|       5|     3961.75|           797|2025-07-10 00:00:00|2025-06-21 00:00:00|               NULL|    Monica Johnson|       Toys - It 104|           Toys|           UPI|   Cancelled|           NULL|2025-09-08 22:30:58|2025-09-26 16:54:...|2025-09-26 16:59:...|    NULL|      true|2025-09-26 16:59:...|\n",
      "|      20434| 8589947066|CUST-D20CED3F|ORD-0050219C|TXN-E31E8CA4FB21|e3c17c36-ff14-48f...|       1|       701.5|           269|2025-03-14 00:00:00|2023-04-23 00:00:00|2023-05-02 00:00:00|  Brandon Phillips|Clothing - Human 680|       Clothing|        PayPal|   Cancelled|      Delivered|2025-09-08 22:30:58|2025-09-26 16:54:...|2025-09-26 16:59:...|    NULL|      true|2025-09-26 16:59:...|\n",
      "|17179871748|17179869995|CUST-1A52CA6D|ORD-005140C2|TXN-08B6F95098CB|                NULL|       2|     2918.62|           353|2024-09-12 00:00:00|2022-09-02 00:00:00|               NULL|    Danielle Myers|Home & Kitchen - ...| Home & Kitchen|           UPI|     Shipped|           NULL|2025-09-08 22:30:58|2025-09-26 16:54:...|2025-09-26 16:59:...|    NULL|      true|2025-09-26 16:59:...|\n",
      "|34359761390|51539610540|CUST-EB80C404|ORD-0058E5E6|TXN-BFA6713BFFDB|                NULL|       3|     3060.12|           460|2022-10-27 00:00:00|2021-12-08 00:00:00|               NULL| Elizabeth Stanton|Electronics - Ins...|    Electronics|   Credit Card|   Cancelled|           NULL|2025-09-08 22:30:58|2025-09-26 16:54:...|2025-09-26 16:59:...|    NULL|      true|2025-09-26 16:59:...|\n",
      "|51539609904|17179881438|CUST-1814D956|ORD-0066052D|TXN-A9811C1E30F6|8a4a8424-8481-47a...|       2|      1849.6|           226|2023-04-17 00:00:00|2023-11-19 00:00:00|2023-11-21 00:00:00|    David Gonzales|Home & Kitchen - ...| Home & Kitchen|           UPI|     Shipped|      Preparing|2025-09-08 22:30:58|2025-09-26 16:54:...|2025-09-26 16:59:...|    NULL|      true|2025-09-26 16:59:...|\n",
      "|42949685373|60129562877|CUST-80E56854|ORD-006A4375|TXN-F2D788F526BA|                NULL|       4|      6180.6|           694|2025-04-10 00:00:00|2022-10-10 00:00:00|               NULL|         Todd Hart|Beauty - Treatmen...|         Beauty|           UPI|   Cancelled|           NULL|2025-09-08 22:30:58|2025-09-26 16:54:...|2025-09-26 16:59:...|    NULL|      true|2025-09-26 16:59:...|\n",
      "|17179878154| 8589942522|CUST-5CFB4948|ORD-006BA92E|TXN-0CD29D2D1E6C|                NULL|       2|       183.5|           601|2021-02-18 00:00:00|2020-10-17 00:00:00|               NULL|Cassandra Whitaker|      Books - No 312|          Books|   Credit Card|   Cancelled|           NULL|2025-09-08 22:30:58|2025-09-26 16:54:...|2025-09-26 16:59:...|    NULL|      true|2025-09-26 16:59:...|\n",
      "|60129568058|60129557979|CUST-F47D17D0|ORD-006C9954|TXN-B0B1A466C8F8|f8d21cb3-8e6c-4b1...|       1|      559.69|           468|2021-07-31 00:00:00|2021-12-16 00:00:00|2021-12-25 00:00:00|    Annette Hudson|Office Supplies -...|Office Supplies|    Debit Card|     Shipped|        Shipped|2025-09-08 22:30:58|2025-09-26 16:54:...|2025-09-26 16:59:...|    NULL|      true|2025-09-26 16:59:...|\n",
      "|51539619253|60129552424|CUST-7801A681|ORD-006F7100|TXN-C3B326C16C24|757e50f7-2670-4c1...|       5|     1377.55|           930|2021-06-25 00:00:00|2021-12-23 00:00:00|2021-12-29 00:00:00|    Joshua Johnson|  Sports - Alone 817|         Sports|           UPI|     Pending|        Shipped|2025-09-08 22:30:58|2025-09-26 16:54:...|2025-09-26 16:59:...|    NULL|      true|2025-09-26 16:59:...|\n",
      "+-----------+-----------+-------------+------------+----------------+--------------------+--------+------------+--------------+-------------------+-------------------+-------------------+------------------+--------------------+---------------+--------------+------------+---------------+-------------------+--------------------+--------------------+--------+----------+--------------------+\n",
      "only showing top 20 rows\n",
      "\n"
     ]
    }
   ],
   "source": [
    "df = spark.read.format(\"delta\").load(f\"C:\\\\Users\\\\User\\\\Desktop\\\\E-Commerce Data Lakaehouse with AI-Powered Self-Healing Pipelines\\\\Gold_layer\\\\Gold_data\\\\fact_sales\\\\data\")\n",
    "df.createOrReplaceTempView(\"fact_sales\")\n",
    "\n",
    "spark.sql(\"SELECT * FROM fact_sales\").show()"
   ]
  },
  {
   "cell_type": "code",
   "execution_count": 5,
   "id": "81663f89",
   "metadata": {},
   "outputs": [
    {
     "name": "stdout",
     "output_type": "stream",
     "text": [
      "Total records in fact table: 83532\n"
     ]
    }
   ],
   "source": [
    "fact_sales = DeltaTable.forPath(spark, fact_sales_path)\n",
    "\n",
    "# Convert to DataFrame\n",
    "fact_sales_df = fact_sales.toDF()\n",
    "\n",
    "fact_count = fact_sales_df.count()\n",
    "print(f\"Total records in fact table: {fact_count}\")"
   ]
  },
  {
   "cell_type": "code",
   "execution_count": 6,
   "id": "7ce5025e",
   "metadata": {},
   "outputs": [
    {
     "name": "stdout",
     "output_type": "stream",
     "text": [
      "+-----------------+----------------+-----------------+--------------+--------------------+-----------------+--------------+------------------+--------------------+-----------------+----------------+-------------------+---------------+------------------+--------------+--------------------+------------------+---------------------+------------------+-------------------------+----------------+--------------+----------------+--------------------+\n",
      "|customer_sk_nulls|product_sk_nulls|customer_id_nulls|order_id_nulls|transaction_id_nulls|delivery_id_nulls|quantity_nulls|total_amount_nulls|stock_quantity_nulls|signup_date_nulls|order_date_nulls|delivery_date_nulls|full_name_nulls|product_name_nulls|category_nulls|payment_method_nulls|order_status_nulls|delivery_status_nulls|last_updated_nulls|ingestion_timestamp_nulls|start_date_nulls|end_date_nulls|is_current_nulls|load_timestamp_nulls|\n",
      "+-----------------+----------------+-----------------+--------------+--------------------+-----------------+--------------+------------------+--------------------+-----------------+----------------+-------------------+---------------+------------------+--------------+--------------------+------------------+---------------------+------------------+-------------------------+----------------+--------------+----------------+--------------------+\n",
      "|0                |0               |0                |0             |0                   |29845            |0             |0                 |0                   |0                |0               |29845              |0              |0                 |0             |0                   |0                 |29845                |0                 |0                        |0               |83532         |0               |0                   |\n",
      "+-----------------+----------------+-----------------+--------------+--------------------+-----------------+--------------+------------------+--------------------+-----------------+----------------+-------------------+---------------+------------------+--------------+--------------------+------------------+---------------------+------------------+-------------------------+----------------+--------------+----------------+--------------------+\n",
      "\n"
     ]
    }
   ],
   "source": [
    "from pyspark.sql.functions import col, when, sum\n",
    "\n",
    "# Convert to DataFrame first\n",
    "fact_sales_df = fact_sales.toDF()\n",
    "\n",
    "null_counts = fact_sales_df.select([\n",
    "    sum(when(col(c).isNull(), 1).otherwise(0)).alias(c + \"_nulls\")\n",
    "    for c in fact_sales_df.columns\n",
    "])\n",
    "\n",
    "null_counts.show(truncate=False)\n"
   ]
  }
 ],
 "metadata": {
  "kernelspec": {
   "display_name": "Python 3",
   "language": "python",
   "name": "python3"
  },
  "language_info": {
   "codemirror_mode": {
    "name": "ipython",
    "version": 3
   },
   "file_extension": ".py",
   "mimetype": "text/x-python",
   "name": "python",
   "nbconvert_exporter": "python",
   "pygments_lexer": "ipython3",
   "version": "3.10.11"
  }
 },
 "nbformat": 4,
 "nbformat_minor": 5
}
