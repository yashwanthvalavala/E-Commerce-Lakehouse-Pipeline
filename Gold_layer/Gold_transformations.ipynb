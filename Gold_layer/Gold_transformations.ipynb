{
 "cells": [
  {
   "cell_type": "code",
   "execution_count": 2,
   "id": "0e0b84f4",
   "metadata": {},
   "outputs": [],
   "source": [
    "from pyspark.sql import SparkSession\n",
    "import delta\n",
    "\n",
    "builder = (\n",
    "    SparkSession.builder\n",
    "    .appName(\"DeltaWithPip\")\n",
    "    .master(\"local[*]\")\n",
    "    .config(\"spark.sql.extensions\", \"io.delta.sql.DeltaSparkSessionExtension\")\n",
    "    .config(\"spark.sql.catalog.spark_catalog\", \"org.apache.spark.sql.delta.catalog.DeltaCatalog\")\n",
    ")\n",
    "\n",
    "spark = delta.configure_spark_with_delta_pip(builder).getOrCreate()\n",
    "\n"
   ]
  },
  {
   "cell_type": "code",
   "execution_count": 3,
   "id": "861d4228",
   "metadata": {},
   "outputs": [],
   "source": [
    "base_silver_path = r\"C:\\Users\\User\\Desktop\\E-Commerce Data Lakaehouse with AI-Powered Self-Healing Pipelines\\silver_layer\\silver_data\"\n",
    "base_gold_path  = r\"C:\\Users\\User\\Desktop\\E-Commerce Data Lakaehouse with AI-Powered Self-Healing Pipelines\\Gold_layer\\Gold_data\"\n",
    "# Load Silver tables\n",
    "silver_customers = spark.read.format(\"delta\").load(f\"{base_silver_path}\\\\customers\\\\data\")\n",
    "silver_products  = spark.read.format(\"delta\").load(f\"{base_silver_path}\\\\products\\\\data\")\n",
    "silver_orders    = spark.read.format(\"delta\").load(f\"{base_silver_path}\\\\orders\\\\data\")\n",
    "silver_deliveries= spark.read.format(\"delta\").load(f\"{base_silver_path}\\\\deliveries\\\\data\")"
   ]
  },
  {
   "cell_type": "markdown",
   "id": "647b0933",
   "metadata": {},
   "source": [
    "Creating initial DIM_customers "
   ]
  },
  {
   "cell_type": "code",
   "execution_count": 4,
   "id": "27b9fb63",
   "metadata": {},
   "outputs": [],
   "source": [
    "from pyspark.sql import functions as f \n",
    "from pyspark.sql.window import Window\n",
    "\n",
    "window = Window.partitionBy(\"customer_id\").orderBy(f.col(\"last_updated\").desc())\n",
    "\n",
    "# adding surrogate keys and SCD2 columns\n",
    "gold_dim_customers = silver_customers.withColumn(\"row_number\",f.row_number().over(window))\\\n",
    "                                     .withColumn(\"is_current\",f.when(f.col(\"row_number\")==1,\"Y\").otherwise(\"N\"))\\\n",
    "                                     .withColumn(\"start_date\", f.col(\"last_updated\")) \\\n",
    "                                     .withColumn(\"end_date\", f.lit(None)) \\\n",
    "                                     .withColumn(\"customer_sk\", f.monotonically_increasing_id()) \\\n",
    "                                     .drop(\"row_number\")\n",
    "\n",
    "gold_dim_customers = gold_dim_customers.select(\n",
    "    \"customer_sk\",\n",
    "    \"customer_id\",\n",
    "    \"first_name\",\n",
    "    \"last_name\",\n",
    "    \"full_name\",\n",
    "    \"email\",\n",
    "    \"phone\",\n",
    "    \"address\",\n",
    "    \"city\",\n",
    "    \"country\",\n",
    "    \"signup_date\",\n",
    "    \"start_date\",\n",
    "    \"end_date\",\n",
    "    \"is_current\",\n",
    "    \"last_updated\",\n",
    "    \"ingestion_timestamp\"\n",
    ")\n"
   ]
  },
  {
   "cell_type": "markdown",
   "id": "db4bbe09",
   "metadata": {},
   "source": [
    "start_date / end_date → responsible for SCD2 (tracking history)\n",
    "\n",
    "is_current → can be used for SCD1-style updates (identifying the current/active record)"
   ]
  },
  {
   "cell_type": "markdown",
   "id": "111d02b4",
   "metadata": {},
   "source": [
    "Why end date for SCD-2 ?\n",
    "\n",
    "let me justify lets keep start_date aside for now we will more specify end_date here ok so whats my idea is at initial load the end date is NUL so when the new data comes in the previous batch data end date will be updated to current time stamp and new data end date will be null this will work iteratively"
   ]
  },
  {
   "cell_type": "code",
   "execution_count": 5,
   "id": "c84841a7",
   "metadata": {},
   "outputs": [
    {
     "name": "stdout",
     "output_type": "stream",
     "text": [
      "+-----------+--------------------+----------+---------+-----------------+--------------------+----------+--------------------+-------------------+--------------------+-------------------+-------------------+--------+----------+-------------------+--------------------+\n",
      "|customer_sk|         customer_id|first_name|last_name|        full_name|               email|     phone|             address|               city|             country|        signup_date|         start_date|end_date|is_current|       last_updated| ingestion_timestamp|\n",
      "+-----------+--------------------+----------+---------+-----------------+--------------------+----------+--------------------+-------------------+--------------------+-------------------+-------------------+--------+----------+-------------------+--------------------+\n",
      "|          0|000c883c-da36-44c...|  Courtney|   Nelson|  Courtney Nelson|courtney.nelson@g...|8111079488|  5558 Amanda Meadow|         New Lauren|              Cyprus|2025-02-24 00:00:00|2025-09-08 22:53:24|    NULL|         Y|2025-09-08 22:53:24|2025-09-26 18:36:...|\n",
      "|          1|001063db-b75c-4f2...|    Denise|   Mathis|    Denise Mathis|denise.mathis@yah...|8070821526|364 Samuel Summit...|   West Alexishaven|           Sri Lanka|2024-07-19 00:00:00|2025-09-08 22:53:24|    NULL|         Y|2025-09-08 22:53:24|2025-09-26 18:36:...|\n",
      "|          2|00355828-8710-470...|    Nicole|  Wiggins|   Nicole Wiggins|nicole.wiggins@gm...|4903707108| 680 Bill Expressway|         Barnesstad|             Nigeria|2024-05-23 00:00:00|2025-09-08 22:53:29|    NULL|         Y|2025-09-08 22:53:29|2025-09-26 18:36:...|\n",
      "|          3|003d0106-73e6-430...|      Tina|     Shaw|        Tina Shaw| tina.shaw@yahoo.com|8276165685| 775 Navarro Village|        East Rachel|             Eritrea|2025-05-05 00:00:00|2025-09-08 22:53:22|    NULL|         Y|2025-09-08 22:53:22|2025-09-26 18:36:...|\n",
      "|          4|00480c34-91e1-491...|   Rebecca|     Cain|     Rebecca Cain|rebecca.cain@hotm...|4801205443|  96748 Bowers Drive|      East Nicholas|Holy See (Vatican...|2024-09-24 00:00:00|2025-09-08 22:53:22|    NULL|         Y|2025-09-08 22:53:22|2025-09-26 18:36:...|\n",
      "|          5|0062c413-f378-4a1...|   Zachary|   Romero|   Zachary Romero|zachary.romero@gm...|9357550559|40069 Amanda Trac...|       Lake Lindsay|     Kyrgyz Republic|2025-08-10 00:00:00|2025-09-08 22:53:17|    NULL|         Y|2025-09-08 22:53:17|2025-09-26 18:36:...|\n",
      "|          6|00709cc1-014a-449...|  Jennifer|  Cameron| Jennifer Cameron|jennifer.cameron@...|2412728468|771 Ariana Course...|          Olsontown|        South Africa|2023-09-10 00:00:00|2025-09-08 22:53:19|    NULL|         Y|2025-09-08 22:53:19|2025-09-26 18:36:...|\n",
      "|          7|00ab7e13-6d1a-439...|     Jerry|   Miller|     Jerry Miller|jerry.miller@gmai...|0799384007|   00859 Chavez Glen|        Parrishport|         Afghanistan|2025-06-25 00:00:00|2025-09-08 22:53:23|    NULL|         Y|2025-09-08 22:53:23|2025-09-26 18:36:...|\n",
      "|          8|00b26b2f-4f30-451...|    Arthur|Rodriguez| Arthur Rodriguez|arthur.rodriguez@...|9267063025|    982 Herrera Pike|        Lake Calvin|               Yemen|2024-01-29 00:00:00|2025-09-08 22:53:24|    NULL|         Y|2025-09-08 22:53:24|2025-09-26 18:36:...|\n",
      "|          9|00b2ba71-ca96-488...|      Adam|   Garcia|      Adam Garcia|adam.garcia@gmail...|0030247292|03974 Montgomery ...|           New Tina|Falkland Islands ...|2024-06-01 00:00:00|2025-09-08 22:53:16|    NULL|         Y|2025-09-08 22:53:16|2025-09-26 18:36:...|\n",
      "|         10|00bc6d44-b32e-49b...|     Julie|    Green|      Julie Green|julie.green@hotma...|9233810504|792 Jenna Glen Su...|          Ericmouth|            Ethiopia|2025-01-17 00:00:00|2025-09-08 22:53:19|    NULL|         Y|2025-09-08 22:53:19|2025-09-26 18:36:...|\n",
      "|         11|00c47f7e-aece-4e1...|     Marie|    Moore|      Marie Moore|marie.moore@yahoo...|4587673755|204 Garcia Land A...|  New Nicholasshire|          Azerbaijan|2024-05-04 00:00:00|2025-09-08 22:53:27|    NULL|         Y|2025-09-08 22:53:27|2025-09-26 18:36:...|\n",
      "|         12|00d7e947-d9f5-468...|      Dawn|    Smith|       Dawn Smith|dawn.smith@yahoo.com|2295314392|    7840 Ronnie Mall|         East Brian|              Monaco|2025-08-21 00:00:00|2025-09-08 22:53:33|    NULL|         Y|2025-09-08 22:53:33|2025-09-26 18:36:...|\n",
      "|         13|00e09015-f95d-4f5...|    Andrew|    Pitts|     Andrew Pitts|andrew.pitts@yaho...|3686429636|     9371 Reed Flats|         Kevinmouth|   Equatorial Guinea|2025-08-25 00:00:00|2025-09-08 22:53:16|    NULL|         Y|2025-09-08 22:53:16|2025-09-26 18:36:...|\n",
      "|         14|00e26ed8-6646-4e9...|   William|    Davis|    William Davis|william.davis@yah...|7148875275|5974 Brett Trail ...|     Port Karashire|           Swaziland|2024-10-26 00:00:00|2025-09-08 22:53:23|    NULL|         Y|2025-09-08 22:53:23|2025-09-26 18:36:...|\n",
      "|         15|00e555e9-ab63-4fc...|    Curtis|Jefferson| Curtis Jefferson|curtis.jefferson@...|1477995064|55632 Andrews Gat...|           Tranberg|              Malawi|2025-08-20 00:00:00|2025-09-08 22:53:18|    NULL|         Y|2025-09-08 22:53:18|2025-09-26 18:36:...|\n",
      "|         16|00e86299-bec6-406...|  Kathleen| Mitchell|Kathleen Mitchell|kathleen.mitchell...|5456385251|058 Bryan Vista A...|     Stephaniemouth|             Germany|2025-06-17 00:00:00|2025-09-08 22:53:23|    NULL|         Y|2025-09-08 22:53:23|2025-09-26 18:36:...|\n",
      "|         17|00ec3403-4bf5-413...|   Derrick|    Russo|    Derrick Russo|derrick.russo@yah...|7906931301|782 Rice Ford Apt...|      New Jamesside|        Saint Martin|2024-04-26 00:00:00|2025-09-08 22:53:19|    NULL|         Y|2025-09-08 22:53:19|2025-09-26 18:36:...|\n",
      "|         18|00fa7d0f-4ece-44c...|    Robert|    Mason|     Robert Mason|robert.mason@gmai...|9222693913|98494 Matthew Hig...|South Sherriborough|           Indonesia|2024-02-04 00:00:00|2025-09-08 22:53:18|    NULL|         Y|2025-09-08 22:53:18|2025-09-26 18:36:...|\n",
      "|         19|0103ce0b-5b14-4ca...|      Jane|   Ortega|      Jane Ortega|jane.ortega@hotma...|6280872836| 26677 Pamela Forest|     Blanchardhaven|        Saudi Arabia|2024-01-23 00:00:00|2025-09-08 22:53:27|    NULL|         Y|2025-09-08 22:53:27|2025-09-26 18:36:...|\n",
      "+-----------+--------------------+----------+---------+-----------------+--------------------+----------+--------------------+-------------------+--------------------+-------------------+-------------------+--------+----------+-------------------+--------------------+\n",
      "only showing top 20 rows\n",
      "\n"
     ]
    }
   ],
   "source": [
    "gold_dim_customers.show()\n"
   ]
  },
  {
   "cell_type": "markdown",
   "id": "dec1751e",
   "metadata": {},
   "source": [
    "Creating DIM_products"
   ]
  },
  {
   "cell_type": "code",
   "execution_count": 6,
   "id": "d8f26be9",
   "metadata": {},
   "outputs": [],
   "source": [
    "from pyspark.sql import functions as f\n",
    "from pyspark.sql.window import Window\n",
    "\n",
    "# Define window per product to order by last_updated (latest first)\n",
    "product_window = Window.partitionBy(\"product_id\").orderBy(f.col(\"last_updated\").desc())\n",
    "\n",
    "\n",
    "# define Surrogate Keys and SCD2 columns\n",
    "gold_dim_products = silver_products.withColumn(\"row_number\", f.row_number().over(product_window)) \\\n",
    "                                   .withColumn(\"is_current\", f.when(f.col(\"row_number\") == 1, \"Y\").otherwise(\"N\")) \\\n",
    "                                   .withColumn(\"start_date\", f.col(\"last_updated\")) \\\n",
    "                                   .withColumn(\"end_date\", f.lit(None)) \\\n",
    "                                   .withColumn(\"product_sk\", f.monotonically_increasing_id()) \\\n",
    "                                   .drop(\"row_number\")\n",
    "\n",
    "\n",
    "gold_dim_products = gold_dim_products.select(\n",
    "    \"product_sk\",\n",
    "    \"product_id\",\n",
    "    \"name\",\n",
    "    \"category\",\n",
    "    \"price\",\n",
    "    \"stock_quantity\",\n",
    "    \"created_at\",\n",
    "    \"start_date\",\n",
    "    \"end_date\",\n",
    "    \"is_current\",\n",
    "    \"last_updated\",\n",
    "    \"ingestion_timestamp\"\n",
    ")"
   ]
  },
  {
   "cell_type": "markdown",
   "id": "2275db07",
   "metadata": {},
   "source": [
    "row_number() → Marks the latest record per product\n",
    "\n",
    "is_current → Y for latest, N for historical\n",
    "\n",
    "start_date → When this version became active\n",
    "\n",
    "end_date → NULL for now, will be updated during incremental loads\n",
    "\n",
    "product_sk → Unique surrogate key"
   ]
  },
  {
   "cell_type": "code",
   "execution_count": 7,
   "id": "e4a70b20",
   "metadata": {},
   "outputs": [
    {
     "name": "stdout",
     "output_type": "stream",
     "text": [
      "+----------+--------------------+-----------------+---------------+-------+--------------+----------+-------------------+--------+----------+-------------------+--------------------+\n",
      "|product_sk|          product_id|             name|       category|  price|stock_quantity|created_at|         start_date|end_date|is_current|       last_updated| ingestion_timestamp|\n",
      "+----------+--------------------+-----------------+---------------+-------+--------------+----------+-------------------+--------+----------+-------------------+--------------------+\n",
      "|         0|0001ffa9-0541-4e3...|     With Edition|         Beauty|1159.12|           300|2025-06-18|2025-09-08 22:54:54|    NULL|         Y|2025-09-08 22:54:54|2025-09-26 18:36:...|\n",
      "|         1|00139db0-ae53-457...|  Teacher Edition|Home Appliances|1032.01|           207|2025-05-06|2025-09-08 22:54:54|    NULL|         Y|2025-09-08 22:54:54|2025-09-26 18:36:...|\n",
      "|         2|004403ca-a79a-413...| Environment Lite|          Books|1117.05|           148|2024-01-11|2025-09-08 22:54:51|    NULL|         Y|2025-09-08 22:54:51|2025-09-26 18:36:...|\n",
      "|         3|00473f64-f3d1-46e...|Newspaper Edition|    Electronics| 159.26|           376|2024-10-26|2025-09-08 22:54:52|    NULL|         Y|2025-09-08 22:54:52|2025-09-26 18:36:...|\n",
      "|         4|0057410e-aa9d-4ec...|        Study Pro|         Beauty| 495.91|            84|2025-04-07|2025-09-08 22:54:53|    NULL|         Y|2025-09-08 22:54:53|2025-09-26 18:36:...|\n",
      "|         5|005b4111-5023-440...|    Along Edition|           Toys|1047.74|           323|2023-09-18|2025-09-08 22:54:51|    NULL|         Y|2025-09-08 22:54:51|2025-09-26 18:36:...|\n",
      "|         6|00a64369-f331-489...|        Cause Pro|         Sports| 300.96|           223|2025-04-22|2025-09-08 22:54:53|    NULL|         Y|2025-09-08 22:54:53|2025-09-26 18:36:...|\n",
      "|         7|00a9f322-8f9b-451...|         Look Set|         Sports|1355.23|           156|2024-05-26|2025-09-08 22:54:51|    NULL|         Y|2025-09-08 22:54:51|2025-09-26 18:36:...|\n",
      "|         8|00aa0ff8-a941-447...|       Health Pro|        Fashion| 828.09|           192|2023-11-11|2025-09-08 22:54:52|    NULL|         Y|2025-09-08 22:54:52|2025-09-26 18:36:...|\n",
      "|         9|00ae8514-f091-41d...|     Prepare Lite|           Toys|1875.13|            70|2025-02-27|2025-09-08 22:54:51|    NULL|         Y|2025-09-08 22:54:51|2025-09-26 18:36:...|\n",
      "|        10|00c8cc16-dcdb-46e...|        Adult Pro|         Beauty| 785.71|           277|2024-05-11|2025-09-08 22:54:52|    NULL|         Y|2025-09-08 22:54:52|2025-09-26 18:36:...|\n",
      "|        11|00e5c469-331f-455...|        Song Lite|         Sports|1292.23|           483|2024-11-08|2025-09-08 22:54:51|    NULL|         Y|2025-09-08 22:54:51|2025-09-26 18:36:...|\n",
      "|        12|00e8f54c-fb82-429...|      Far Edition|           Toys| 128.17|           262|2024-06-19|2025-09-08 22:54:53|    NULL|         Y|2025-09-08 22:54:53|2025-09-26 18:36:...|\n",
      "|        13|00ebfb7a-09cb-446...|International Max|      Groceries| 451.52|            90|2024-07-31|2025-09-08 22:54:52|    NULL|         Y|2025-09-08 22:54:52|2025-09-26 18:36:...|\n",
      "|        14|0103f996-2eab-465...|          May Pro|          Books| 685.02|           139|2025-01-31|2025-09-08 22:54:51|    NULL|         Y|2025-09-08 22:54:51|2025-09-26 18:36:...|\n",
      "|        15|01097aaf-b8e5-47c...|       Degree Max|Home Appliances|1836.59|           118|2025-01-23|2025-09-08 22:54:51|    NULL|         Y|2025-09-08 22:54:51|2025-09-26 18:36:...|\n",
      "|        16|010d1e4d-c52d-419...|       Could Plus|           Toys| 576.24|           400|2023-10-23|2025-09-08 22:54:52|    NULL|         Y|2025-09-08 22:54:52|2025-09-26 18:36:...|\n",
      "|        17|012d192a-bfd1-470...|       Local Lite|        Fashion|  60.24|           156|2025-04-28|2025-09-08 22:54:53|    NULL|         Y|2025-09-08 22:54:53|2025-09-26 18:36:...|\n",
      "|        18|012f9d63-9695-4aa...|    Religious Max|         Beauty|1147.79|           481|2024-07-12|2025-09-08 22:54:53|    NULL|         Y|2025-09-08 22:54:53|2025-09-26 18:36:...|\n",
      "|        19|0133b253-ebe2-44a...|      Include Pro|        Fashion|1258.02|            38|2024-02-05|2025-09-08 22:54:52|    NULL|         Y|2025-09-08 22:54:52|2025-09-26 18:36:...|\n",
      "+----------+--------------------+-----------------+---------------+-------+--------------+----------+-------------------+--------+----------+-------------------+--------------------+\n",
      "only showing top 20 rows\n",
      "\n"
     ]
    }
   ],
   "source": [
    "gold_dim_products.show()"
   ]
  },
  {
   "cell_type": "markdown",
   "id": "05bc4f2e",
   "metadata": {},
   "source": [
    "Creating dim_orders tables"
   ]
  },
  {
   "cell_type": "markdown",
   "id": "daccc6de",
   "metadata": {},
   "source": [
    "partitionBy(\"order_id\") → Groups rows per order\n",
    "\n",
    "orderBy(last_updated.desc()) → Latest order update first"
   ]
  },
  {
   "cell_type": "code",
   "execution_count": 8,
   "id": "d401aa9e",
   "metadata": {},
   "outputs": [],
   "source": [
    "from pyspark.sql import functions as f\n",
    "from pyspark.sql.window import Window\n",
    "\n",
    "# Window per order to get latest update first\n",
    "order_window = Window.partitionBy(\"order_id\").orderBy(f.col(\"last_updated\").desc())\n",
    "\n",
    "# define Surrogate Keys and SCD2 columns\n",
    "gold_dim_orders = silver_orders.withColumn(\"row_number\", f.row_number().over(order_window)) \\\n",
    "                               .withColumn(\"is_current\", f.when(f.col(\"row_number\") == 1, \"Y\").otherwise(\"N\")) \\\n",
    "                               .withColumn(\"start_date\", f.col(\"last_updated\")) \\\n",
    "                               .withColumn(\"end_date\", f.lit(None)) \\\n",
    "                               .withColumn(\"order_sk\", f.monotonically_increasing_id()) \\\n",
    "                               .drop(\"row_number\")\n",
    "\n",
    "\n",
    "gold_dim_orders = gold_dim_orders.select(\n",
    "    \"order_sk\",\n",
    "    \"order_id\",\n",
    "    \"transaction_id\",\n",
    "    \"customer_id\",\n",
    "    \"product_id\",\n",
    "    \"quantity\",\n",
    "    \"total_amount\",\n",
    "    \"order_date\",\n",
    "    \"payment_method\",\n",
    "    \"order_status\",\n",
    "    \"start_date\",\n",
    "    \"end_date\",\n",
    "    \"is_current\",\n",
    "    \"last_updated\",\n",
    "    \"ingestion_timestamp\"\n",
    ")\n"
   ]
  },
  {
   "cell_type": "code",
   "execution_count": 9,
   "id": "6fd55bcd",
   "metadata": {},
   "outputs": [
    {
     "name": "stdout",
     "output_type": "stream",
     "text": [
      "+--------+--------------------+--------------------+-------------+------------+--------+------------+-------------------+--------------+------------+-------------------+--------+----------+-------------------+--------------------+\n",
      "|order_sk|            order_id|      transaction_id|  customer_id|  product_id|quantity|total_amount|         order_date|payment_method|order_status|         start_date|end_date|is_current|       last_updated| ingestion_timestamp|\n",
      "+--------+--------------------+--------------------+-------------+------------+--------+------------+-------------------+--------------+------------+-------------------+--------+----------+-------------------+--------------------+\n",
      "|       0|00051a32-68e1-4e2...|a19b9d6a-94e6-49d...|CUST-B0A096BD|PRD-6A61527D|       3|     3477.36|2024-10-07 00:00:00|        PayPal|     Pending|2025-09-08 23:02:13|    NULL|         Y|2025-09-08 23:02:13|2025-09-26 18:36:...|\n",
      "|       1|00207f17-5b07-42d...|a3a7d724-45d5-4ef...|CUST-B14FCDE7|PRD-CDEF1DDF|       5|     9383.45|2024-04-14 00:00:00|          Cash|     Shipped|2025-09-08 23:00:42|    NULL|         Y|2025-09-08 23:00:42|2025-09-26 18:36:...|\n",
      "|       2|00221bbf-355c-41d...|ae9ca35e-5899-45a...|CUST-9E5AEA65|PRD-E9E6A1E9|       3|     3608.79|2023-12-30 00:00:00|        PayPal|     Shipped|2025-09-08 23:02:37|    NULL|         Y|2025-09-08 23:02:37|2025-09-26 18:36:...|\n",
      "|       3|00430251-7e99-429...|acdc72ed-940b-48e...|CUST-F69ED3DC|PRD-BD099D99|       3|     5354.64|2025-05-11 00:00:00|        PayPal|   Cancelled|2025-09-08 23:02:16|    NULL|         Y|2025-09-08 23:02:16|2025-09-26 18:36:...|\n",
      "|       4|004d1849-d033-4ca...|e5227995-9c85-486...|CUST-0A59A26B|PRD-A7F9F4AC|       2|     3231.88|2025-04-10 00:00:00|          Cash|     Shipped|2025-09-08 23:00:16|    NULL|         Y|2025-09-08 23:00:16|2025-09-26 18:36:...|\n",
      "|       5|0059dd52-bd83-452...|e316e685-3311-429...|CUST-68B392B5|PRD-D6898990|       4|     2897.76|2024-04-13 00:00:00|           UPI|   Cancelled|2025-09-08 23:01:12|    NULL|         Y|2025-09-08 23:01:12|2025-09-26 18:36:...|\n",
      "|       6|005c7056-ad40-407...|2e243bf6-1262-4fc...|CUST-F8FA0716|PRD-F4BC6802|       3|     3932.91|2025-07-31 00:00:00|        PayPal|     Pending|2025-09-08 23:00:50|    NULL|         Y|2025-09-08 23:00:50|2025-09-26 18:36:...|\n",
      "|       7|00619a4a-8b95-4c7...|04063f0c-00c9-4a3...|CUST-738682C6|PRD-85C89F41|       1|      1299.0|2025-05-03 00:00:00|        PayPal|   Delivered|2025-09-08 23:02:09|    NULL|         Y|2025-09-08 23:02:09|2025-09-26 18:36:...|\n",
      "|       8|0065c222-1bcc-48f...|42df4160-253c-4ab...|CUST-16304D22|PRD-257B98AE|       2|     2921.98|2025-05-03 00:00:00|           UPI|   Delivered|2025-09-08 23:01:34|    NULL|         Y|2025-09-08 23:01:34|2025-09-26 18:36:...|\n",
      "|       9|006dd36c-8bbb-43e...|d49deea3-5dd6-4d0...|CUST-8F2CE313|PRD-77817F4C|       5|     3864.75|2024-07-18 00:00:00|           UPI|     Pending|2025-09-08 23:02:41|    NULL|         Y|2025-09-08 23:02:41|2025-09-26 18:36:...|\n",
      "|      10|0070857e-7ec6-49e...|056aeb18-1263-489...|CUST-CCE2D847|PRD-B3E58DF4|       5|     8563.65|2025-08-06 00:00:00|    Debit Card|     Pending|2025-09-08 23:03:05|    NULL|         Y|2025-09-08 23:03:05|2025-09-26 18:36:...|\n",
      "|      11|0077fb0a-9c5f-461...|7421e719-c3bb-416...|CUST-EC6863F2|PRD-BAE24040|       5|      2613.1|2024-07-16 00:00:00|    Debit Card|     Pending|2025-09-08 23:00:21|    NULL|         Y|2025-09-08 23:00:21|2025-09-26 18:36:...|\n",
      "|      12|007a5f02-4992-420...|447817f2-bab3-410...|CUST-2142E72E|PRD-E0D482FD|       1|     1218.96|2025-03-01 00:00:00|        PayPal|     Shipped|2025-09-08 23:01:46|    NULL|         Y|2025-09-08 23:01:46|2025-09-26 18:36:...|\n",
      "|      13|007f0271-a162-414...|6f5b039c-0e22-4d7...|CUST-33851610|PRD-28A34FE5|       5|      6517.1|2024-06-13 00:00:00|    Debit Card|     Shipped|2025-09-08 23:00:19|    NULL|         Y|2025-09-08 23:00:19|2025-09-26 18:36:...|\n",
      "|      14|008601ef-8b6d-413...|eaa64625-30a1-436...|CUST-41AA762F|PRD-4230CC5C|       5|     8116.25|2023-10-05 00:00:00|    Debit Card|     Shipped|2025-09-08 23:02:32|    NULL|         Y|2025-09-08 23:02:32|2025-09-26 18:36:...|\n",
      "|      15|0087e47b-7ca7-47a...|0db8fb45-52b5-441...|CUST-B1141377|PRD-05B2AF11|       3|     5928.12|2023-12-17 00:00:00|    Debit Card|     Pending|2025-09-08 23:03:11|    NULL|         Y|2025-09-08 23:03:11|2025-09-26 18:36:...|\n",
      "|      16|00952ded-9ad9-404...|5c6bbf59-893a-4fb...|CUST-FF3DE033|PRD-57AAD052|       5|      1192.8|2023-11-24 00:00:00|          Cash|     Shipped|2025-09-08 23:00:33|    NULL|         Y|2025-09-08 23:00:33|2025-09-26 18:36:...|\n",
      "|      17|00be1929-5767-4f0...|5dddc3eb-259c-442...|CUST-CCC43D67|PRD-9B80EB4D|       2|     3264.88|2025-08-19 00:00:00|           UPI|     Pending|2025-09-08 23:02:28|    NULL|         Y|2025-09-08 23:02:28|2025-09-26 18:36:...|\n",
      "|      18|00ca3ca4-72a2-464...|5799686f-f6b1-4ef...|CUST-FAF268F8|PRD-06628842|       4|     2034.08|2024-12-06 00:00:00|        PayPal|   Delivered|2025-09-08 23:01:31|    NULL|         Y|2025-09-08 23:01:31|2025-09-26 18:36:...|\n",
      "|      19|00cce303-190b-428...|6ca5ad9f-289c-467...|CUST-8162ACAC|PRD-9F977A64|       3|      535.68|2025-09-04 00:00:00|        PayPal|   Delivered|2025-09-08 23:01:33|    NULL|         Y|2025-09-08 23:01:33|2025-09-26 18:36:...|\n",
      "+--------+--------------------+--------------------+-------------+------------+--------+------------+-------------------+--------------+------------+-------------------+--------+----------+-------------------+--------------------+\n",
      "only showing top 20 rows\n",
      "\n"
     ]
    }
   ],
   "source": [
    "gold_dim_orders.show()"
   ]
  },
  {
   "cell_type": "markdown",
   "id": "82393046",
   "metadata": {},
   "source": [
    "Creating dim_deliveries"
   ]
  },
  {
   "cell_type": "code",
   "execution_count": 10,
   "id": "5356b53b",
   "metadata": {},
   "outputs": [],
   "source": [
    "from pyspark.sql import functions as f\n",
    "from pyspark.sql.window import Window\n",
    "\n",
    "# Window per delivery to get latest update first\n",
    "delivery_window = Window.partitionBy(\"delivery_id\").orderBy(f.col(\"last_updated\").desc())\n",
    "\n",
    "gold_dim_deliveries = silver_deliveries.withColumn(\"row_number\", f.row_number().over(delivery_window)) \\\n",
    "                                       .withColumn(\"is_current\", f.when(f.col(\"row_number\") == 1, \"Y\").otherwise(\"N\")) \\\n",
    "                                       .withColumn(\"start_date\", f.col(\"last_updated\")) \\\n",
    "                                       .withColumn(\"end_date\", f.lit(None)) \\\n",
    "                                       .withColumn(\"delivery_sk\", f.monotonically_increasing_id()) \\\n",
    "                                       .drop(\"row_number\")\n",
    "\n",
    "\n",
    "gold_dim_deliveries = gold_dim_deliveries.select(\n",
    "    \"delivery_sk\",\n",
    "    \"delivery_id\",\n",
    "    \"order_id\",\n",
    "    \"transaction_id\",\n",
    "    \"customer_id\",\n",
    "    \"customer_name\",\n",
    "    \"product_id\",\n",
    "    \"product_name\",\n",
    "    \"total_amount\",\n",
    "    \"payment_method\",\n",
    "    \"delivery_address\",\n",
    "    \"delivery_city\",\n",
    "    \"delivery_country\",\n",
    "    \"delivery_date\",\n",
    "    \"start_date\",\n",
    "    \"end_date\",\n",
    "    \"is_current\",\n",
    "    \"last_updated\",\n",
    "    \"ingestion_timestamp\"\n",
    ")\n"
   ]
  },
  {
   "cell_type": "code",
   "execution_count": 11,
   "id": "b17f386d",
   "metadata": {},
   "outputs": [
    {
     "name": "stdout",
     "output_type": "stream",
     "text": [
      "+-----------+--------------------+--------------------+--------------------+-------------+------------------+------------+--------------------+------------+--------------+--------------------+---------------+--------------------+-------------------+-------------------+--------+----------+-------------------+--------------------+\n",
      "|delivery_sk|         delivery_id|            order_id|      transaction_id|  customer_id|     customer_name|  product_id|        product_name|total_amount|payment_method|    delivery_address|  delivery_city|    delivery_country|      delivery_date|         start_date|end_date|is_current|       last_updated| ingestion_timestamp|\n",
      "+-----------+--------------------+--------------------+--------------------+-------------+------------------+------------+--------------------+------------+--------------+--------------------+---------------+--------------------+-------------------+-------------------+--------+----------+-------------------+--------------------+\n",
      "|          0|00050919-8137-420...|        ORD-240B4E42|    TXN-7FAE25E3564A|CUST-B08AA9E5|      Cameron Lowe|PRD-C2142833|Beauty - Usually 630|      7669.4|           UPI|27205 Brown Flats...| Christinashire|            Bulgaria|2023-06-28 00:00:00|2025-09-08 23:11:24|    NULL|         Y|2025-09-08 23:11:24|2025-09-26 18:36:...|\n",
      "|          1|000587d8-59b0-4a9...|        ORD-5501CB89|    TXN-99A577C5BA43|CUST-F1D25C73|Christopher Thomas|PRD-EEBF11CB|Home & Kitchen - ...|      2955.2|          Cash|     001 Dixon Wells|  East Brittany|              Sweden|2022-08-10 00:00:00|2025-09-08 22:39:27|    NULL|         Y|2025-09-08 22:39:27|2025-09-26 18:36:...|\n",
      "|          2|000587d8-59b0-4a9...|        ORD-5501CB89|    TXN-99A577C5BA43|CUST-F1D25C73|Christopher Thomas|PRD-EEBF11CB|Home & Kitchen - ...|      2955.2|          Cash|     001 Dixon Wells|  East Brittany|              Sweden|2022-08-10 00:00:00|2025-09-08 22:39:27|    NULL|         N|2025-09-08 22:39:27|2025-09-26 16:54:...|\n",
      "|          3|000587d8-59b0-4a9...|        ORD-5501CB89|    TXN-99A577C5BA43|CUST-F1D25C73|Christopher Thomas|PRD-EEBF11CB|Home & Kitchen - ...|      2955.2|          Cash|     001 Dixon Wells|  East Brittany|              Sweden|2022-08-10 00:00:00|2025-09-08 22:39:27|    NULL|         N|2025-09-08 22:39:27|2025-09-26 18:06:...|\n",
      "|          4|000587d8-59b0-4a9...|        ORD-5501CB89|    TXN-99A577C5BA43|CUST-F1D25C73|Christopher Thomas|PRD-EEBF11CB|Home & Kitchen - ...|      2955.2|          Cash|     001 Dixon Wells|  East Brittany|              Sweden|2022-08-10 00:00:00|2025-09-08 22:39:27|    NULL|         N|2025-09-08 22:39:27|2025-09-26 17:04:...|\n",
      "|          5|000587d8-59b0-4a9...|        ORD-5501CB89|    TXN-99A577C5BA43|CUST-F1D25C73|Christopher Thomas|PRD-EEBF11CB|Home & Kitchen - ...|      2955.2|          Cash|     001 Dixon Wells|  East Brittany|              Sweden|2022-08-10 00:00:00|2025-09-08 22:39:27|    NULL|         N|2025-09-08 22:39:27|2025-09-26 17:16:...|\n",
      "|          6|000587d8-59b0-4a9...|        ORD-5501CB89|    TXN-99A577C5BA43|CUST-F1D25C73|Christopher Thomas|PRD-EEBF11CB|Home & Kitchen - ...|      2955.2|          Cash|     001 Dixon Wells|  East Brittany|              Sweden|2022-08-10 00:00:00|2025-09-08 22:39:27|    NULL|         N|2025-09-08 22:39:27|2025-09-26 18:05:...|\n",
      "|          7|000587d8-59b0-4a9...|        ORD-5501CB89|    TXN-99A577C5BA43|CUST-F1D25C73|Christopher Thomas|PRD-EEBF11CB|Home & Kitchen - ...|      2955.2|          Cash|     001 Dixon Wells|  East Brittany|              Sweden|2022-08-10 00:00:00|2025-09-08 22:39:27|    NULL|         N|2025-09-08 22:39:27|2025-09-26 17:24:...|\n",
      "|          8|000a1f49-6082-41a...|        ORD-BB006595|    TXN-E8B4CFDDBCA3|CUST-F2C89A15|      Michael Beck|PRD-67EF8E13|Health - Newspape...|      7437.1|   Credit Card|3319 Paul Key Apt...|New Kelseyville|               Congo|2021-07-29 00:00:00|2025-09-08 22:39:51|    NULL|         Y|2025-09-08 22:39:51|2025-09-26 18:36:...|\n",
      "|          9|000a1f49-6082-41a...|        ORD-BB006595|    TXN-E8B4CFDDBCA3|CUST-F2C89A15|      Michael Beck|PRD-67EF8E13|Health - Newspape...|      7437.1|   Credit Card|3319 Paul Key Apt...|New Kelseyville|               Congo|2021-07-29 00:00:00|2025-09-08 22:39:51|    NULL|         N|2025-09-08 22:39:51|2025-09-26 16:54:...|\n",
      "|         10|000a1f49-6082-41a...|        ORD-BB006595|    TXN-E8B4CFDDBCA3|CUST-F2C89A15|      Michael Beck|PRD-67EF8E13|Health - Newspape...|      7437.1|   Credit Card|3319 Paul Key Apt...|New Kelseyville|               Congo|2021-07-29 00:00:00|2025-09-08 22:39:51|    NULL|         N|2025-09-08 22:39:51|2025-09-26 18:06:...|\n",
      "|         11|000a1f49-6082-41a...|        ORD-BB006595|    TXN-E8B4CFDDBCA3|CUST-F2C89A15|      Michael Beck|PRD-67EF8E13|Health - Newspape...|      7437.1|   Credit Card|3319 Paul Key Apt...|New Kelseyville|               Congo|2021-07-29 00:00:00|2025-09-08 22:39:51|    NULL|         N|2025-09-08 22:39:51|2025-09-26 17:04:...|\n",
      "|         12|000a1f49-6082-41a...|        ORD-BB006595|    TXN-E8B4CFDDBCA3|CUST-F2C89A15|      Michael Beck|PRD-67EF8E13|Health - Newspape...|      7437.1|   Credit Card|3319 Paul Key Apt...|New Kelseyville|               Congo|2021-07-29 00:00:00|2025-09-08 22:39:51|    NULL|         N|2025-09-08 22:39:51|2025-09-26 17:16:...|\n",
      "|         13|000a1f49-6082-41a...|        ORD-BB006595|    TXN-E8B4CFDDBCA3|CUST-F2C89A15|      Michael Beck|PRD-67EF8E13|Health - Newspape...|      7437.1|   Credit Card|3319 Paul Key Apt...|New Kelseyville|               Congo|2021-07-29 00:00:00|2025-09-08 22:39:51|    NULL|         N|2025-09-08 22:39:51|2025-09-26 18:05:...|\n",
      "|         14|000a1f49-6082-41a...|        ORD-BB006595|    TXN-E8B4CFDDBCA3|CUST-F2C89A15|      Michael Beck|PRD-67EF8E13|Health - Newspape...|      7437.1|   Credit Card|3319 Paul Key Apt...|New Kelseyville|               Congo|2021-07-29 00:00:00|2025-09-08 22:39:51|    NULL|         N|2025-09-08 22:39:51|2025-09-26 17:24:...|\n",
      "|         15|000ca21f-bd97-4e9...|f377d6e9-0fe9-403...|567296d6-795c-4df...|CUST-EB92720D|       Evelyn Bass|PRD-CAE39C7D|Books - Customer 709|      188.72|   Credit Card| 41457 Singh Village|    Williamston|Slovakia (Slovak ...|2025-04-30 00:00:00|2025-09-08 23:11:06|    NULL|         Y|2025-09-08 23:11:06|2025-09-26 18:36:...|\n",
      "|         16|00116a79-fd8d-4b7...|cc00377b-dd87-4df...|eb661e5d-8bec-488...|CUST-7FC8D220|      Brian Mccall|PRD-54E7C8C8|  Toys - Economy 256|      5218.8|    Debit Card|       441 Brian Dam|   Port Patrick|            Honduras|2024-12-25 00:00:00|2025-09-08 23:10:47|    NULL|         Y|2025-09-08 23:10:47|2025-09-26 18:36:...|\n",
      "|         17|00122323-7035-4eb...|        ORD-10EB96E2|    TXN-7F48FA46DCC9|CUST-96B7E3F6|      Alexa Harris|PRD-3AEDA79D|Jewelry - Anythin...|      816.65|           UPI|72794 Holland Mis...|   Brandonville|              Uganda|2024-05-09 00:00:00|2025-09-08 22:39:22|    NULL|         Y|2025-09-08 22:39:22|2025-09-26 18:36:...|\n",
      "|         18|00122323-7035-4eb...|        ORD-10EB96E2|    TXN-7F48FA46DCC9|CUST-96B7E3F6|      Alexa Harris|PRD-3AEDA79D|Jewelry - Anythin...|      816.65|           UPI|72794 Holland Mis...|   Brandonville|              Uganda|2024-05-09 00:00:00|2025-09-08 22:39:22|    NULL|         N|2025-09-08 22:39:22|2025-09-26 16:54:...|\n",
      "|         19|00122323-7035-4eb...|        ORD-10EB96E2|    TXN-7F48FA46DCC9|CUST-96B7E3F6|      Alexa Harris|PRD-3AEDA79D|Jewelry - Anythin...|      816.65|           UPI|72794 Holland Mis...|   Brandonville|              Uganda|2024-05-09 00:00:00|2025-09-08 22:39:22|    NULL|         N|2025-09-08 22:39:22|2025-09-26 18:06:...|\n",
      "+-----------+--------------------+--------------------+--------------------+-------------+------------------+------------+--------------------+------------+--------------+--------------------+---------------+--------------------+-------------------+-------------------+--------+----------+-------------------+--------------------+\n",
      "only showing top 20 rows\n",
      "\n"
     ]
    }
   ],
   "source": [
    "gold_dim_deliveries.show()"
   ]
  },
  {
   "cell_type": "markdown",
   "id": "b563a233",
   "metadata": {},
   "source": [
    "SCD1 for Customers"
   ]
  },
  {
   "cell_type": "markdown",
   "id": "1919bfeb",
   "metadata": {},
   "source": [
    "DeltaTable.isDeltaTable: Checks if the Gold table already exists.\n",
    "\n",
    "If yes → we’ll merge incremental changes.\n",
    "\n",
    "If no → this is the initial load.\n",
    "\n",
    "silver_customers_df: This is the incoming batch from Silver.\n",
    "\n",
    "gold_customers_df: Existing Gold data, only if the table exists.\n",
    "\n",
    "This sets up the foundation for SCD1 (updates) and SCD2 (history)."
   ]
  },
  {
   "cell_type": "code",
   "execution_count": 12,
   "id": "2183af72",
   "metadata": {},
   "outputs": [],
   "source": [
    "from pyspark.sql.functions import *\n",
    "from pyspark.sql.window import Window\n",
    "from delta.tables import DeltaTable\n",
    "\n",
    "# Load silver customers (latest incoming batch)\n",
    "silver_customers = spark.read.format(\"delta\").load(f\"{base_silver_path}\\\\customers\\\\data\")\n",
    "\n",
    "# Add SCD metadata columns (for consistency across dimensions)\n",
    "incoming_customers = (\n",
    "    silver_customers\n",
    "    .withColumn(\"start_date\", current_timestamp())\n",
    "    .withColumn(\"end_date\", lit(None).cast(\"timestamp\"))\n",
    "    .withColumn(\"is_current\", lit(True))\n",
    ")\n",
    "\n",
    "# Deduplicate on customer_id → keep the latest record by last_updated\n",
    "w = Window.partitionBy(\"customer_id\").orderBy(desc(\"last_updated\"))\n",
    "deduped_customers = (\n",
    "    incoming_customers\n",
    "    .withColumn(\"rn\", row_number().over(w))\n",
    "    .filter(\"rn = 1\")\n",
    "    .drop(\"rn\")\n",
    ")\n",
    "\n",
    "# Path for Gold dimension\n",
    "dim_customer_path = f\"{base_gold_path}\\\\dim_customer\\\\data\"\n",
    "\n",
    "# Perform SCD1 merge (overwrite)\n",
    "if DeltaTable.isDeltaTable(spark, dim_customer_path):\n",
    "    dim_customer = DeltaTable.forPath(spark, dim_customer_path)\n",
    "\n",
    "    (\n",
    "        dim_customer.alias(\"t\")\n",
    "        .merge(\n",
    "            deduped_customers.alias(\"s\"),\n",
    "            \"t.customer_id = s.customer_id\"\n",
    "        )\n",
    "        .whenMatchedUpdateAll()    # Overwrite existing record\n",
    "        .whenNotMatchedInsertAll() # Insert new record if not exists\n",
    "        .execute()\n",
    "    )\n",
    "else:\n",
    "    # First time load → just write the table\n",
    "    deduped_customers.write.format(\"delta\").mode(\"overwrite\").save(dim_customer_path)\n"
   ]
  },
  {
   "cell_type": "code",
   "execution_count": 13,
   "id": "4d517c44",
   "metadata": {},
   "outputs": [
    {
     "name": "stdout",
     "output_type": "stream",
     "text": [
      "+--------------------+----------+---------+----------------+--------------------+----------+--------------------+-----------------+--------------------+-------------------+-------------------+--------------------+-----------+--------------------+--------+----------+\n",
      "|         customer_id|first_name|last_name|       full_name|               email|     phone|             address|             city|             country|        signup_date|       last_updated| ingestion_timestamp|customer_sk|          start_date|end_date|is_current|\n",
      "+--------------------+----------+---------+----------------+--------------------+----------+--------------------+-----------------+--------------------+-------------------+-------------------+--------------------+-----------+--------------------+--------+----------+\n",
      "|0018de11-c0a5-440...|     Grant|   Martin|    Grant Martin|grant.martin@hotm...|1034249893|312 Patrick Locks...|   West Billyport|               Egypt|2024-01-11 00:00:00|2025-09-08 22:53:33|2025-09-26 18:36:...| 8589934592|2025-09-27 10:13:...|    NULL|      true|\n",
      "|00225672-868a-421...|     Susan|     Sosa|      Susan Sosa|susan.sosa@yahoo.com|7052333536|   166 Katrina Trail|      Williamfort|            Suriname|2024-05-17 00:00:00|2025-09-08 22:53:28|2025-09-26 18:36:...| 8589934593|2025-09-27 10:13:...|    NULL|      true|\n",
      "|0025a82c-e88f-433...|     Sarah|   Waters|    Sarah Waters|sarah.waters@yaho...|3964476795|1046 Yoder Bridge...|    East Chadland|                Mali|2024-12-27 00:00:00|2025-09-08 22:53:24|2025-09-26 18:36:...| 8589934594|2025-09-27 10:13:...|    NULL|      true|\n",
      "|003b47bd-188e-4a3...|    Steven|    Brown|    Steven Brown|steven.brown@gmai...|6911226302|     107 Wendy Flats|     North Lonnie|  Dominican Republic|2024-07-24 00:00:00|2025-09-08 22:53:21|2025-09-26 18:36:...| 8589934595|2025-09-27 10:13:...|    NULL|      true|\n",
      "|0040cd0f-6eac-4b0...|     Janet|   Guzman|    Janet Guzman|janet.guzman@gmai...|0577766921|10348 Robert Lodg...|     East Anthony|             Reunion|2025-02-24 00:00:00|2025-09-08 22:53:24|2025-09-26 18:36:...| 8589934596|2025-09-27 10:13:...|    NULL|      true|\n",
      "|004e7085-3be2-44f...|   Melissa|   Berger|  Melissa Berger|melissa.berger@gm...|8401090433|77124 Gonzalez St...|      Kristyshire|             Bermuda|2024-11-29 00:00:00|2025-09-08 22:53:20|2025-09-26 18:36:...| 8589934597|2025-09-27 10:13:...|    NULL|      true|\n",
      "|00519a4d-e803-438...|  Jonathan|     Ruiz|   Jonathan Ruiz|jonathan.ruiz@hot...|3952272048|43821 Tyler Inlet...|      West George|               Italy|2025-08-14 00:00:00|2025-09-08 22:53:20|2025-09-26 18:36:...| 8589934598|2025-09-27 10:13:...|    NULL|      true|\n",
      "|0055f7c8-efde-437...|    Hailey|Robertson|Hailey Robertson|hailey.robertson@...|4954258687|737 Williams Lock...|       Nelsonberg|Libyan Arab Jamah...|2025-07-29 00:00:00|2025-09-08 22:53:30|2025-09-26 18:36:...| 8589934599|2025-09-27 10:13:...|    NULL|      true|\n",
      "|005c5b83-1d8b-4d7...|    Rachel| Williams| Rachel Williams|rachel.williams@h...|3764179869|   48750 Mark Garden|     Schmittshire|             Hungary|2024-03-12 00:00:00|2025-09-08 22:53:20|2025-09-26 18:36:...| 8589934600|2025-09-27 10:13:...|    NULL|      true|\n",
      "|0079fa25-3770-48c...|   Michael|  Wheeler| Michael Wheeler|michael.wheeler@g...|5001474268|781 Johnson Grove...|        Warrenton|           Australia|2023-09-14 00:00:00|2025-09-08 22:53:27|2025-09-26 18:36:...| 8589934601|2025-09-27 10:13:...|    NULL|      true|\n",
      "|00891f69-ecff-426...|      Earl|  Michael|    Earl Michael|earl.michael@yaho...|6437604901|    41563 Tina Fords|         Kingland|      United Kingdom|2023-11-24 00:00:00|2025-09-08 22:53:16|2025-09-26 18:36:...| 8589934602|2025-09-27 10:13:...|    NULL|      true|\n",
      "|008f9168-e448-47f...|  Kimberly|    Brown|  Kimberly Brown|kimberly.brown@gm...|7991053158|  398 Jennifer Brook|    North Stephen|              Rwanda|2024-12-24 00:00:00|2025-09-08 22:53:23|2025-09-26 18:36:...| 8589934603|2025-09-27 10:13:...|    NULL|      true|\n",
      "|0095d6f1-9185-43e...|   Michael|    Baker|   Michael Baker|michael.baker@yah...|0902984979|814 Michael Cross...|        Johnmouth|Palestinian Terri...|2023-10-17 00:00:00|2025-09-08 22:53:34|2025-09-26 18:36:...| 8589934604|2025-09-27 10:13:...|    NULL|      true|\n",
      "|009647a7-a708-45b...|     Jason| Gonzalez|  Jason Gonzalez|jason.gonzalez@gm...|6041519982|91738 Dennis Rue ...|  Port Tammyhaven|             Finland|2024-03-22 00:00:00|2025-09-08 22:53:20|2025-09-26 18:36:...| 8589934605|2025-09-27 10:13:...|    NULL|      true|\n",
      "|009c9e56-bb57-46c...|    Justin|  Johnson|  Justin Johnson|justin.johnson@gm...|5280167399|  64279 Cameron Fork|      Port Curtis|         Switzerland|2025-04-27 00:00:00|2025-09-08 22:53:32|2025-09-26 18:36:...| 8589934606|2025-09-27 10:13:...|    NULL|      true|\n",
      "|009fcb94-74c4-42b...|     Maria|    Kline|     Maria Kline|maria.kline@hotma...|0269412395|     517 Emily Trail|Port Barbaramouth|            Maldives|2025-05-29 00:00:00|2025-09-08 22:53:20|2025-09-26 18:36:...| 8589934607|2025-09-27 10:13:...|    NULL|      true|\n",
      "|00a26aa8-cd18-450...|    Joseph|     Shaw|     Joseph Shaw|joseph.shaw@hotma...|9231979448|    33641 Ryan Lodge|   East Stephanie|         Saint Lucia|2024-08-19 00:00:00|2025-09-08 22:53:32|2025-09-26 18:36:...| 8589934608|2025-09-27 10:13:...|    NULL|      true|\n",
      "|00b993d9-7326-494...|   Derrick|   Foster|  Derrick Foster|derrick.foster@ho...|1579930187|     04970 Reed Lane|        East Troy|Central African R...|2025-03-29 00:00:00|2025-09-08 22:53:24|2025-09-26 18:36:...| 8589934609|2025-09-27 10:13:...|    NULL|      true|\n",
      "|00d7e947-d9f5-468...|      Dawn|    Smith|      Dawn Smith|dawn.smith@yahoo.com|2295314392|    7840 Ronnie Mall|       East Brian|              Monaco|2025-08-21 00:00:00|2025-09-08 22:53:33|2025-09-26 18:36:...|         12|2025-09-27 10:13:...|    NULL|      true|\n",
      "|01172f80-7cc7-413...|   Anthony| Castillo|Anthony Castillo|anthony.castillo@...|1059221847|  802 Michelle Manor|        Trevorton|              Greece|2025-03-30 00:00:00|2025-09-08 22:53:18|2025-09-26 18:36:...| 8589934610|2025-09-27 10:13:...|    NULL|      true|\n",
      "+--------------------+----------+---------+----------------+--------------------+----------+--------------------+-----------------+--------------------+-------------------+-------------------+--------------------+-----------+--------------------+--------+----------+\n",
      "only showing top 20 rows\n",
      "\n"
     ]
    }
   ],
   "source": [
    "df = spark.read.format(\"delta\").load(f\"{base_gold_path}\\\\dim_customer\\\\data\")\n",
    "df.createOrReplaceTempView(\"dim_customers\")\n",
    "\n",
    "spark.sql(\"SELECT * FROM dim_customers\").show()\n"
   ]
  },
  {
   "cell_type": "markdown",
   "id": "bf9a94e0",
   "metadata": {},
   "source": [
    "Upsert stands for update data is data already exists or insert if data doesnt exist\n",
    "\n",
    "how does we know if data already exists i.e how does we know when to udate and when to insert ?\n",
    "\n",
    "if the primary keys mateches i.e customer_id matches and last_updated in silver table is greater than last updated in gold the data already exists so needs to be updated"
   ]
  },
  {
   "cell_type": "markdown",
   "id": "4bee8884",
   "metadata": {},
   "source": [
    "SCD - 1 + SCD2 for products"
   ]
  },
  {
   "cell_type": "markdown",
   "id": "4c13e951",
   "metadata": {},
   "source": [
    "This PySpark snippet handles the incremental loading of the products table from the Silver layer into the Gold layer of our data lakehouse.\n",
    "Unlike traditional SCD1, we are preserving historical versions of product data to allow stakeholders to query past updates (e.g., price changes) while still identifying the latest state."
   ]
  },
  {
   "cell_type": "code",
   "execution_count": 14,
   "id": "423e38d8",
   "metadata": {},
   "outputs": [
    {
     "name": "stdout",
     "output_type": "stream",
     "text": [
      "✅ dim_products updated with SCD2 logic\n"
     ]
    }
   ],
   "source": [
    "from delta.tables import DeltaTable\n",
    "from pyspark.sql import functions as F, Window\n",
    "from pyspark.sql.functions import lit, current_timestamp\n",
    "import os\n",
    "\n",
    "base_gold_path = r\"C:\\Users\\User\\Desktop\\E-Commerce Data Lakaehouse with AI-Powered Self-Healing Pipelines\\Gold_layer\\Gold_data\"\n",
    "base_silver_path = r\"C:\\Users\\User\\Desktop\\E-Commerce Data Lakaehouse with AI-Powered Self-Healing Pipelines\\silver_layer\\silver_data\"\n",
    "\n",
    "# === Paths ===\n",
    "dim_product_path = os.path.join(base_gold_path, \"dim_products\", \"data\")\n",
    "silver_product_path = os.path.join(base_silver_path, \"products\", \"data\")\n",
    "\n",
    "# === Load source (incoming) products from Silver ===\n",
    "silver_products = spark.read.format(\"delta\").load(silver_product_path)\n",
    "\n",
    "# ✅ Deduplicate strictly: pick only the latest row per product_id\n",
    "window = Window.partitionBy(\"product_id\").orderBy(\n",
    "    F.col(\"last_updated\").desc_nulls_last(),\n",
    "    F.col(\"ingestion_timestamp\").desc_nulls_last()\n",
    ")\n",
    "\n",
    "deduped_products = (\n",
    "    silver_products\n",
    "    .withColumn(\"row_num\", F.row_number().over(window))\n",
    "    .filter(F.col(\"row_num\") == 1)  # keep only the latest\n",
    "    .drop(\"row_num\")\n",
    ")\n",
    "\n",
    "# ✅ Extra safeguard: enforce uniqueness\n",
    "incoming_products = deduped_products.dropDuplicates([\"product_id\"]).withColumn(\n",
    "    \"start_date\", current_timestamp()\n",
    ").withColumn(\n",
    "    \"end_date\", lit(None).cast(\"timestamp\")\n",
    ").withColumn(\n",
    "    \"is_current\", lit(True)\n",
    ")\n",
    "\n",
    "# === Upsert into Gold dim_products (SCD2 logic) ===\n",
    "if DeltaTable.isDeltaTable(spark, dim_product_path):\n",
    "    dim_products = DeltaTable.forPath(spark, dim_product_path)\n",
    "\n",
    "    (\n",
    "        dim_products.alias(\"t\")\n",
    "        .merge(\n",
    "            incoming_products.alias(\"s\"),\n",
    "            \"t.product_id = s.product_id AND t.is_current = true\"\n",
    "        )\n",
    "        # 1️⃣ Expire old record if any attribute changed\n",
    "        .whenMatchedUpdate(\n",
    "            condition=\"\"\"\n",
    "                t.name <> s.name OR\n",
    "                t.category <> s.category OR\n",
    "                t.price <> s.price OR\n",
    "                t.stock_quantity <> s.stock_quantity\n",
    "            \"\"\",\n",
    "            set={\n",
    "                \"end_date\": \"current_timestamp()\",\n",
    "                \"is_current\": \"false\"\n",
    "            }\n",
    "        )\n",
    "        # 2️⃣ Insert new record (new product or updated attributes)\n",
    "        .whenNotMatchedInsertAll()\n",
    "        .execute()\n",
    "    )\n",
    "\n",
    "    print(\"✅ dim_products updated with SCD2 logic\")\n",
    "\n",
    "else:\n",
    "    # First time load\n",
    "    incoming_products.write.format(\"delta\").mode(\"overwrite\").save(dim_product_path)\n",
    "    print(\"✅ dim_products created for the first time\")\n",
    "\n"
   ]
  },
  {
   "cell_type": "code",
   "execution_count": 15,
   "id": "7b292333",
   "metadata": {},
   "outputs": [
    {
     "name": "stdout",
     "output_type": "stream",
     "text": [
      "+--------------------+---------------+---------------+-------+--------------+----------+-------------------+--------------------+-----------+--------------------+--------+----------+\n",
      "|          product_id|           name|       category|  price|stock_quantity|created_at|       last_updated| ingestion_timestamp| product_sk|          start_date|end_date|is_current|\n",
      "+--------------------+---------------+---------------+-------+--------------+----------+-------------------+--------------------+-----------+--------------------+--------+----------+\n",
      "|00031aa3-fad1-438...|    Senior Plus|           Toys|1828.38|           306|2025-08-31|2025-09-08 22:54:53|2025-09-26 18:36:...|34359738368|2025-09-26 18:39:...|    NULL|      true|\n",
      "|0004580a-beaf-4fc...|       Idea Pro|         Sports|1178.23|           162|2024-07-15|2025-09-08 22:54:50|2025-09-26 18:36:...|42949672960|2025-09-26 18:39:...|    NULL|      true|\n",
      "|00112a40-703d-4ce...|  Increase Lite|Home Appliances| 654.79|            81|2024-02-09|2025-09-08 22:54:53|2025-09-26 18:36:...|34359738369|2025-09-26 18:39:...|    NULL|      true|\n",
      "|00364722-16cd-455...|       From Set|        Fashion|1323.14|           302|2024-04-29|2025-09-08 22:54:53|2025-09-26 18:36:...|34359738370|2025-09-26 18:39:...|    NULL|      true|\n",
      "|003721a1-f6ac-46b...|    Church Plus|    Electronics|1488.03|           393|2024-12-26|2025-09-08 22:54:51|2025-09-26 18:36:...|34359738371|2025-09-26 18:39:...|    NULL|      true|\n",
      "|00529fa0-f833-4bf...|  Executive Set|Home Appliances|1575.48|            49|2023-12-12|2025-09-08 22:54:52|2025-09-26 18:36:...|34359738372|2025-09-26 18:39:...|    NULL|      true|\n",
      "|006097b9-4f6a-4a2...|    Detail Plus|Home Appliances|1778.23|           384|2024-04-24|2025-09-08 22:54:52|2025-09-26 18:36:...|34359738373|2025-09-26 18:39:...|    NULL|      true|\n",
      "|007843bb-1d4a-423...|     Focus Lite|          Books|1552.65|           159|2024-08-23|2025-09-08 22:54:51|2025-09-26 18:36:...|34359738375|2025-09-26 18:39:...|    NULL|      true|\n",
      "|00918290-ffab-46b...|     Start Lite|          Books| 483.69|            78|2024-09-17|2025-09-08 22:54:53|2025-09-26 18:36:...|34359738376|2025-09-26 18:39:...|    NULL|      true|\n",
      "|00a8b388-837d-40e...|      Shake Pro|      Groceries|1385.55|           182|2025-03-26|2025-09-08 22:54:52|2025-09-26 18:36:...|34359738377|2025-09-26 18:39:...|    NULL|      true|\n",
      "|00ae67c6-e670-4ac...|       Ever Set|        Fashion| 1614.9|           115|2024-02-15|2025-09-08 22:54:52|2025-09-26 18:36:...|34359738378|2025-09-26 18:39:...|    NULL|      true|\n",
      "|00b940be-a2d2-483...|      Build Max|          Books| 729.01|           265|2024-08-29|2025-09-08 22:54:51|2025-09-26 18:36:...|34359738379|2025-09-26 18:39:...|    NULL|      true|\n",
      "|00de2666-5a28-484...|         A Plus|Home Appliances|1224.01|           245|2025-04-27|2025-09-08 22:54:53|2025-09-26 18:36:...|34359738380|2025-09-26 18:39:...|    NULL|      true|\n",
      "|00ece9c8-17b2-430...|   When Edition|      Groceries|  761.0|           157|2024-11-29|2025-09-08 22:54:53|2025-09-26 18:36:...|34359738381|2025-09-26 18:39:...|    NULL|      true|\n",
      "|00ed565b-2251-484...|        But Pro|          Books|1538.61|           326|2024-01-17|2025-09-08 22:54:50|2025-09-26 18:36:...|34359738382|2025-09-26 18:39:...|    NULL|      true|\n",
      "|00f083df-240e-4e4...|Through Edition|           Toys| 396.11|            40|2023-12-07|2025-09-08 22:54:53|2025-09-26 18:36:...|34359738383|2025-09-26 18:39:...|    NULL|      true|\n",
      "|00f800b6-8f4e-4c7...|  Material Plus|    Electronics| 294.43|            61|2023-10-26|2025-09-08 22:54:51|2025-09-26 18:36:...|34359738385|2025-09-26 18:39:...|    NULL|      true|\n",
      "|00fdc53f-b80b-49b...|      Rest Plus|Home Appliances| 1156.8|           306|2024-03-03|2025-09-08 22:54:51|2025-09-26 18:36:...|34359738386|2025-09-26 18:39:...|    NULL|      true|\n",
      "|0100cb26-7594-407...|   Someone Plus|          Books|1858.36|            29|2025-03-10|2025-09-08 22:54:51|2025-09-26 18:36:...|34359738387|2025-09-26 18:39:...|    NULL|      true|\n",
      "|01036a19-42ec-485...| Religious Lite|          Books|1020.78|           111|2024-03-22|2025-09-08 22:54:52|2025-09-26 18:36:...|34359738388|2025-09-26 18:39:...|    NULL|      true|\n",
      "+--------------------+---------------+---------------+-------+--------------+----------+-------------------+--------------------+-----------+--------------------+--------+----------+\n",
      "only showing top 20 rows\n",
      "\n"
     ]
    }
   ],
   "source": [
    "df = spark.read.format(\"delta\").load(f\"{base_gold_path}\\\\dim_products\\\\data\")\n",
    "df.createOrReplaceTempView(\"dim_prod\" \\\n",
    "\"\" \\\n",
    "\"ucts\")\n",
    "\n",
    "spark.sql(\"SELECT * FROM dim_products\").show()"
   ]
  },
  {
   "cell_type": "code",
   "execution_count": 16,
   "id": "41b6c477",
   "metadata": {},
   "outputs": [
    {
     "name": "stdout",
     "output_type": "stream",
     "text": [
      "+------------+-------------------+--------+-------+--------------+----------+-------------------+--------------------------+-----------+-------------------------+--------------------------+----------+\n",
      "|product_id  |name               |category|price  |stock_quantity|created_at|last_updated       |ingestion_timestamp       |product_sk |start_date               |end_date                  |is_current|\n",
      "+------------+-------------------+--------+-------+--------------+----------+-------------------+--------------------------+-----------+-------------------------+--------------------------+----------+\n",
      "|PRD-F06146B3|Clothing - Over 498|Clothing|1583.01|519           |2025-09-02|2025-09-08 22:27:07|2025-09-26 16:54:22.711362|60129569417|2025-09-26 16:55:28.44499|2025-09-26 18:39:08.093926|false     |\n",
      "+------------+-------------------+--------+-------+--------------+----------+-------------------+--------------------------+-----------+-------------------------+--------------------------+----------+\n",
      "\n"
     ]
    }
   ],
   "source": [
    "df = spark.read.format(\"delta\").load(f\"{base_gold_path}\\\\dim_products\\\\data\")\n",
    "\n",
    "df.filter(\"is_current = false\").show(truncate=False)\n"
   ]
  },
  {
   "cell_type": "markdown",
   "id": "692e8417",
   "metadata": {},
   "source": [
    "SCD2 for orders"
   ]
  },
  {
   "cell_type": "markdown",
   "id": "57815229",
   "metadata": {},
   "source": [
    "only SCD2 for order the below is reason \n",
    "\n",
    "Orders are immutable business transactions — fields like order_id, transaction_id, customer_id, payment_method, and order_date cannot change. Using SCD1 would overwrite history and break audit trails. SCD2 ensures we capture order lifecycle changes (e.g., status updates) while preserving full history"
   ]
  },
  {
   "cell_type": "code",
   "execution_count": 17,
   "id": "5fc7781c",
   "metadata": {},
   "outputs": [],
   "source": [
    "from delta.tables import DeltaTable\n",
    "from pyspark.sql import functions as F\n",
    "from pyspark.sql.window import Window\n",
    "\n",
    "dim_order_path = f\"{base_gold_path}\\\\dim_orders\\\\data\"\n",
    "\n",
    "# Load source (incoming) data\n",
    "silver_orders = spark.read.format(\"delta\").load(f\"{base_silver_path}\\\\orders\\\\data\")\n",
    "\n",
    "# Deduplicate by keeping latest record per order_id (based on last_updated or ingestion_date)\n",
    "w = Window.partitionBy(\"order_id\").orderBy(F.col(\"last_updated\").desc())\n",
    "\n",
    "incoming_orders = (\n",
    "    silver_orders\n",
    "    .withColumn(\"rn\", F.row_number().over(w))\n",
    "    .filter(F.col(\"rn\") == 1)    # keep only the latest\n",
    "    .drop(\"rn\")\n",
    "    .withColumn(\"start_date\", F.current_timestamp())\n",
    "    .withColumn(\"end_date\", F.lit(None).cast(\"timestamp\"))\n",
    "    .withColumn(\"is_current\", F.lit(True))\n",
    ")\n",
    "\n",
    "# Path check and Merge\n",
    "if DeltaTable.isDeltaTable(spark, dim_order_path):\n",
    "    dim_orders = DeltaTable.forPath(spark, dim_order_path)\n",
    "\n",
    "    (\n",
    "        dim_orders.alias(\"t\")\n",
    "        .merge(\n",
    "            incoming_orders.alias(\"s\"),\n",
    "            \"t.order_id = s.order_id AND t.is_current = true\"\n",
    "        )\n",
    "        # 1. Expire old row if order_status changed\n",
    "        .whenMatchedUpdate(\n",
    "            condition=\"t.order_status <> s.order_status\",\n",
    "            set={\n",
    "                \"end_date\": \"current_timestamp()\",\n",
    "                \"is_current\": \"false\"\n",
    "            }\n",
    "        )\n",
    "        # 2. Insert new version (new order OR updated status)\n",
    "        .whenNotMatchedInsertAll()\n",
    "        .execute()\n",
    "    )\n",
    "\n",
    "else:\n",
    "    incoming_orders.write.format(\"delta\").mode(\"overwrite\").save(dim_order_path)\n",
    "\n"
   ]
  },
  {
   "cell_type": "code",
   "execution_count": 18,
   "id": "9b9857ae",
   "metadata": {},
   "outputs": [
    {
     "name": "stdout",
     "output_type": "stream",
     "text": [
      "+--------------------+--------------------+-------------+------------+--------+------------+-------------------+--------------+------------+-------------------+--------------------+--------------------+--------+----------+\n",
      "|            order_id|      transaction_id|  customer_id|  product_id|quantity|total_amount|         order_date|payment_method|order_status|       last_updated| ingestion_timestamp|          start_date|end_date|is_current|\n",
      "+--------------------+--------------------+-------------+------------+--------+------------+-------------------+--------------+------------+-------------------+--------------------+--------------------+--------+----------+\n",
      "|00078015-05aa-490...|151f1a94-8fb0-457...|CUST-59736113|PRD-1330AC1A|       1|      527.93|2024-09-15 00:00:00|          Cash|   Delivered|2025-09-08 23:02:04|2025-09-26 18:36:...|2025-09-26 18:39:...|    NULL|      true|\n",
      "|0018477f-bc4f-431...|38bd5b12-b0eb-4f6...|CUST-D6EFBB86|PRD-ADC3F420|       4|     7323.52|2023-11-11 00:00:00|          Cash|     Pending|2025-09-08 23:02:40|2025-09-26 18:36:...|2025-09-26 18:39:...|    NULL|      true|\n",
      "|001c2582-164d-415...|bc397fd6-1d79-46e...|CUST-FD3F7803|PRD-C221FF7F|       3|     4942.68|2023-10-14 00:00:00|           UPI|     Pending|2025-09-08 23:03:00|2025-09-26 18:36:...|2025-09-26 18:39:...|    NULL|      true|\n",
      "|0022d57a-011e-48a...|30fe0420-a2f2-40c...|CUST-4D174DD9|PRD-2AC4B6E8|       2|     2402.14|2024-10-30 00:00:00|    Debit Card|   Delivered|2025-09-08 23:01:04|2025-09-26 18:36:...|2025-09-26 18:39:...|    NULL|      true|\n",
      "|003124a8-2ba4-482...|9d888737-9bcb-425...|CUST-0D216E64|PRD-13527368|       5|     6909.35|2024-11-30 00:00:00|    Debit Card|   Cancelled|2025-09-08 23:00:18|2025-09-26 18:36:...|2025-09-26 18:39:...|    NULL|      true|\n",
      "|0036d20f-b50f-432...|a5b0e597-409b-485...|CUST-A7D23476|PRD-1B189B9A|       3|     2224.08|2025-08-11 00:00:00|        PayPal|     Pending|2025-09-08 23:01:00|2025-09-26 18:36:...|2025-09-26 18:39:...|    NULL|      true|\n",
      "|003f8178-ec93-4e1...|e93151ee-19b5-4ce...|CUST-E4BE46D7|PRD-3E8F6348|       4|     7189.44|2025-04-30 00:00:00|           UPI|     Pending|2025-09-08 23:02:07|2025-09-26 18:36:...|2025-09-26 18:39:...|    NULL|      true|\n",
      "|0072b316-26dd-4b9...|34452448-0600-413...|CUST-30140B1A|PRD-B7E12111|       5|      8887.9|2024-06-08 00:00:00|           UPI|     Pending|2025-09-08 23:02:24|2025-09-26 18:36:...|2025-09-26 18:39:...|    NULL|      true|\n",
      "|00737972-ffe7-418...|531ff390-73a0-4db...|CUST-814C427D|PRD-FD2358F8|       3|     1179.66|2024-03-10 00:00:00|    Debit Card|   Cancelled|2025-09-08 23:02:53|2025-09-26 18:36:...|2025-09-26 18:39:...|    NULL|      true|\n",
      "|00818dfb-b620-46d...|a94c6195-7825-45f...|CUST-34EBF1AB|PRD-5FC12529|       1|      210.81|2024-12-28 00:00:00|        PayPal|     Pending|2025-09-08 23:02:09|2025-09-26 18:36:...|2025-09-26 18:39:...|    NULL|      true|\n",
      "|0090c4e1-1c2d-463...|caddfed5-724c-457...|CUST-1E56DB1B|PRD-8BB08C3B|       3|     4969.86|2024-11-08 00:00:00|    Debit Card|   Delivered|2025-09-08 23:00:18|2025-09-26 18:36:...|2025-09-26 18:39:...|    NULL|      true|\n",
      "|00a4b3d2-399f-400...|a31d1ddd-267d-400...|CUST-29601694|PRD-102F1311|       5|      4115.8|2025-02-07 00:00:00|   Credit Card|     Shipped|2025-09-08 23:03:12|2025-09-26 18:36:...|2025-09-26 18:39:...|    NULL|      true|\n",
      "|00a7a067-3cb9-465...|5bfe9c4b-0863-4b5...|CUST-082E1C2E|PRD-612F3F84|       5|     2488.15|2023-10-10 00:00:00|          Cash|   Cancelled|2025-09-08 23:02:43|2025-09-26 18:36:...|2025-09-26 18:39:...|    NULL|      true|\n",
      "|00bff55d-c0d2-46a...|95a9700b-31fc-4c0...|CUST-5F38205F|PRD-B295D098|       4|     3943.84|2024-10-08 00:00:00|    Debit Card|     Pending|2025-09-08 23:00:50|2025-09-26 18:36:...|2025-09-26 18:39:...|    NULL|      true|\n",
      "|00ca1d96-a0f6-4c2...|467b2035-939a-467...|CUST-7E0345DC|PRD-95D877DC|       4|      3439.2|2025-05-25 00:00:00|    Debit Card|   Delivered|2025-09-08 23:00:33|2025-09-26 18:36:...|2025-09-26 18:39:...|    NULL|      true|\n",
      "|00d33def-5840-4cc...|2eccaecc-7eeb-455...|CUST-4E84B75B|PRD-32A7E58C|       4|     1997.56|2025-03-23 00:00:00|    Debit Card|     Pending|2025-09-08 23:02:10|2025-09-26 18:36:...|2025-09-26 18:39:...|    NULL|      true|\n",
      "|00d36d80-8ed2-474...|09d96e74-d718-470...|CUST-B9A9CDDE|PRD-CC579CEC|       1|      849.88|2024-08-23 00:00:00|        PayPal|   Delivered|2025-09-08 23:02:46|2025-09-26 18:36:...|2025-09-26 18:39:...|    NULL|      true|\n",
      "|0101b0bc-9cc9-4ab...|8182b8f9-5716-46b...|CUST-C19E137F|PRD-ED7C5E8E|       2|     3247.38|2024-11-25 00:00:00|    Debit Card|   Cancelled|2025-09-08 23:01:19|2025-09-26 18:36:...|2025-09-26 18:39:...|    NULL|      true|\n",
      "|01205fe5-6bf6-482...|e3c1c729-9c41-4f5...|CUST-0BD2E263|PRD-1FCEE0C1|       2|     3779.22|2024-06-20 00:00:00|          Cash|   Cancelled|2025-09-08 23:03:13|2025-09-26 18:36:...|2025-09-26 18:39:...|    NULL|      true|\n",
      "|012515f6-ae67-481...|6fc347af-af79-405...|CUST-F93CA053|PRD-0D02399C|       4|     7263.64|2025-01-18 00:00:00|          Cash|   Delivered|2025-09-08 23:01:39|2025-09-26 18:36:...|2025-09-26 18:39:...|    NULL|      true|\n",
      "+--------------------+--------------------+-------------+------------+--------+------------+-------------------+--------------+------------+-------------------+--------------------+--------------------+--------+----------+\n",
      "only showing top 20 rows\n",
      "\n"
     ]
    }
   ],
   "source": [
    "df = spark.read.format(\"delta\").load(f\"{base_gold_path}\\\\dim_orders\\\\data\")\n",
    "df.createOrReplaceTempView(\"dim_orders\")\n",
    "\n",
    "spark.sql(\"SELECT * FROM dim_orders\").show()"
   ]
  },
  {
   "cell_type": "code",
   "execution_count": 19,
   "id": "395dee9e",
   "metadata": {},
   "outputs": [
    {
     "name": "stdout",
     "output_type": "stream",
     "text": [
      "+------------+-------------------+--------+-------+--------------+----------+-------------------+--------------------------+-----------+-------------------------+--------------------------+----------+\n",
      "|product_id  |name               |category|price  |stock_quantity|created_at|last_updated       |ingestion_timestamp       |product_sk |start_date               |end_date                  |is_current|\n",
      "+------------+-------------------+--------+-------+--------------+----------+-------------------+--------------------------+-----------+-------------------------+--------------------------+----------+\n",
      "|PRD-F06146B3|Clothing - Over 498|Clothing|1583.01|519           |2025-09-02|2025-09-08 22:27:07|2025-09-26 16:54:22.711362|60129569417|2025-09-26 16:55:28.44499|2025-09-26 18:39:08.093926|false     |\n",
      "+------------+-------------------+--------+-------+--------------+----------+-------------------+--------------------------+-----------+-------------------------+--------------------------+----------+\n",
      "\n"
     ]
    }
   ],
   "source": [
    "df = spark.read.format(\"delta\").load(f\"{base_gold_path}\\\\dim_products\\\\data\")\n",
    "\n",
    "df.filter(\"is_current = false\").show(truncate=False)"
   ]
  },
  {
   "cell_type": "markdown",
   "id": "5d00924a",
   "metadata": {},
   "source": [
    "A Hybrid approach of SCD1 and SCD2 for deliveries"
   ]
  },
  {
   "cell_type": "code",
   "execution_count": 20,
   "id": "5e89bdc4",
   "metadata": {},
   "outputs": [],
   "source": [
    "from pyspark.sql import functions as F\n",
    "from pyspark.sql.window import Window\n",
    "from delta.tables import DeltaTable\n",
    "\n",
    "# === 1. Load Silver Deliveries ===\n",
    "silver_deliveries = spark.read.format(\"delta\").load(f\"{base_silver_path}\\\\deliveries\\\\data\")\n",
    "\n",
    "# Load Customer Dimension (SCD1 lookup)\n",
    "dim_customers = spark.read.format(\"delta\").load(f\"{base_gold_path}\\\\dim_customer\\\\data\")\n",
    "\n",
    "# Deduplicate deliveries (latest per delivery_id)\n",
    "w = Window.partitionBy(\"delivery_id\").orderBy(F.desc(\"last_updated\"))\n",
    "deduped_deliveries = (\n",
    "    silver_deliveries\n",
    "    .withColumn(\"rn\", F.row_number().over(w))\n",
    "    .filter(\"rn = 1\")\n",
    "    .drop(\"rn\")\n",
    ")\n",
    "\n",
    "# Enrich with latest customer info\n",
    "enriched_deliveries = (\n",
    "    deduped_deliveries.alias(\"d\")\n",
    "    .join(\n",
    "        dim_customers.filter(\"is_current = true\").alias(\"c\"),\n",
    "        F.col(\"d.customer_id\") == F.col(\"c.customer_id\"),\n",
    "        \"left\"\n",
    "    )\n",
    "    .select(\n",
    "        \"d.delivery_id\",\n",
    "        \"d.order_id\",\n",
    "        \"d.transaction_id\",\n",
    "        \"d.customer_id\",\n",
    "        \"d.product_id\",\n",
    "        \"d.total_amount\",\n",
    "        \"d.payment_method\",\n",
    "        F.col(\"c.address\").alias(\"delivery_address\"),\n",
    "        F.col(\"c.city\").alias(\"delivery_city\"),\n",
    "        F.col(\"c.country\").alias(\"delivery_country\"),\n",
    "        \"d.delivery_date\",\n",
    "        \"d.delivery_status\",\n",
    "        \"d.last_updated\",\n",
    "        \"d.ingestion_timestamp\"\n",
    "    )\n",
    "    .withColumn(\"start_date\", F.current_timestamp())\n",
    "    .withColumn(\"end_date\", F.lit(None).cast(\"timestamp\"))\n",
    "    .withColumn(\"is_current\", F.lit(True))\n",
    ")\n",
    "\n",
    "# === 2. Path for Gold Deliveries ===\n",
    "dim_deliveries_path = f\"{base_gold_path}\\\\dim_deliveries\\\\data\"\n",
    "\n",
    "if DeltaTable.isDeltaTable(spark, dim_deliveries_path):\n",
    "    gold_table = DeltaTable.forPath(spark, dim_deliveries_path)\n",
    "\n",
    "    (\n",
    "        gold_table.alias(\"tgt\")\n",
    "        .merge(\n",
    "            enriched_deliveries.alias(\"src\"),\n",
    "            \"tgt.delivery_id = src.delivery_id AND tgt.is_current = true\"\n",
    "        )\n",
    "        # --- Case 1: Status changed → expire old record (SCD2) ---\n",
    "        .whenMatchedUpdate(\n",
    "            condition=\"tgt.delivery_status <> src.delivery_status\",\n",
    "            set={\n",
    "                \"end_date\": \"current_timestamp()\",\n",
    "                \"is_current\": \"false\"\n",
    "            }\n",
    "        )\n",
    "        # --- Case 2: Other dynamic fields changed (SCD1 overwrite) ---\n",
    "        .whenMatchedUpdate(\n",
    "            condition=\"tgt.delivery_status = src.delivery_status\",  # 👈 ensures no conflict with above\n",
    "            set={\n",
    "                \"payment_method\": \"src.payment_method\",\n",
    "                \"total_amount\": \"src.total_amount\",\n",
    "                \"delivery_address\": \"src.delivery_address\",\n",
    "                \"delivery_city\": \"src.delivery_city\",\n",
    "                \"delivery_country\": \"src.delivery_country\",\n",
    "                \"last_updated\": \"src.last_updated\",\n",
    "                \"ingestion_timestamp\": \"src.ingestion_timestamp\"\n",
    "            }\n",
    "        )\n",
    "        # --- Case 3: New delivery OR status change → insert ---\n",
    "        .whenNotMatchedInsertAll()\n",
    "        .execute()\n",
    "    )\n",
    "\n",
    "else:\n",
    "    # First-time load\n",
    "    (\n",
    "        enriched_deliveries.write\n",
    "        .format(\"delta\")\n",
    "        .mode(\"overwrite\")\n",
    "        .save(dim_deliveries_path)\n",
    "    )\n"
   ]
  },
  {
   "cell_type": "code",
   "execution_count": 21,
   "id": "bd2fee8f",
   "metadata": {},
   "outputs": [
    {
     "name": "stdout",
     "output_type": "stream",
     "text": [
      "+--------------------+--------------------+--------------------+-------------+------------+------------+--------------+--------------------+-------------------+--------------------+-------------------+---------------+-------------------+--------------------+--------------------+--------+----------+\n",
      "|         delivery_id|            order_id|      transaction_id|  customer_id|  product_id|total_amount|payment_method|    delivery_address|      delivery_city|    delivery_country|      delivery_date|delivery_status|       last_updated| ingestion_timestamp|          start_date|end_date|is_current|\n",
      "+--------------------+--------------------+--------------------+-------------+------------+------------+--------------+--------------------+-------------------+--------------------+-------------------+---------------+-------------------+--------------------+--------------------+--------+----------+\n",
      "|000b95ac-25ba-4f4...|        ORD-77F64D26|    TXN-1A6E9CB7D56E|CUST-9FC6134D|PRD-C973F156|      198.19|        PayPal|32014 Carolyn Sta...|       Samanthatown|            Djibouti|2023-05-06 00:00:00|      Preparing|2025-09-08 22:39:46|2025-09-26 18:36:...|2025-09-26 16:55:...|    NULL|      true|\n",
      "|000fa536-5345-4e7...|        ORD-CE74D568|    TXN-B760E13438B6|CUST-9A3529C1|PRD-BCF4BBAA|     1110.22|    Debit Card|  1477 Jonathan Mill|    Kimberlychester|Falkland Islands ...|2023-06-27 00:00:00|      Preparing|2025-09-08 22:39:39|2025-09-26 18:36:...|2025-09-26 16:55:...|    NULL|      true|\n",
      "|0014d9d0-0251-496...|7708c846-9f37-4cf...|fe42f2fd-fcca-465...|CUST-CEEE83CD|PRD-742D46D7|      7674.8|   Credit Card| 4204 Kenneth Street|          Bakerside|Slovakia (Slovak ...|2023-12-06 00:00:00|     In Transit|2025-09-08 23:10:45|2025-09-26 18:36:...|2025-09-26 18:39:...|    NULL|      true|\n",
      "|00157f2e-a71c-42e...|        ORD-5BE099EA|    TXN-922D242D8C14|CUST-D7F8C3A3|PRD-BA7F29E8|     1699.88|        PayPal|       194 Ian Inlet|          Port Adam|             Morocco|2025-06-26 00:00:00|        Shipped|2025-07-07 00:00:00|2025-09-26 18:36:...|2025-09-26 18:39:...|    NULL|      true|\n",
      "|001b28c1-e72a-450...|        ORD-F567781D|    TXN-BE11C2740A04|CUST-7178C036|PRD-4C4CA2FF|     1288.32|          Cash|  8609 Murphy Bypass|          Aaronview|          San Marino|2020-10-27 00:00:00|         Failed|2025-09-08 22:39:38|2025-09-26 18:36:...|2025-09-26 16:55:...|    NULL|      true|\n",
      "|001da520-3445-40b...|        ORD-5200BB38|    TXN-B0337C0B0C30|CUST-9A529B70|PRD-685FBB80|     2020.65|        PayPal|2170 Stephanie Un...|             Rayton|           Venezuela|2021-08-26 00:00:00|      Preparing|2025-09-08 22:39:04|2025-09-26 18:36:...|2025-09-26 16:55:...|    NULL|      true|\n",
      "|0027be88-48dc-4f0...|b66ee032-90cb-473...|ec3484f1-2bb1-419...|CUST-838FC267|PRD-93F3BE85|      1590.8|    Debit Card|   8420 Walton Coves|       Port Jeffrey|            Tanzania|2024-11-16 00:00:00|      Preparing|2025-09-08 23:10:23|2025-09-26 18:36:...|2025-09-26 18:39:...|    NULL|      true|\n",
      "|002b86d6-c8e1-4d2...|        ORD-CE88ABC8|    TXN-7CE86D1CE85E|CUST-719937AF|PRD-0B4D7AB0|     1040.11|           UPI|47444 Shaw Route ...|       Lake Brandon|              France|2021-10-29 00:00:00|         Failed|2025-09-08 22:39:11|2025-09-26 18:36:...|2025-09-26 16:55:...|    NULL|      true|\n",
      "|002bf185-b2ad-472...|        ORD-CA140F1A|    TXN-C3941FC1AA78|CUST-AC9AD60B|PRD-197D18FD|      7367.8|           UPI| 2903 Bennett Valley|    New Deborahstad|         Saint Lucia|2023-08-19 00:00:00|        Shipped|2025-09-08 22:39:48|2025-09-26 18:36:...|2025-09-26 16:55:...|    NULL|      true|\n",
      "|0031ef7e-37c4-455...|        ORD-230E8A79|    TXN-92EA7D7DA47F|CUST-76F14E94|PRD-ED42BD95|     2710.45|           UPI|   533 Cohen Squares|         Tracyburgh|             Bahrain|2021-11-06 00:00:00|     In Transit|2025-09-08 23:09:49|2025-09-26 18:36:...|2025-09-26 18:39:...|    NULL|      true|\n",
      "|0038973d-6640-443...|        ORD-6C129028|    TXN-827E53044D60|CUST-A6C419C7|PRD-B726B402|     1367.44|          Cash|476 Hernandez Pla...|         Normanport|            Dominica|2021-01-18 00:00:00|         Failed|2025-09-08 22:39:27|2025-09-26 18:36:...|2025-09-26 16:55:...|    NULL|      true|\n",
      "|0038ab6a-6b16-442...|        ORD-79E9BD32|    TXN-C1386FF08B59|CUST-4C38EC90|PRD-DA03EA47|     2606.31|          Cash| 12448 Baker Heights|         Chaneyview|          Cape Verde|2022-12-11 00:00:00|        Shipped|2025-09-08 22:39:15|2025-09-26 18:36:...|2025-09-26 16:55:...|    NULL|      true|\n",
      "|0040b5b7-3022-4f7...|        ORD-8487D01F|    TXN-C7613B2FF3C9|CUST-6BADB2DF|PRD-CB44378E|      1265.0|           UPI|4195 Simmons Moun...|         Jeremyside|          Azerbaijan|2024-03-05 00:00:00|      Delivered|2025-09-08 22:39:48|2025-09-26 18:36:...|2025-09-26 16:55:...|    NULL|      true|\n",
      "|0049b9ec-ad8e-4aa...|        ORD-E84F2D6D|    TXN-1F0AA770CD5B|CUST-CADD339B|PRD-EE106B1A|     3484.44|          Cash|     058 Brian Manor|     North Ginabury|                Oman|2022-03-06 00:00:00|        Shipped|2025-09-08 22:39:06|2025-09-26 18:36:...|2025-09-26 16:55:...|    NULL|      true|\n",
      "|004ffa00-c726-421...|45e48375-3427-49d...|66212ca0-5eae-430...|CUST-19AF9B08|PRD-CDD20AA1|      2235.5|        PayPal| 7616 Osborn Heights|        Melaniebury|British Virgin Is...|2023-12-19 00:00:00|         Failed|2025-09-08 23:10:38|2025-09-26 18:36:...|2025-09-26 18:39:...|    NULL|      true|\n",
      "|0059bd7a-32ef-40b...|        ORD-9D9647D4|    TXN-AE585B8BE520|CUST-ADE56737|PRD-A0C9F8E1|     3215.85|    Debit Card|   22755 Lewis Plain| South Jonathanfort|     Solomon Islands|2021-08-19 00:00:00|      Delivered|2025-09-08 23:10:25|2025-09-26 18:36:...|2025-09-26 18:39:...|    NULL|      true|\n",
      "|0065e2ff-3f47-4c6...|        ORD-9E3B94DE|    TXN-5386B619077F|CUST-2EE00EAB|PRD-EC49B456|      4836.3|           UPI|7211 Dale Extensi...|      New Meganfurt|              Belize|2021-10-15 00:00:00|        Shipped|2025-09-08 22:39:23|2025-09-26 18:36:...|2025-09-26 16:55:...|    NULL|      true|\n",
      "|006603ef-4d10-4c9...|f21c2adb-d035-4b9...|53ae13c6-4d6e-41a...|CUST-5BFC912F|PRD-1E9C0701|     5116.24|          Cash|9365 Megan Green ...|       East Ianland|            Thailand|2025-05-22 00:00:00|      Delivered|2025-09-08 23:10:23|2025-09-26 18:36:...|2025-09-26 18:39:...|    NULL|      true|\n",
      "|00738121-3f79-40b...|        ORD-51593718|    TXN-B720D1B529B0|CUST-BB39C072|PRD-7A8473B2|     3767.66|   Credit Card|     670 Lynch Spurs|       Meganborough|             Namibia|2024-06-09 00:00:00|      Preparing|2025-09-08 23:11:14|2025-09-26 18:36:...|2025-09-26 18:39:...|    NULL|      true|\n",
      "|007560e4-b85f-4c6...|        ORD-8FADDD81|    TXN-92FC4EC4C50B|CUST-9226F161|PRD-0CD7B7E5|     4865.46|    Debit Card|847 Garcia Ranch ...|East Alexandrashire|Heard Island and ...|2021-06-08 00:00:00|      Delivered|2025-09-08 23:10:43|2025-09-26 18:36:...|2025-09-26 18:39:...|    NULL|      true|\n",
      "+--------------------+--------------------+--------------------+-------------+------------+------------+--------------+--------------------+-------------------+--------------------+-------------------+---------------+-------------------+--------------------+--------------------+--------+----------+\n",
      "only showing top 20 rows\n",
      "\n"
     ]
    }
   ],
   "source": [
    "df = spark.read.format(\"delta\").load(f\"{base_gold_path}\\\\dim_deliveries\\\\data\")\n",
    "df.createOrReplaceTempView(\"dim_deliveries\")\n",
    "\n",
    "spark.sql(\"SELECT * FROM dim_deliveries\").show()"
   ]
  },
  {
   "cell_type": "code",
   "execution_count": 22,
   "id": "04511a47",
   "metadata": {},
   "outputs": [
    {
     "name": "stdout",
     "output_type": "stream",
     "text": [
      "+------------+-------------------+--------+-------+--------------+----------+-------------------+--------------------------+-----------+-------------------------+--------------------------+----------+\n",
      "|product_id  |name               |category|price  |stock_quantity|created_at|last_updated       |ingestion_timestamp       |product_sk |start_date               |end_date                  |is_current|\n",
      "+------------+-------------------+--------+-------+--------------+----------+-------------------+--------------------------+-----------+-------------------------+--------------------------+----------+\n",
      "|PRD-F06146B3|Clothing - Over 498|Clothing|1583.01|519           |2025-09-02|2025-09-08 22:27:07|2025-09-26 16:54:22.711362|60129569417|2025-09-26 16:55:28.44499|2025-09-26 18:39:08.093926|false     |\n",
      "+------------+-------------------+--------+-------+--------------+----------+-------------------+--------------------------+-----------+-------------------------+--------------------------+----------+\n",
      "\n"
     ]
    }
   ],
   "source": [
    "df = spark.read.format(\"delta\").load(f\"{base_gold_path}\\\\dim_products\\\\data\")\n",
    "\n",
    "df.filter(\"is_current = false\").show(truncate=False)"
   ]
  },
  {
   "cell_type": "code",
   "execution_count": 23,
   "id": "7b639eaa",
   "metadata": {},
   "outputs": [
    {
     "name": "stdout",
     "output_type": "stream",
     "text": [
      "Loading dimensions...\n",
      "Building new_fact_sales...\n",
      "Merging new fact rows into fact_sales...\n",
      "Error while building fact_sales: [DELTA_MULTIPLE_SOURCE_ROW_MATCHING_TARGET_ROW_IN_MERGE] Cannot perform Merge as multiple source rows matched and attempted to modify the same\n",
      "target row in the Delta table in possibly conflicting ways. By SQL semantics of Merge,\n",
      "when multiple source rows match on the same target row, the result may be ambiguous\n",
      "as it is unclear which source row should be used to update or delete the matching\n",
      "target row. You can preprocess the source table to eliminate the possibility of\n",
      "multiple matches. Please refer to\n",
      "https://docs.delta.io/latest/delta-update.html#upsert-into-a-table-using-merge\n",
      "Removing old fact_sales and retrying...\n",
      "fact_sales recreated with fresh schema.\n"
     ]
    }
   ],
   "source": [
    "import os\n",
    "import shutil\n",
    "from delta.tables import DeltaTable\n",
    "from pyspark.sql.functions import col, current_timestamp, lit\n",
    "\n",
    "# === Define Paths Explicitly ===\n",
    "dim_orders_path = r\"C:/Users/User/Desktop/E-Commerce Data Lakaehouse with AI-Powered Self-Healing Pipelines/Gold_layer/Gold_data/dim_orders/data\"\n",
    "dim_customer_path = r\"C:/Users/User/Desktop/E-Commerce Data Lakaehouse with AI-Powered Self-Healing Pipelines/Gold_layer/Gold_data/dim_customer/data\"\n",
    "dim_products_path = r\"C:/Users/User/Desktop/E-Commerce Data Lakaehouse with AI-Powered Self-Healing Pipelines/Gold_layer/Gold_data/dim_products/data\"\n",
    "dim_deliveries_path = r\"C:/Users/User/Desktop/E-Commerce Data Lakaehouse with AI-Powered Self-Healing Pipelines/Gold_layer/Gold_data/dim_deliveries/data\"\n",
    "fact_sales_path = r\"C:/Users/User/Desktop/E-Commerce Data Lakaehouse with AI-Powered Self-Healing Pipelines/Gold_layer/Gold_data/fact_sales/data\"\n",
    "\n",
    "try:\n",
    "    # === Load Dimension Tables ===\n",
    "    print(\"Loading dimensions...\")\n",
    "    dim_orders = spark.read.format(\"delta\").load(dim_orders_path)\n",
    "    dim_customer = spark.read.format(\"delta\").load(dim_customer_path)\n",
    "    dim_products = spark.read.format(\"delta\").load(dim_products_path)\n",
    "    dim_deliveries = spark.read.format(\"delta\").load(dim_deliveries_path)\n",
    "\n",
    "    # === Build Fact Table ===\n",
    "    print(\"Building new_fact_sales...\")\n",
    "    new_fact_sales = (\n",
    "        dim_orders.alias(\"o\")\n",
    "        .join(dim_customer.alias(\"c\"), col(\"o.customer_id\") == col(\"c.customer_id\"), \"left\")\n",
    "        .join(dim_products.alias(\"p\"), col(\"o.product_id\") == col(\"p.product_id\"), \"left\")\n",
    "        .join(dim_deliveries.alias(\"d\"), col(\"o.order_id\") == col(\"d.order_id\"), \"left\")\n",
    "        .select(\n",
    "            col(\"c.customer_sk\").alias(\"customer_sk\"),\n",
    "            col(\"p.product_sk\").alias(\"product_sk\"),\n",
    "            col(\"o.customer_id\"),\n",
    "            col(\"o.order_id\"),\n",
    "            col(\"o.transaction_id\"),\n",
    "            col(\"d.delivery_id\"),\n",
    "            col(\"o.quantity\"),\n",
    "            col(\"o.total_amount\"),\n",
    "            col(\"p.stock_quantity\"),\n",
    "            col(\"c.signup_date\"),\n",
    "            col(\"o.order_date\"),\n",
    "            col(\"d.delivery_date\"),\n",
    "            col(\"c.full_name\"),\n",
    "            col(\"p.name\").alias(\"product_name\"),\n",
    "            col(\"p.category\"),\n",
    "            col(\"o.payment_method\"),\n",
    "            col(\"o.order_status\"),\n",
    "            col(\"d.delivery_status\"),\n",
    "            col(\"o.last_updated\"),\n",
    "            col(\"o.ingestion_timestamp\"),\n",
    "        )\n",
    "        .withColumn(\"start_date\", current_timestamp())\n",
    "        .withColumn(\"end_date\", lit(None).cast(\"timestamp\"))\n",
    "        .withColumn(\"is_current\", lit(True))\n",
    "        .withColumn(\"load_timestamp\", current_timestamp())\n",
    "    )\n",
    "\n",
    "    # === Merge / Create fact_sales ===\n",
    "    if not DeltaTable.isDeltaTable(spark, fact_sales_path):\n",
    "        print(\"Creating fact_sales table...\")\n",
    "        new_fact_sales.write.format(\"delta\").mode(\"overwrite\").option(\"overwriteSchema\", \"true\").save(fact_sales_path)\n",
    "\n",
    "        # Register in Hive Metastore\n",
    "        spark_sql_path = fact_sales_path.replace(\"\\\\\", \"/\")\n",
    "        spark.sql(f\"\"\"\n",
    "            CREATE TABLE IF NOT EXISTS fact_sales\n",
    "            USING DELTA\n",
    "            LOCATION '{spark_sql_path}'\n",
    "        \"\"\")\n",
    "        print(\"fact_sales table created.\")\n",
    "    else:\n",
    "        print(\"Merging new fact rows into fact_sales...\")\n",
    "        fact_sales = DeltaTable.forPath(spark, fact_sales_path)\n",
    "        (fact_sales.alias(\"t\")\n",
    "         .merge(\n",
    "             new_fact_sales.alias(\"s\"),\n",
    "             \"t.order_id = s.order_id AND t.transaction_id = s.transaction_id AND t.is_current = true\"\n",
    "         )\n",
    "         .whenMatchedUpdate(\n",
    "             condition=(\n",
    "                 \"t.total_amount <> s.total_amount OR \"\n",
    "                 \"t.quantity <> s.quantity OR \"\n",
    "                 \"t.order_status <> s.order_status OR \"\n",
    "                 \"t.delivery_status <> s.delivery_status\"\n",
    "             ),\n",
    "             set={\n",
    "                 \"end_date\": \"current_timestamp()\",\n",
    "                 \"is_current\": \"false\"\n",
    "             }\n",
    "         )\n",
    "         .whenNotMatchedInsertAll()\n",
    "         .execute()\n",
    "        )\n",
    "        print(\"fact_sales merged successfully.\")\n",
    "\n",
    "except Exception as e:\n",
    "    print(f\"Error while building fact_sales: {e}\")\n",
    "    # Auto-fix if schema mismatch\n",
    "    if os.path.exists(fact_sales_path):\n",
    "        print(\"Removing old fact_sales and retrying...\")\n",
    "        shutil.rmtree(fact_sales_path)\n",
    "        new_fact_sales.write.format(\"delta\").mode(\"overwrite\").option(\"overwriteSchema\", \"true\").save(fact_sales_path)\n",
    "        spark_sql_path = fact_sales_path.replace(\"\\\\\", \"/\")\n",
    "        spark.sql(f\"\"\"\n",
    "            CREATE TABLE IF NOT EXISTS fact_sales\n",
    "            USING DELTA\n",
    "            LOCATION '{spark_sql_path}'\n",
    "        \"\"\")\n",
    "        print(\"fact_sales recreated with fresh schema.\")\n",
    "    else:\n",
    "        raise\n"
   ]
  },
  {
   "cell_type": "code",
   "execution_count": 24,
   "id": "33fdeec6",
   "metadata": {},
   "outputs": [
    {
     "name": "stdout",
     "output_type": "stream",
     "text": [
      "+-----------+-----------+-------------+--------------------+--------------------+--------------------+--------+------------+--------------+-------------------+-------------------+-------------------+------------------+--------------------+---------------+--------------+------------+---------------+-------------------+--------------------+--------------------+--------+----------+--------------------+\n",
      "|customer_sk| product_sk|  customer_id|            order_id|      transaction_id|         delivery_id|quantity|total_amount|stock_quantity|        signup_date|         order_date|      delivery_date|         full_name|        product_name|       category|payment_method|order_status|delivery_status|       last_updated| ingestion_timestamp|          start_date|end_date|is_current|      load_timestamp|\n",
      "+-----------+-----------+-------------+--------------------+--------------------+--------------------+--------+------------+--------------+-------------------+-------------------+-------------------+------------------+--------------------+---------------+--------------+------------+---------------+-------------------+--------------------+--------------------+--------+----------+--------------------+\n",
      "|51539615028| 8589944437|CUST-2FCF789E|0028e904-f8b5-402...|937c07ac-5fd8-404...|2d8c14c9-c39e-4c3...|       1|     1412.68|           988|2021-10-24 00:00:00|2024-11-30 00:00:00|2024-12-05 00:00:00|      James Miller|   Books - Chair 486|          Books|    Debit Card|     Shipped|      Preparing|2025-09-08 23:01:45|2025-09-26 18:36:...|2025-09-27 10:14:...|    NULL|      true|2025-09-27 10:14:...|\n",
      "|34359765205|51539624528|CUST-F2DE1714|003e7a1e-f9e0-4fe...|1a281fcc-c8e2-48b...|                NULL|       2|     3587.38|           788|2024-05-30 00:00:00|2024-10-22 00:00:00|               NULL|        Jose Evans|   Sports - Fund 884|         Sports|           UPI|     Shipped|           NULL|2025-09-08 23:00:37|2025-09-26 18:36:...|2025-09-27 10:14:...|    NULL|      true|2025-09-27 10:14:...|\n",
      "| 8589960657|17179893249|CUST-F53E09E0|00467baf-6703-44f...|15e9bd05-eb98-447...|                NULL|       1|       71.99|           872|2023-02-07 00:00:00|2025-03-05 00:00:00|               NULL|        Kevin West|Home & Kitchen - ...| Home & Kitchen|    Debit Card|   Delivered|           NULL|2025-09-08 23:00:52|2025-09-26 18:36:...|2025-09-27 10:14:...|    NULL|      true|2025-09-27 10:14:...|\n",
      "|17179894808|51539624154|CUST-F13FFE8A|00a45630-cd9a-4a2...|4e5ec230-cb11-47b...|6a9a6498-ebf8-433...|       4|      4046.6|            28|2022-11-07 00:00:00|2024-11-21 00:00:00|2024-11-22 00:00:00|       Sandy Moore|    Sports - War 978|         Sports|           UPI|   Cancelled|      Preparing|2025-09-08 23:00:28|2025-09-26 18:36:...|2025-09-27 10:14:...|    NULL|      true|2025-09-27 10:14:...|\n",
      "|17179894808|51539624154|CUST-F13FFE8A|00a45630-cd9a-4a2...|4e5ec230-cb11-47b...|17347f38-f238-485...|       4|      4046.6|            28|2022-11-07 00:00:00|2024-11-21 00:00:00|2024-11-24 00:00:00|       Sandy Moore|    Sports - War 978|         Sports|           UPI|   Cancelled|     In Transit|2025-09-08 23:00:28|2025-09-26 18:36:...|2025-09-27 10:14:...|    NULL|      true|2025-09-27 10:14:...|\n",
      "|17179894808|51539624154|CUST-F13FFE8A|00a45630-cd9a-4a2...|4e5ec230-cb11-47b...|024c6d3f-ff03-49d...|       4|      4046.6|            28|2022-11-07 00:00:00|2024-11-21 00:00:00|2024-11-26 00:00:00|       Sandy Moore|    Sports - War 978|         Sports|           UPI|   Cancelled|     In Transit|2025-09-08 23:00:28|2025-09-26 18:36:...|2025-09-27 10:14:...|    NULL|      true|2025-09-27 10:14:...|\n",
      "|60129572589|17179881204|CUST-F5836608|00a5d317-0f49-4c8...|cca8d3e2-e84e-486...|01adf1d2-35a1-4da...|       3|      549.96|           919|2023-08-24 00:00:00|2023-12-24 00:00:00|2023-12-31 00:00:00|   Alexander Hicks|  Sports - Today 602|         Sports|    Debit Card|     Pending|      Delivered|2025-09-08 23:01:40|2025-09-26 18:36:...|2025-09-27 10:14:...|    NULL|      true|2025-09-27 10:14:...|\n",
      "|60129567733| 8589950062|CUST-C99B0647|00a968e9-f899-4be...|1ce01eb0-ed3b-4f9...|aecf0e3c-35a7-4af...|       4|     5968.24|           536|2021-04-27 00:00:00|2025-04-16 00:00:00|2025-04-21 00:00:00|Christopher Grimes|Groceries - Econo...|      Groceries|   Credit Card|     Pending|         Failed|2025-09-08 23:02:46|2025-09-26 18:36:...|2025-09-27 10:14:...|    NULL|      true|2025-09-27 10:14:...|\n",
      "|51539629846|      17431|CUST-CD9BB60D|00d2a5c9-615e-488...|ee281351-a3e8-420...|97e8524e-790f-47c...|       4|     3484.96|            60|2024-08-25 00:00:00|2025-01-14 00:00:00|2025-01-16 00:00:00|       Alexis Hunt|   Sports - Miss 215|         Sports|        PayPal|   Cancelled|        Shipped|2025-09-08 23:02:57|2025-09-26 18:36:...|2025-09-27 10:14:...|    NULL|      true|2025-09-27 10:14:...|\n",
      "|25769819102| 8589940222|CUST-7C151EE9|00deaa08-39e9-4f8...|fd0ab33f-1e56-45a...|8577ae9c-b4b8-4a0...|       1|      248.52|            62|2020-10-06 00:00:00|2025-03-24 00:00:00|2025-03-27 00:00:00|      Nicole Mason|Clothing - Imagin...|       Clothing|          Cash|   Cancelled|      Delivered|2025-09-08 23:00:19|2025-09-26 18:36:...|2025-09-27 10:14:...|    NULL|      true|2025-09-27 10:14:...|\n",
      "|34359743936|17179872972|CUST-18C73D6F|00eaebcb-3cc4-474...|c42cd43d-1d5e-4db...|e2db8e42-ee5c-42b...|       2|       54.88|           593|2021-03-06 00:00:00|2024-08-13 00:00:00|2024-08-15 00:00:00|      David Cherry|Home & Kitchen - ...| Home & Kitchen|           UPI|   Cancelled|      Delivered|2025-09-08 23:02:25|2025-09-26 18:36:...|2025-09-27 10:14:...|    NULL|      true|2025-09-27 10:14:...|\n",
      "|34359743936|17179872972|CUST-18C73D6F|00eaebcb-3cc4-474...|c42cd43d-1d5e-4db...|69f471b1-ef9c-4bf...|       2|       54.88|           593|2021-03-06 00:00:00|2024-08-13 00:00:00|2024-08-14 00:00:00|      David Cherry|Home & Kitchen - ...| Home & Kitchen|           UPI|   Cancelled|      Delivered|2025-09-08 23:02:25|2025-09-26 18:36:...|2025-09-27 10:14:...|    NULL|      true|2025-09-27 10:14:...|\n",
      "|17179886411|60129567593|CUST-974F9F40|0107406a-edad-4ad...|2b2b29d0-7d40-41b...|1c1963e9-b786-41b...|       4|      3341.0|           549|2021-09-06 00:00:00|2024-05-14 00:00:00|2024-05-15 00:00:00|    Brandy Leonard|Office Supplies -...|Office Supplies|   Credit Card|     Shipped|      Delivered|2025-09-08 23:01:04|2025-09-26 18:36:...|2025-09-27 10:14:...|    NULL|      true|2025-09-27 10:14:...|\n",
      "|17179886411|60129567593|CUST-974F9F40|0107406a-edad-4ad...|2b2b29d0-7d40-41b...|560cf869-1d57-4dc...|       4|      3341.0|           549|2021-09-06 00:00:00|2024-05-14 00:00:00|2024-05-23 00:00:00|    Brandy Leonard|Office Supplies -...|Office Supplies|   Credit Card|     Shipped|      Delivered|2025-09-08 23:01:04|2025-09-26 18:36:...|2025-09-27 10:14:...|    NULL|      true|2025-09-27 10:14:...|\n",
      "|      15373|60129557689|CUST-7E03D360|010f33d7-f6da-458...|e7df56bf-6b93-441...|a93f5eca-ea19-4ed...|       4|      5176.8|            98|2022-04-17 00:00:00|2024-06-07 00:00:00|2024-06-13 00:00:00|     Linda Sanders|Automotive - Care...|     Automotive|    Debit Card|   Delivered|        Shipped|2025-09-08 23:02:53|2025-09-26 18:36:...|2025-09-27 10:14:...|    NULL|      true|2025-09-27 10:14:...|\n",
      "|      15599| 8589939934|CUST-80919881|011838cb-5adb-436...|82b13850-6e3b-485...|421ee526-a691-438...|       4|      1426.6|           347|2020-09-19 00:00:00|2024-04-11 00:00:00|2024-04-14 00:00:00|        Jodi Singh|Sports - Capital 506|         Sports|           UPI|   Cancelled|      Delivered|2025-09-08 23:02:58|2025-09-26 18:36:...|2025-09-27 10:14:...|    NULL|      true|2025-09-27 10:14:...|\n",
      "|      15599| 8589939934|CUST-80919881|011838cb-5adb-436...|82b13850-6e3b-485...|51de0cb6-8615-4f2...|       4|      1426.6|           347|2020-09-19 00:00:00|2024-04-11 00:00:00|2024-04-14 00:00:00|        Jodi Singh|Sports - Capital 506|         Sports|           UPI|   Cancelled|         Failed|2025-09-08 23:02:58|2025-09-26 18:36:...|2025-09-27 10:14:...|    NULL|      true|2025-09-27 10:14:...|\n",
      "| 8589951466|42949678446|CUST-940722DC|011a3193-2c84-41c...|a29b08fa-2b86-42c...|                NULL|       1|       55.14|           753|2021-08-13 00:00:00|2025-05-29 00:00:00|               NULL|       Joshua Hunt|Home & Kitchen - ...| Home & Kitchen|        PayPal|     Pending|           NULL|2025-09-08 23:03:04|2025-09-26 18:36:...|2025-09-27 10:14:...|    NULL|      true|2025-09-27 10:14:...|\n",
      "|17179879064|51539622827|CUST-49487CC9|01278c41-2988-46b...|19afa30c-785d-41f...|bdc9c449-240c-4fd...|       3|     5316.63|            43|2025-07-26 00:00:00|2023-10-26 00:00:00|2023-11-05 00:00:00|    Steven Sanchez|    Books - Item 944|          Books|    Debit Card|     Pending|        Shipped|2025-09-08 23:02:21|2025-09-26 18:36:...|2025-09-27 10:14:...|    NULL|      true|2025-09-27 10:14:...|\n",
      "|42949695970|34359756320|CUST-CE563994|012ca43b-0fb3-4ca...|8e360eaf-91a2-425...|9e8d6bf2-1a22-462...|       3|      312.93|           571|2022-02-28 00:00:00|2024-08-20 00:00:00|2024-08-26 00:00:00|      Sean Calhoun|Automotive - Watc...|     Automotive|   Credit Card|     Shipped|         Failed|2025-09-08 23:03:11|2025-09-26 18:36:...|2025-09-27 10:14:...|    NULL|      true|2025-09-27 10:14:...|\n",
      "+-----------+-----------+-------------+--------------------+--------------------+--------------------+--------+------------+--------------+-------------------+-------------------+-------------------+------------------+--------------------+---------------+--------------+------------+---------------+-------------------+--------------------+--------------------+--------+----------+--------------------+\n",
      "only showing top 20 rows\n",
      "\n"
     ]
    }
   ],
   "source": [
    "df = spark.read.format(\"delta\").load(f\"C:\\\\Users\\\\User\\\\Desktop\\\\E-Commerce Data Lakaehouse with AI-Powered Self-Healing Pipelines\\\\Gold_layer\\\\Gold_data\\\\fact_sales\\\\data\")\n",
    "df.createOrReplaceTempView(\"fact_sales\")\n",
    "\n",
    "spark.sql(\"SELECT * FROM fact_sales\").show()"
   ]
  },
  {
   "cell_type": "code",
   "execution_count": 25,
   "id": "1b181243",
   "metadata": {},
   "outputs": [
    {
     "name": "stdout",
     "output_type": "stream",
     "text": [
      "Total records in fact table: 152622\n"
     ]
    }
   ],
   "source": [
    "fact_sales = DeltaTable.forPath(spark, fact_sales_path)\n",
    "\n",
    "# Convert to DataFrame\n",
    "fact_sales_df = fact_sales.toDF()\n",
    "\n",
    "fact_count = fact_sales_df.count()\n",
    "print(f\"Total records in fact table: {fact_count}\")"
   ]
  },
  {
   "cell_type": "code",
   "execution_count": 26,
   "id": "71b65390",
   "metadata": {},
   "outputs": [
    {
     "name": "stdout",
     "output_type": "stream",
     "text": [
      "+-----------------+----------------+-----------------+--------------+--------------------+-----------------+--------------+------------------+--------------------+-----------------+----------------+-------------------+---------------+------------------+--------------+--------------------+------------------+---------------------+------------------+-------------------------+----------------+--------------+----------------+--------------------+\n",
      "|customer_sk_nulls|product_sk_nulls|customer_id_nulls|order_id_nulls|transaction_id_nulls|delivery_id_nulls|quantity_nulls|total_amount_nulls|stock_quantity_nulls|signup_date_nulls|order_date_nulls|delivery_date_nulls|full_name_nulls|product_name_nulls|category_nulls|payment_method_nulls|order_status_nulls|delivery_status_nulls|last_updated_nulls|ingestion_timestamp_nulls|start_date_nulls|end_date_nulls|is_current_nulls|load_timestamp_nulls|\n",
      "+-----------------+----------------+-----------------+--------------+--------------------+-----------------+--------------+------------------+--------------------+-----------------+----------------+-------------------+---------------+------------------+--------------+--------------------+------------------+---------------------+------------------+-------------------------+----------------+--------------+----------------+--------------------+\n",
      "|0                |0               |0                |0             |0                   |38879            |0             |0                 |0                   |0                |0               |38879              |0              |0                 |0             |0                   |0                 |38879                |0                 |0                        |0               |152622        |0               |0                   |\n",
      "+-----------------+----------------+-----------------+--------------+--------------------+-----------------+--------------+------------------+--------------------+-----------------+----------------+-------------------+---------------+------------------+--------------+--------------------+------------------+---------------------+------------------+-------------------------+----------------+--------------+----------------+--------------------+\n",
      "\n"
     ]
    }
   ],
   "source": [
    "from pyspark.sql.functions import col, when, sum\n",
    "\n",
    "# Convert to DataFrame first\n",
    "fact_sales_df = fact_sales.toDF()\n",
    "\n",
    "null_counts = fact_sales_df.select([\n",
    "    sum(when(col(c).isNull(), 1).otherwise(0)).alias(c + \"_nulls\")\n",
    "    for c in fact_sales_df.columns\n",
    "])\n",
    "\n",
    "null_counts.show(truncate=False)\n"
   ]
  },
  {
   "cell_type": "code",
   "execution_count": 27,
   "id": "809b3b3d",
   "metadata": {},
   "outputs": [
    {
     "name": "stdout",
     "output_type": "stream",
     "text": [
      "root\n",
      " |-- customer_sk: long (nullable = true)\n",
      " |-- product_sk: long (nullable = true)\n",
      " |-- customer_id: string (nullable = true)\n",
      " |-- order_id: string (nullable = true)\n",
      " |-- transaction_id: string (nullable = true)\n",
      " |-- delivery_id: string (nullable = true)\n",
      " |-- quantity: integer (nullable = true)\n",
      " |-- total_amount: double (nullable = true)\n",
      " |-- stock_quantity: integer (nullable = true)\n",
      " |-- signup_date: timestamp (nullable = true)\n",
      " |-- order_date: timestamp (nullable = true)\n",
      " |-- delivery_date: timestamp (nullable = true)\n",
      " |-- full_name: string (nullable = true)\n",
      " |-- product_name: string (nullable = true)\n",
      " |-- category: string (nullable = true)\n",
      " |-- payment_method: string (nullable = true)\n",
      " |-- order_status: string (nullable = true)\n",
      " |-- delivery_status: string (nullable = true)\n",
      " |-- last_updated: timestamp (nullable = true)\n",
      " |-- ingestion_timestamp: timestamp (nullable = true)\n",
      " |-- start_date: timestamp (nullable = true)\n",
      " |-- end_date: timestamp (nullable = true)\n",
      " |-- is_current: boolean (nullable = true)\n",
      " |-- load_timestamp: timestamp (nullable = true)\n",
      "\n"
     ]
    }
   ],
   "source": [
    "fact_sales_df.printSchema()"
   ]
  }
 ],
 "metadata": {
  "kernelspec": {
   "display_name": "Python 3",
   "language": "python",
   "name": "python3"
  },
  "language_info": {
   "codemirror_mode": {
    "name": "ipython",
    "version": 3
   },
   "file_extension": ".py",
   "mimetype": "text/x-python",
   "name": "python",
   "nbconvert_exporter": "python",
   "pygments_lexer": "ipython3",
   "version": "3.10.11"
  }
 },
 "nbformat": 4,
 "nbformat_minor": 5
}
