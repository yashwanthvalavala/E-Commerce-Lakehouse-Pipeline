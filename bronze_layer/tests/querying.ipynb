{
 "cells": [
  {
   "cell_type": "code",
   "execution_count": null,
   "id": "bec4337a",
   "metadata": {},
   "outputs": [],
   "source": [
    "from pyspark.sql import SparkSession\n",
    "\n",
    "spark = (\n",
    "    SparkSession.builder\n",
    "    .appName(\"BronzeAutoloader\")\n",
    "    .master(\"local[*]\")\n",
    "    .config(\n",
    "        \"spark.jars.packages\",\n",
    "        \"io.delta:delta-spark_2.12:3.1.0\"  \n",
    "    )\n",
    "    .config(\"spark.sql.extensions\", \"io.delta.sql.DeltaSparkSessionExtension\")\n",
    "    .config(\"spark.sql.catalog.spark_catalog\", \"org.apache.spark.sql.delta.catalog.DeltaCatalog\")\n",
    "    .getOrCreate()\n",
    ")"
   ]
  },
  {
   "cell_type": "code",
   "execution_count": null,
   "id": "6833e731",
   "metadata": {},
   "outputs": [],
   "source": [
    "base_path = r\"C:\\Users\\User\\Desktop\\E-Commerce Data Lakaehouse with AI-Powered Self-Healing Pipelines\\bronze_layer\"\n",
    "\n",
    "spark.read.format(\"delta\").load(f\"{base_path}\\\\customers\\\\bronze_data\\\\data\").createOrReplaceTempView(\"customers\")\n",
    "spark.read.format(\"delta\").load(f\"{base_path}\\\\orders\\\\bronze_data\\\\data\").createOrReplaceTempView(\"orders\")\n",
    "spark.read.format(\"delta\").load(f\"{base_path}\\\\products\\\\bronze_data\\\\data\").createOrReplaceTempView(\"products\")\n",
    "spark.read.format(\"delta\").load(f\"{base_path}\\\\deliveries\\\\bronze_data\\\\data\").createOrReplaceTempView(\"deliveries\")\n"
   ]
  },
  {
   "cell_type": "code",
   "execution_count": 5,
   "id": "7142dfc2",
   "metadata": {},
   "outputs": [
    {
     "name": "stdout",
     "output_type": "stream",
     "text": [
      "+-------------+---------+--------+--------------------+--------------------+------------+--------------------+\n",
      "|  customer_id|     name|   email|               phone|             address|last_updated| ingestion_timestamp|\n",
      "+-------------+---------+--------+--------------------+--------------------+------------+--------------------+\n",
      "|CUST-AB8A956C|Christine| Beltran|christine.beltran...| +1-903-958-7245x114|        NULL|2025-09-09 19:50:...|\n",
      "|CUST-007BC52B|   Deanna|   Cowan|deanna.cowan0947@...|        968.889.4035|        NULL|2025-09-09 19:50:...|\n",
      "|CUST-FBBDC80D|  Barbara| Benitez|barbara.benitez63...|       (684)418-4457|        NULL|2025-09-09 19:50:...|\n",
      "|CUST-51E53632|   Cheryl| Holland|cheryl.hollandf8e...|001-682-611-5997x454|        NULL|2025-09-09 19:50:...|\n",
      "|CUST-FB3B4D87|     Tina|   Gomez|tina.gomezf967@ex...|          4195580015|        NULL|2025-09-09 19:50:...|\n",
      "|CUST-20619342|  Jeffrey|Gonzales|jeffrey.gonzalesa...|001-485-711-4129x835|        NULL|2025-09-09 19:50:...|\n",
      "|CUST-EC88D9B2|    Tyler|   Kelly|tyler.kelly221f@e...|001-681-722-6371x351|        NULL|2025-09-09 19:50:...|\n",
      "|CUST-534DDC21|   Thomas|  Guzman|thomas.guzmanaa71...|    001-730-490-0395|        NULL|2025-09-09 19:50:...|\n",
      "|CUST-642E3720|   Angela|   Hicks|angela.hicksa3c1@...|    001-428-865-1401|        NULL|2025-09-09 19:50:...|\n",
      "|CUST-DF9E42E9|    Emily|Marshall|emily.marshall641...|   (469)429-2252x959|        NULL|2025-09-09 19:50:...|\n",
      "+-------------+---------+--------+--------------------+--------------------+------------+--------------------+\n",
      "\n"
     ]
    }
   ],
   "source": [
    "spark.sql(\"SELECT * FROM customers LIMIT 10\").show()"
   ]
  },
  {
   "cell_type": "code",
   "execution_count": 7,
   "id": "07d8e910",
   "metadata": {},
   "outputs": [
    {
     "name": "stdout",
     "output_type": "stream",
     "text": [
      "+------------+--------------------+---------------+-------+--------------+-------------------+--------------------+\n",
      "|  product_id|        product_name|       category|  price|stock_quantity|       last_updated| ingestion_timestamp|\n",
      "+------------+--------------------+---------------+-------+--------------+-------------------+--------------------+\n",
      "|PRD-A46FAE52|     Toys - Them 293|           Toys| 347.53|           369|2023-03-24 00:00:00|2025-09-09 19:50:...|\n",
      "|PRD-A8598CEB|Electronics - Mil...|    Electronics| 946.46|           185|2021-01-07 00:00:00|2025-09-09 19:50:...|\n",
      "|PRD-98AAB8E0|Clothing - Marria...|       Clothing| 556.25|           886|2024-06-28 00:00:00|2025-09-09 19:50:...|\n",
      "|PRD-238E99F7| Jewelry - Where 994|        Jewelry|1294.27|           820|2023-09-08 00:00:00|2025-09-09 19:50:...|\n",
      "|PRD-D2AF0289|Office Supplies -...|Office Supplies| 666.72|           518|2025-02-01 00:00:00|2025-09-09 19:50:...|\n",
      "|PRD-9E161A3E|Home & Kitchen - ...| Home & Kitchen|  36.06|           692|2023-08-17 00:00:00|2025-09-09 19:50:...|\n",
      "|PRD-60DAF97E|Beauty - Century 745|         Beauty|1277.64|           369|2023-12-13 00:00:00|2025-09-09 19:50:...|\n",
      "|PRD-3EE3115C|Groceries - Democ...|      Groceries|1190.83|           595|2021-12-26 00:00:00|2025-09-09 19:50:...|\n",
      "|PRD-6A22CBA6| Jewelry - Major 457|        Jewelry|1075.93|           813|2022-05-26 00:00:00|2025-09-09 19:50:...|\n",
      "|PRD-B06DC705|Automotive - Game...|     Automotive|  976.3|           891|2023-04-25 00:00:00|2025-09-09 19:50:...|\n",
      "+------------+--------------------+---------------+-------+--------------+-------------------+--------------------+\n",
      "\n"
     ]
    }
   ],
   "source": [
    "spark.sql(\"SELECT * FROM products LIMIT 10\").show()"
   ]
  },
  {
   "cell_type": "code",
   "execution_count": null,
   "id": "866509a9",
   "metadata": {},
   "outputs": [
    {
     "name": "stdout",
     "output_type": "stream",
     "text": [
      "+--------------------+------------+-------------+-------------+-------------------+------------+--------------------+\n",
      "|         delivery_id|    order_id|delivery_date|       status|   delivery_partner|last_updated| ingestion_timestamp|\n",
      "+--------------------+------------+-------------+-------------+-------------------+------------+--------------------+\n",
      "|7292f505-3892-4a1...|ORD-51D9E44D|         NULL|CUST-93C23A48|   Andrea Cervantes|        NULL|2025-09-09 19:50:...|\n",
      "|7a05e34b-fd6a-459...|ORD-E1F32236|         NULL|CUST-C4709DCA|     Tiffany Bryant|        NULL|2025-09-09 19:50:...|\n",
      "|3c25d6b0-4e9e-464...|ORD-D20EA5E5|         NULL|CUST-6E0261F8|         Lisa Woods|        NULL|2025-09-09 19:50:...|\n",
      "|f4c22349-f565-425...|ORD-1EAD4A6A|         NULL|CUST-EDAE66E6|        Andrew Hill|        NULL|2025-09-09 19:50:...|\n",
      "|d7926869-3e63-444...|ORD-388CC71A|         NULL|CUST-A8A081C6|Michelle Cunningham|        NULL|2025-09-09 19:50:...|\n",
      "|3b604b98-dbe7-448...|ORD-9A3997D4|         NULL|CUST-BB60D2DD| Jessica Richardson|        NULL|2025-09-09 19:50:...|\n",
      "|13528bc9-ad04-4fc...|ORD-2149B7FB|         NULL|CUST-D6DE3834|       Ashley Singh|        NULL|2025-09-09 19:50:...|\n",
      "|3f421724-f405-4ae...|ORD-B89484A9|         NULL|CUST-59453273|      Brian Camacho|        NULL|2025-09-09 19:50:...|\n",
      "|c2f5b3f8-2507-43c...|ORD-35938A63|         NULL|CUST-D5E36FFE|     Carrie Escobar|        NULL|2025-09-09 19:50:...|\n",
      "|a2d10ce0-327e-4b9...|ORD-60901C4B|         NULL|CUST-8CC897D6|       Michael Ward|        NULL|2025-09-09 19:50:...|\n",
      "+--------------------+------------+-------------+-------------+-------------------+------------+--------------------+\n",
      "\n"
     ]
    }
   ],
   "source": [
    "spark.sql(\"SELECT * FROM deliveries LIMIT 10\").show()"
   ]
  },
  {
   "cell_type": "code",
   "execution_count": 8,
   "id": "3922e34e",
   "metadata": {},
   "outputs": [
    {
     "name": "stdout",
     "output_type": "stream",
     "text": [
      "+------------+----------------+-------------+--------+------------+----------+-------------------+--------------------+\n",
      "|    order_id|     customer_id|   product_id|quantity|total_amount|order_date|       last_updated| ingestion_timestamp|\n",
      "+------------+----------------+-------------+--------+------------+----------+-------------------+--------------------+\n",
      "|ORD-43B855DF|TXN-3D470C3EB548|CUST-B36B8E4E|    NULL|         1.0|      NULL|2022-03-22 00:00:00|2025-09-09 19:50:...|\n",
      "|ORD-4BAA8377|TXN-BCBB1008612C|CUST-D09505AC|    NULL|         2.0|      NULL|2021-07-10 00:00:00|2025-09-09 19:50:...|\n",
      "|ORD-620B0DE7|TXN-1F616FC209BB|CUST-72DDB465|    NULL|         3.0|      NULL|2022-06-18 00:00:00|2025-09-09 19:50:...|\n",
      "|ORD-B9B39560|TXN-264BF45FD6AA|CUST-1CA5AF40|    NULL|         2.0|      NULL|2023-05-06 00:00:00|2025-09-09 19:50:...|\n",
      "|ORD-EFE4EA31|TXN-38A022010B56|CUST-59125B29|    NULL|         2.0|      NULL|2025-05-20 00:00:00|2025-09-09 19:50:...|\n",
      "|ORD-CD96D372|TXN-5AEF1C8C54D8|CUST-37D2B942|    NULL|         1.0|      NULL|2024-06-23 00:00:00|2025-09-09 19:50:...|\n",
      "|ORD-35462235|TXN-339BA5016CFC|CUST-F82706BA|    NULL|         1.0|      NULL|2022-03-14 00:00:00|2025-09-09 19:50:...|\n",
      "|ORD-2B99A5D4|TXN-12067F07FE98|CUST-CCEB500E|    NULL|         1.0|      NULL|2021-01-14 00:00:00|2025-09-09 19:50:...|\n",
      "|ORD-D29591D0|TXN-3CF6B2BAE12D|CUST-DD38882D|    NULL|         3.0|      NULL|2020-10-20 00:00:00|2025-09-09 19:50:...|\n",
      "|ORD-ED0101FD|TXN-E8D3C20205B0|CUST-35AB757C|    NULL|         2.0|      NULL|2021-03-29 00:00:00|2025-09-09 19:50:...|\n",
      "+------------+----------------+-------------+--------+------------+----------+-------------------+--------------------+\n",
      "\n"
     ]
    }
   ],
   "source": [
    "spark.sql(\"SELECT * FROM orders LIMIT 10\").show()"
   ]
  }
 ],
 "metadata": {
  "kernelspec": {
   "display_name": "Python 3",
   "language": "python",
   "name": "python3"
  },
  "language_info": {
   "codemirror_mode": {
    "name": "ipython",
    "version": 3
   },
   "file_extension": ".py",
   "mimetype": "text/x-python",
   "name": "python",
   "nbconvert_exporter": "python",
   "pygments_lexer": "ipython3",
   "version": "3.10.11"
  }
 },
 "nbformat": 4,
 "nbformat_minor": 5
}
