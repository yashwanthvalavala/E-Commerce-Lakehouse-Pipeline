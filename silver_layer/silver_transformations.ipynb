{
 "cells": [
  {
   "cell_type": "code",
   "execution_count": 1,
   "id": "b99614de",
   "metadata": {
    "execution": {
     "iopub.execute_input": "2025-09-26T13:05:34.595941Z",
     "iopub.status.busy": "2025-09-26T13:05:34.595941Z",
     "iopub.status.idle": "2025-09-26T13:05:40.082159Z",
     "shell.execute_reply": "2025-09-26T13:05:40.081338Z"
    },
    "papermill": {
     "duration": 5.496414,
     "end_time": "2025-09-26T13:05:40.083329",
     "exception": false,
     "start_time": "2025-09-26T13:05:34.586915",
     "status": "completed"
    },
    "tags": []
   },
   "outputs": [],
   "source": [
    "from pyspark.sql import SparkSession\n",
    "\n",
    "spark = (\n",
    "    SparkSession.builder\n",
    "    .appName(\"SilverLayerETL\")\n",
    "    .master(\"local[*]\")\n",
    "    .config(\"spark.jars.packages\", \"io.delta:delta-spark_2.12:3.1.0\")\n",
    "    .config(\"spark.sql.extensions\", \"io.delta.sql.DeltaSparkSessionExtension\")\n",
    "    .config(\"spark.sql.catalog.spark_catalog\", \"org.apache.spark.sql.delta.catalog.DeltaCatalog\")\n",
    "    .getOrCreate()\n",
    ")"
   ]
  },
  {
   "cell_type": "code",
   "execution_count": 2,
   "id": "19f038c3",
   "metadata": {
    "execution": {
     "iopub.execute_input": "2025-09-26T13:05:40.094578Z",
     "iopub.status.busy": "2025-09-26T13:05:40.094578Z",
     "iopub.status.idle": "2025-09-26T13:05:40.113514Z",
     "shell.execute_reply": "2025-09-26T13:05:40.111480Z"
    },
    "papermill": {
     "duration": 0.025157,
     "end_time": "2025-09-26T13:05:40.114488",
     "exception": false,
     "start_time": "2025-09-26T13:05:40.089331",
     "status": "completed"
    },
    "tags": []
   },
   "outputs": [],
   "source": [
    "bronze_base = r\"C:\\Users\\User\\Desktop\\E-Commerce Data Lakaehouse with AI-Powered Self-Healing Pipelines\\bronze_layer\\bronze_data\"\n",
    "silver_base = r\"C:\\Users\\User\\Desktop\\E-Commerce Data Lakaehouse with AI-Powered Self-Healing Pipelines\\silver_layer\\silver_data\"\n",
    "\n",
    "datasets = [\"customers\", \"products\", \"orders\", \"deliveries\"]"
   ]
  },
  {
   "cell_type": "code",
   "execution_count": 3,
   "id": "092d3fae",
   "metadata": {
    "execution": {
     "iopub.execute_input": "2025-09-26T13:05:40.125259Z",
     "iopub.status.busy": "2025-09-26T13:05:40.125259Z",
     "iopub.status.idle": "2025-09-26T13:05:46.755582Z",
     "shell.execute_reply": "2025-09-26T13:05:46.754463Z"
    },
    "papermill": {
     "duration": 6.637333,
     "end_time": "2025-09-26T13:05:46.757583",
     "exception": false,
     "start_time": "2025-09-26T13:05:40.120250",
     "status": "completed"
    },
    "tags": []
   },
   "outputs": [],
   "source": [
    "base_path = r\"C:\\Users\\User\\Desktop\\E-Commerce Data Lakaehouse with AI-Powered Self-Healing Pipelines\\bronze_layer\"\n",
    "\n",
    "spark.read.format(\"delta\").load(f\"{base_path}\\\\bronze_data\\\\customers\\\\data\").createOrReplaceTempView(\"customers\")\n",
    "spark.read.format(\"delta\").load(f\"{base_path}\\\\bronze_data\\\\orders\\\\data\").createOrReplaceTempView(\"orders\")\n",
    "spark.read.format(\"delta\").load(f\"{base_path}\\\\bronze_data\\\\products\\\\data\").createOrReplaceTempView(\"products\")\n",
    "spark.read.format(\"delta\").load(f\"{base_path}\\\\bronze_data\\\\deliveries\\\\data\").createOrReplaceTempView(\"deliveries\")"
   ]
  },
  {
   "cell_type": "code",
   "execution_count": 4,
   "id": "c716c081",
   "metadata": {
    "execution": {
     "iopub.execute_input": "2025-09-26T13:05:46.769701Z",
     "iopub.status.busy": "2025-09-26T13:05:46.769701Z",
     "iopub.status.idle": "2025-09-26T13:05:46.863147Z",
     "shell.execute_reply": "2025-09-26T13:05:46.863035Z"
    },
    "papermill": {
     "duration": 0.101449,
     "end_time": "2025-09-26T13:05:46.865149",
     "exception": false,
     "start_time": "2025-09-26T13:05:46.763700",
     "status": "completed"
    },
    "tags": []
   },
   "outputs": [],
   "source": [
    "bronze_customers = spark.read.format(\"delta\").load(f\"{bronze_base}\\\\customers\\\\data\")\n",
    "bronze_products = spark.read.format(\"delta\").load(f\"{bronze_base}\\\\products\\\\data\")\n",
    "bronze_orders = spark.read.format(\"delta\").load(f\"{bronze_base}\\\\orders\\\\data\")\n",
    "bronze_deliveries = spark.read.format(\"delta\").load(f\"{bronze_base}\\\\deliveries\\\\data\")"
   ]
  },
  {
   "cell_type": "markdown",
   "id": "a94274ab",
   "metadata": {
    "papermill": {
     "duration": 0.009116,
     "end_time": "2025-09-26T13:05:46.884390",
     "exception": false,
     "start_time": "2025-09-26T13:05:46.875274",
     "status": "completed"
    },
    "tags": []
   },
   "source": [
    "Transformation of Customer table"
   ]
  },
  {
   "cell_type": "code",
   "execution_count": 5,
   "id": "3a34b08b",
   "metadata": {
    "execution": {
     "iopub.execute_input": "2025-09-26T13:05:46.897606Z",
     "iopub.status.busy": "2025-09-26T13:05:46.897606Z",
     "iopub.status.idle": "2025-09-26T13:05:54.445011Z",
     "shell.execute_reply": "2025-09-26T13:05:54.444043Z"
    },
    "papermill": {
     "duration": 7.556585,
     "end_time": "2025-09-26T13:05:54.446011",
     "exception": false,
     "start_time": "2025-09-26T13:05:46.889426",
     "status": "completed"
    },
    "tags": []
   },
   "outputs": [
    {
     "name": "stdout",
     "output_type": "stream",
     "text": [
      "+-------------+----------+---------+--------------------+----------+--------------------+--------------------+--------------------+-----------+-------------------+--------------------+-----------------+\n",
      "|  customer_id|first_name|last_name|               email|     phone|             address|                city|             country|signup_date|       last_updated| ingestion_timestamp|             name|\n",
      "+-------------+----------+---------+--------------------+----------+--------------------+--------------------+--------------------+-----------+-------------------+--------------------+-----------------+\n",
      "|CUST-1C7B4FE4|   William|     Ross|william.ross78@ya...|3730730184|52224 May Valleys...|       South Matthew|    Christmas Island| 2025-06-02|2025-09-08 22:53:37|2025-09-26 18:35:...|     William Ross|\n",
      "|CUST-2E039EDB|    Jeremy|     Byrd|jeremy.byrd22@gma...|1807627048|   459 Edwards Parks|North Christopher...|               Chile| 2020-12-25|2025-09-08 22:53:37|2025-09-26 18:35:...|      Jeremy Byrd|\n",
      "|CUST-73988B89|   Michael|  Freeman|michael.freeman33...|0138188589|66245 Sanders Mou...|       West Leahport|Saint Pierre and ...| 2024-05-22|2025-09-08 22:53:37|2025-09-26 18:35:...|  Michael Freeman|\n",
      "|CUST-6977C758|  Kimberly| Stephens|kimberly.stephens...|3008519609|    831 Steele Curve|        Arellanofort|            Dominica| 2025-05-31|2025-09-08 22:53:37|2025-09-26 18:35:...|Kimberly Stephens|\n",
      "|CUST-F6C10322|   Crystal|   Wilson|crystal.wilson2@g...|3977505179|56178 Romero Miss...|        Timothyshire|          Seychelles| 2020-10-15|2025-09-08 22:53:37|2025-09-26 18:35:...|   Crystal Wilson|\n",
      "|CUST-75F3891C|   Crystal|     Bird|crystal.bird37@gm...|1237229598| 16865 Cortez Summit|         Briggsburgh|Holy See (Vatican...| 2025-02-13|2025-09-08 22:53:37|2025-09-26 18:35:...|     Crystal Bird|\n",
      "|CUST-1F65F66D|     Brian|   Miller|brian.miller53@ya...|0576148712|   7172 Baker Drives|         Perkinsfort|               Nepal| 2022-10-08|2025-09-08 22:53:37|2025-09-26 18:35:...|     Brian Miller|\n",
      "|CUST-2799BD8A|      Seth|Velazquez|seth.velazquez50@...|9097850917|  02935 Pamela Route|   Lake Randyborough|Syrian Arab Republic| 2023-07-10|2025-09-08 22:53:37|2025-09-26 18:35:...|   Seth Velazquez|\n",
      "|CUST-07F4859C|      Eric| Chandler|eric.chandler87@h...|7753447576| 9297 Ronald Mission|      Port Lisaburgh|       Guinea-Bissau| 2023-03-20|2025-09-08 22:53:37|2025-09-26 18:35:...|    Eric Chandler|\n",
      "|CUST-27772CFF|      Sean|     Frye|sean.frye31@yahoo...|4562021708|      3334 Clark Rue|    South Joshuafurt|                Iran| 2020-11-03|2025-09-08 22:53:37|2025-09-26 18:35:...|        Sean Frye|\n",
      "+-------------+----------+---------+--------------------+----------+--------------------+--------------------+--------------------+-----------+-------------------+--------------------+-----------------+\n",
      "\n"
     ]
    }
   ],
   "source": [
    "spark.sql(\"SELECT * FROM customers LIMIT 10\").show()"
   ]
  },
  {
   "cell_type": "code",
   "execution_count": 6,
   "id": "5eb1998e",
   "metadata": {
    "execution": {
     "iopub.execute_input": "2025-09-26T13:05:54.461227Z",
     "iopub.status.busy": "2025-09-26T13:05:54.460228Z",
     "iopub.status.idle": "2025-09-26T13:05:54.475531Z",
     "shell.execute_reply": "2025-09-26T13:05:54.474531Z"
    },
    "papermill": {
     "duration": 0.024476,
     "end_time": "2025-09-26T13:05:54.477531",
     "exception": false,
     "start_time": "2025-09-26T13:05:54.453055",
     "status": "completed"
    },
    "tags": []
   },
   "outputs": [
    {
     "name": "stdout",
     "output_type": "stream",
     "text": [
      "root\n",
      " |-- customer_id: string (nullable = true)\n",
      " |-- first_name: string (nullable = true)\n",
      " |-- last_name: string (nullable = true)\n",
      " |-- email: string (nullable = true)\n",
      " |-- phone: string (nullable = true)\n",
      " |-- address: string (nullable = true)\n",
      " |-- city: string (nullable = true)\n",
      " |-- country: string (nullable = true)\n",
      " |-- signup_date: date (nullable = true)\n",
      " |-- last_updated: timestamp (nullable = true)\n",
      " |-- ingestion_timestamp: timestamp (nullable = true)\n",
      " |-- name: string (nullable = true)\n",
      "\n"
     ]
    }
   ],
   "source": [
    "bronze_customers.printSchema()"
   ]
  },
  {
   "cell_type": "code",
   "execution_count": 7,
   "id": "8c34313a",
   "metadata": {
    "execution": {
     "iopub.execute_input": "2025-09-26T13:05:54.495531Z",
     "iopub.status.busy": "2025-09-26T13:05:54.494532Z",
     "iopub.status.idle": "2025-09-26T13:05:54.598047Z",
     "shell.execute_reply": "2025-09-26T13:05:54.597045Z"
    },
    "papermill": {
     "duration": 0.113513,
     "end_time": "2025-09-26T13:05:54.600045",
     "exception": false,
     "start_time": "2025-09-26T13:05:54.486532",
     "status": "completed"
    },
    "tags": []
   },
   "outputs": [],
   "source": [
    "from pyspark.sql.functions import *\n",
    "\n",
    "silver_customers = bronze_customers.withColumn(\"last_updated_ts\", to_timestamp(col(\"last_updated\")))\\\n",
    "                                   .dropDuplicates([\"customer_id\"])\\\n",
    "                                   .withColumn(\"full_name\", concat_ws(\" \", col(\"first_name\"), col(\"last_name\")))\\\n",
    "                                   .withColumn(\"signup_date\", to_timestamp(col(\"signup_date\")))\\\n",
    "                                   .withColumn(\"ingestion_timestamp\", current_timestamp())\\\n",
    "                                   .select(\"customer_id\", \"first_name\", \"last_name\", \"full_name\", \"email\", \"phone\", \n",
    "                                           \"address\", \"city\", \"country\", \"signup_date\", \"last_updated\", \"ingestion_timestamp\")\n"
   ]
  },
  {
   "cell_type": "code",
   "execution_count": 8,
   "id": "2bd670b6",
   "metadata": {
    "execution": {
     "iopub.execute_input": "2025-09-26T13:05:54.615435Z",
     "iopub.status.busy": "2025-09-26T13:05:54.615435Z",
     "iopub.status.idle": "2025-09-26T13:05:54.629567Z",
     "shell.execute_reply": "2025-09-26T13:05:54.627564Z"
    },
    "papermill": {
     "duration": 0.023344,
     "end_time": "2025-09-26T13:05:54.631567",
     "exception": false,
     "start_time": "2025-09-26T13:05:54.608223",
     "status": "completed"
    },
    "tags": []
   },
   "outputs": [
    {
     "name": "stdout",
     "output_type": "stream",
     "text": [
      "root\n",
      " |-- customer_id: string (nullable = true)\n",
      " |-- first_name: string (nullable = true)\n",
      " |-- last_name: string (nullable = true)\n",
      " |-- full_name: string (nullable = false)\n",
      " |-- email: string (nullable = true)\n",
      " |-- phone: string (nullable = true)\n",
      " |-- address: string (nullable = true)\n",
      " |-- city: string (nullable = true)\n",
      " |-- country: string (nullable = true)\n",
      " |-- signup_date: timestamp (nullable = true)\n",
      " |-- last_updated: timestamp (nullable = true)\n",
      " |-- ingestion_timestamp: timestamp (nullable = false)\n",
      "\n"
     ]
    }
   ],
   "source": [
    "silver_customers.printSchema()"
   ]
  },
  {
   "cell_type": "markdown",
   "id": "a01ab09b",
   "metadata": {
    "papermill": {
     "duration": 0.006004,
     "end_time": "2025-09-26T13:05:54.644569",
     "exception": false,
     "start_time": "2025-09-26T13:05:54.638565",
     "status": "completed"
    },
    "tags": []
   },
   "source": [
    "Transformation of Products Table"
   ]
  },
  {
   "cell_type": "code",
   "execution_count": 9,
   "id": "631aa809",
   "metadata": {
    "execution": {
     "iopub.execute_input": "2025-09-26T13:05:54.661568Z",
     "iopub.status.busy": "2025-09-26T13:05:54.661568Z",
     "iopub.status.idle": "2025-09-26T13:05:57.116940Z",
     "shell.execute_reply": "2025-09-26T13:05:57.115939Z"
    },
    "papermill": {
     "duration": 2.467371,
     "end_time": "2025-09-26T13:05:57.118937",
     "exception": false,
     "start_time": "2025-09-26T13:05:54.651566",
     "status": "completed"
    },
    "tags": []
   },
   "outputs": [
    {
     "name": "stdout",
     "output_type": "stream",
     "text": [
      "+------------+--------------------+---------------+-------+--------------+----------+-------------------+--------------------+\n",
      "|  product_id|                name|       category|  price|stock_quantity|created_at|       last_updated| ingestion_timestamp|\n",
      "+------------+--------------------+---------------+-------+--------------+----------+-------------------+--------------------+\n",
      "|PRD-C5F26AC0|     Toys - True 571|           Toys|1806.07|           670|2021-10-01|2025-09-08 22:27:07|2025-09-26 16:52:...|\n",
      "|PRD-AA6575B5|   Health - Goal 523|         Health| 121.04|           572|2021-05-10|2025-09-08 22:27:07|2025-09-26 16:52:...|\n",
      "|PRD-369D4F6A|Clothing - Debate...|       Clothing| 751.87|            68|2024-09-30|2025-09-08 22:27:07|2025-09-26 16:52:...|\n",
      "|PRD-E2377939| Groceries - For 286|      Groceries|1024.81|           602|2021-06-05|2025-09-08 22:27:07|2025-09-26 16:52:...|\n",
      "|PRD-2AC55643|    Books - Meet 351|          Books|1094.27|           378|2025-04-11|2025-09-08 22:27:07|2025-09-26 16:52:...|\n",
      "|PRD-8E6C551D|    Toys - Maybe 369|           Toys| 603.79|           332|2020-11-24|2025-09-08 22:27:07|2025-09-26 16:52:...|\n",
      "|PRD-27D7CC85|Toys - Developmen...|           Toys| 966.71|           670|2024-01-31|2025-09-08 22:27:07|2025-09-26 16:52:...|\n",
      "|PRD-7019BDAD|Home & Kitchen - ...| Home & Kitchen|1962.64|            85|2024-04-29|2025-09-08 22:27:07|2025-09-26 16:52:...|\n",
      "|PRD-5AB0A6C9|Office Supplies -...|Office Supplies|1581.62|           590|2023-02-07|2025-09-08 22:27:07|2025-09-26 16:52:...|\n",
      "|PRD-D8BFACEC|Clothing - Positi...|       Clothing| 1942.5|           533|2024-03-31|2025-09-08 22:27:07|2025-09-26 16:52:...|\n",
      "+------------+--------------------+---------------+-------+--------------+----------+-------------------+--------------------+\n",
      "\n"
     ]
    }
   ],
   "source": [
    "spark.sql(\"SELECT * FROM products LIMIT 10\").show()"
   ]
  },
  {
   "cell_type": "code",
   "execution_count": 10,
   "id": "c84a9797",
   "metadata": {
    "execution": {
     "iopub.execute_input": "2025-09-26T13:05:57.137099Z",
     "iopub.status.busy": "2025-09-26T13:05:57.136096Z",
     "iopub.status.idle": "2025-09-26T13:05:57.147250Z",
     "shell.execute_reply": "2025-09-26T13:05:57.146246Z"
    },
    "papermill": {
     "duration": 0.024152,
     "end_time": "2025-09-26T13:05:57.149246",
     "exception": false,
     "start_time": "2025-09-26T13:05:57.125094",
     "status": "completed"
    },
    "tags": []
   },
   "outputs": [
    {
     "name": "stdout",
     "output_type": "stream",
     "text": [
      "root\n",
      " |-- product_id: string (nullable = true)\n",
      " |-- name: string (nullable = true)\n",
      " |-- category: string (nullable = true)\n",
      " |-- price: double (nullable = true)\n",
      " |-- stock_quantity: integer (nullable = true)\n",
      " |-- created_at: date (nullable = true)\n",
      " |-- last_updated: timestamp (nullable = true)\n",
      " |-- ingestion_timestamp: timestamp (nullable = true)\n",
      "\n"
     ]
    }
   ],
   "source": [
    "bronze_products.printSchema()"
   ]
  },
  {
   "cell_type": "code",
   "execution_count": 11,
   "id": "321aa501",
   "metadata": {
    "execution": {
     "iopub.execute_input": "2025-09-26T13:05:57.163247Z",
     "iopub.status.busy": "2025-09-26T13:05:57.162249Z",
     "iopub.status.idle": "2025-09-26T13:05:57.239649Z",
     "shell.execute_reply": "2025-09-26T13:05:57.238648Z"
    },
    "papermill": {
     "duration": 0.086403,
     "end_time": "2025-09-26T13:05:57.241648",
     "exception": false,
     "start_time": "2025-09-26T13:05:57.155245",
     "status": "completed"
    },
    "tags": []
   },
   "outputs": [],
   "source": [
    "silver_products = (\n",
    "    bronze_products\n",
    "    .withColumn(\"last_updated_ts\", to_timestamp(col(\"last_updated\")))\n",
    "    .dropDuplicates([\"product_id\"])\n",
    "    .withColumn(\"price\", col(\"price\").cast(\"double\"))\n",
    "    .withColumn(\"stock_quantity\", col(\"stock_quantity\").cast(\"int\"))\n",
    "    .withColumn(\"ingestion_timestamp\", current_timestamp())\n",
    "    .select(\"product_id\", \"name\", \"category\", \"price\", \"stock_quantity\",\n",
    "            \"created_at\", \"last_updated\", \"ingestion_timestamp\")\n",
    ")"
   ]
  },
  {
   "cell_type": "code",
   "execution_count": 12,
   "id": "7bed4ca7",
   "metadata": {
    "execution": {
     "iopub.execute_input": "2025-09-26T13:05:57.256982Z",
     "iopub.status.busy": "2025-09-26T13:05:57.256982Z",
     "iopub.status.idle": "2025-09-26T13:05:57.270153Z",
     "shell.execute_reply": "2025-09-26T13:05:57.269149Z"
    },
    "papermill": {
     "duration": 0.024328,
     "end_time": "2025-09-26T13:05:57.273151",
     "exception": false,
     "start_time": "2025-09-26T13:05:57.248823",
     "status": "completed"
    },
    "tags": []
   },
   "outputs": [
    {
     "name": "stdout",
     "output_type": "stream",
     "text": [
      "root\n",
      " |-- product_id: string (nullable = true)\n",
      " |-- name: string (nullable = true)\n",
      " |-- category: string (nullable = true)\n",
      " |-- price: double (nullable = true)\n",
      " |-- stock_quantity: integer (nullable = true)\n",
      " |-- created_at: date (nullable = true)\n",
      " |-- last_updated: timestamp (nullable = true)\n",
      " |-- ingestion_timestamp: timestamp (nullable = false)\n",
      "\n"
     ]
    }
   ],
   "source": [
    "silver_products.printSchema()"
   ]
  },
  {
   "cell_type": "markdown",
   "id": "18aec5c4",
   "metadata": {
    "papermill": {
     "duration": 0.007,
     "end_time": "2025-09-26T13:05:57.287149",
     "exception": false,
     "start_time": "2025-09-26T13:05:57.280149",
     "status": "completed"
    },
    "tags": []
   },
   "source": [
    "Transformation of Orders table"
   ]
  },
  {
   "cell_type": "code",
   "execution_count": 13,
   "id": "5d7b4a39",
   "metadata": {
    "execution": {
     "iopub.execute_input": "2025-09-26T13:05:57.302151Z",
     "iopub.status.busy": "2025-09-26T13:05:57.301151Z",
     "iopub.status.idle": "2025-09-26T13:05:59.793115Z",
     "shell.execute_reply": "2025-09-26T13:05:59.791962Z"
    },
    "papermill": {
     "duration": 2.501968,
     "end_time": "2025-09-26T13:05:59.795117",
     "exception": false,
     "start_time": "2025-09-26T13:05:57.293149",
     "status": "completed"
    },
    "tags": []
   },
   "outputs": [
    {
     "name": "stdout",
     "output_type": "stream",
     "text": [
      "+------------+----------------+-------------+------------+--------+------------+----------+--------------+------------+-------------------+--------------------+\n",
      "|    order_id|  transaction_id|  customer_id|  product_id|quantity|total_amount|order_date|payment_method|order_status|       last_updated| ingestion_timestamp|\n",
      "+------------+----------------+-------------+------------+--------+------------+----------+--------------+------------+-------------------+--------------------+\n",
      "|ORD-E1C38356|TXN-A0948EFF52B7|CUST-B0B237C6|PRD-DDF1D934|       2|      215.42|2021-09-27|          Cash|     Pending|2025-09-08 22:30:58|2025-09-26 16:52:...|\n",
      "|ORD-EB9DA7BA|TXN-36F837351544|CUST-C63BEB53|PRD-7CD795ED|       5|     6867.05|2022-12-16|   Credit Card|     Pending|2025-09-08 22:30:58|2025-09-26 16:52:...|\n",
      "|ORD-5374CFE5|TXN-412B81C8A807|CUST-883A190F|PRD-816E4975|       2|      2133.0|2025-08-15|           UPI|   Cancelled|2025-09-08 22:30:58|2025-09-26 16:52:...|\n",
      "|ORD-344C0DA9|TXN-4ADE6F3CDA8C|CUST-3B3A55D9|PRD-0434178B|       3|     1251.72|2024-01-30|        PayPal|     Pending|2025-09-08 22:30:58|2025-09-26 16:52:...|\n",
      "|ORD-AD6AB429|TXN-DB0A2501B877|CUST-7440B5A7|PRD-01266870|       4|     4344.48|2025-01-26|   Credit Card|     Pending|2025-09-08 22:30:58|2025-09-26 16:52:...|\n",
      "|ORD-D05DB1C3|TXN-65585EFF5A2B|CUST-7CFE51AF|PRD-E4EC1214|       5|     4227.65|2025-03-21|        PayPal|   Delivered|2025-09-08 22:30:58|2025-09-26 16:52:...|\n",
      "|ORD-0343067C|TXN-ED114293C49C|CUST-37ED8566|PRD-B6EBDEB2|       3|     3062.01|2023-04-20|    Debit Card|     Pending|2025-09-08 22:30:58|2025-09-26 16:52:...|\n",
      "|ORD-9A9D45C9|TXN-9F08EC98B13F|CUST-C2F20930|PRD-CF3D5CB9|       3|     5321.94|2023-05-26|   Credit Card|     Pending|2025-09-08 22:30:58|2025-09-26 16:52:...|\n",
      "|ORD-AA64D7ED|TXN-4217059BACCE|CUST-999FAC0C|PRD-D268F649|       5|      2112.3|2022-08-18|    Debit Card|   Delivered|2025-09-08 22:30:58|2025-09-26 16:52:...|\n",
      "|ORD-388EF7FE|TXN-3A2BBCB250AC|CUST-E987D61F|PRD-28351F66|       5|      8123.1|2024-11-12|    Debit Card|   Delivered|2025-09-08 22:30:58|2025-09-26 16:52:...|\n",
      "+------------+----------------+-------------+------------+--------+------------+----------+--------------+------------+-------------------+--------------------+\n",
      "\n"
     ]
    }
   ],
   "source": [
    "spark.sql(\"SELECT * FROM orders LIMIT 10\").show()"
   ]
  },
  {
   "cell_type": "code",
   "execution_count": 14,
   "id": "bde5e24c",
   "metadata": {
    "execution": {
     "iopub.execute_input": "2025-09-26T13:05:59.810355Z",
     "iopub.status.busy": "2025-09-26T13:05:59.809353Z",
     "iopub.status.idle": "2025-09-26T13:05:59.823511Z",
     "shell.execute_reply": "2025-09-26T13:05:59.822510Z"
    },
    "papermill": {
     "duration": 0.023393,
     "end_time": "2025-09-26T13:05:59.825510",
     "exception": false,
     "start_time": "2025-09-26T13:05:59.802117",
     "status": "completed"
    },
    "tags": []
   },
   "outputs": [
    {
     "name": "stdout",
     "output_type": "stream",
     "text": [
      "root\n",
      " |-- order_id: string (nullable = true)\n",
      " |-- transaction_id: string (nullable = true)\n",
      " |-- customer_id: string (nullable = true)\n",
      " |-- product_id: string (nullable = true)\n",
      " |-- quantity: integer (nullable = true)\n",
      " |-- total_amount: double (nullable = true)\n",
      " |-- order_date: date (nullable = true)\n",
      " |-- payment_method: string (nullable = true)\n",
      " |-- order_status: string (nullable = true)\n",
      " |-- last_updated: timestamp (nullable = true)\n",
      " |-- ingestion_timestamp: timestamp (nullable = true)\n",
      "\n"
     ]
    }
   ],
   "source": [
    "bronze_orders.printSchema()"
   ]
  },
  {
   "cell_type": "code",
   "execution_count": 15,
   "id": "22371f58",
   "metadata": {
    "execution": {
     "iopub.execute_input": "2025-09-26T13:05:59.844673Z",
     "iopub.status.busy": "2025-09-26T13:05:59.844673Z",
     "iopub.status.idle": "2025-09-26T13:05:59.915702Z",
     "shell.execute_reply": "2025-09-26T13:05:59.914701Z"
    },
    "papermill": {
     "duration": 0.081027,
     "end_time": "2025-09-26T13:05:59.916702",
     "exception": false,
     "start_time": "2025-09-26T13:05:59.835675",
     "status": "completed"
    },
    "tags": []
   },
   "outputs": [],
   "source": [
    "silver_orders = (\n",
    "    bronze_orders\n",
    "    .withColumn(\"order_date\", to_timestamp(col(\"order_date\")))\n",
    "    .withColumn(\"total_amount\", col(\"total_amount\").cast(\"double\"))\n",
    "    .dropDuplicates([\"order_id\"])\n",
    "    .withColumn(\"ingestion_timestamp\", current_timestamp())\n",
    "    .select(\"order_id\", \"transaction_id\", \"customer_id\", \"product_id\", \n",
    "            \"quantity\", \"total_amount\", \"order_date\", \"payment_method\", \n",
    "            \"order_status\", \"last_updated\", \"ingestion_timestamp\")\n",
    ")"
   ]
  },
  {
   "cell_type": "code",
   "execution_count": 16,
   "id": "350a503a",
   "metadata": {
    "execution": {
     "iopub.execute_input": "2025-09-26T13:05:59.929913Z",
     "iopub.status.busy": "2025-09-26T13:05:59.929913Z",
     "iopub.status.idle": "2025-09-26T13:05:59.948170Z",
     "shell.execute_reply": "2025-09-26T13:05:59.945167Z"
    },
    "papermill": {
     "duration": 0.027258,
     "end_time": "2025-09-26T13:05:59.950169",
     "exception": false,
     "start_time": "2025-09-26T13:05:59.922911",
     "status": "completed"
    },
    "tags": []
   },
   "outputs": [
    {
     "name": "stdout",
     "output_type": "stream",
     "text": [
      "root\n",
      " |-- order_id: string (nullable = true)\n",
      " |-- transaction_id: string (nullable = true)\n",
      " |-- customer_id: string (nullable = true)\n",
      " |-- product_id: string (nullable = true)\n",
      " |-- quantity: integer (nullable = true)\n",
      " |-- total_amount: double (nullable = true)\n",
      " |-- order_date: timestamp (nullable = true)\n",
      " |-- payment_method: string (nullable = true)\n",
      " |-- order_status: string (nullable = true)\n",
      " |-- last_updated: timestamp (nullable = true)\n",
      " |-- ingestion_timestamp: timestamp (nullable = false)\n",
      "\n"
     ]
    }
   ],
   "source": [
    "silver_orders.printSchema()"
   ]
  },
  {
   "cell_type": "markdown",
   "id": "ee70a925",
   "metadata": {
    "papermill": {
     "duration": 0.008996,
     "end_time": "2025-09-26T13:05:59.972168",
     "exception": false,
     "start_time": "2025-09-26T13:05:59.963172",
     "status": "completed"
    },
    "tags": []
   },
   "source": [
    "Transformation of Deliveries table"
   ]
  },
  {
   "cell_type": "code",
   "execution_count": 17,
   "id": "7208a1b8",
   "metadata": {
    "execution": {
     "iopub.execute_input": "2025-09-26T13:05:59.989413Z",
     "iopub.status.busy": "2025-09-26T13:05:59.989413Z",
     "iopub.status.idle": "2025-09-26T13:06:02.268983Z",
     "shell.execute_reply": "2025-09-26T13:06:02.267984Z"
    },
    "papermill": {
     "duration": 2.289823,
     "end_time": "2025-09-26T13:06:02.269986",
     "exception": false,
     "start_time": "2025-09-26T13:05:59.980163",
     "status": "completed"
    },
    "tags": []
   },
   "outputs": [
    {
     "name": "stdout",
     "output_type": "stream",
     "text": [
      "+--------------------+--------------------+--------------------+-------------+-----------------+------------+--------------------+------------+--------------+--------------------+-----------------+--------------------+-------------+---------------+-------------------+--------------------+\n",
      "|         delivery_id|            order_id|      transaction_id|  customer_id|    customer_name|  product_id|        product_name|total_amount|payment_method|    delivery_address|    delivery_city|    delivery_country|delivery_date|delivery_status|       last_updated| ingestion_timestamp|\n",
      "+--------------------+--------------------+--------------------+-------------+-----------------+------------+--------------------+------------+--------------+--------------------+-----------------+--------------------+-------------+---------------+-------------------+--------------------+\n",
      "|a296558b-0cbc-45f...|01dc2825-75d3-479...|8007443d-c10a-404...|CUST-950A2904| Tracey Carpenter|PRD-F50E9D5A| Beauty - Either 214|     1251.67|           UPI|8145 Carla Key Su...|      Cochranside|               Benin|   2023-10-03|         Failed|2023-10-18 00:00:00|2025-09-26 18:35:...|\n",
      "|d331d102-4ba8-4a1...|        ORD-98363076|    TXN-D02F356E7C86|CUST-D3DF28F2|Chelsea Schroeder|PRD-77AC0C67|Electronics - May...|     7566.48|          Cash|11282 Tracy Grove...|   Port Christina|Bosnia and Herzeg...|   2024-09-28|      Delivered|2024-10-13 00:00:00|2025-09-26 18:35:...|\n",
      "|499ae3f3-4efa-416...|        ORD-9BD42FA7|    TXN-799C3D79B7AC|CUST-A76DC9A7|    Jennifer West|PRD-0BE522AA|   Toys - Result 226|     1444.94|           UPI|     0995 Murray Via|        Kellyport|         El Salvador|   2024-04-23|         Failed|2024-05-07 00:00:00|2025-09-26 18:35:...|\n",
      "|61cc5973-c6af-410...|7ff76571-8c4a-497...|c51bf02d-38f2-47d...|CUST-6937165A|     Jacob Hunter|PRD-1E1EDC2E|Home & Kitchen - ...|     1944.82|           UPI|    67099 Lori Forge|      North Cathy|          Mauritania|   2024-08-17|      Delivered|2024-08-29 00:00:00|2025-09-26 18:35:...|\n",
      "|fc5f99eb-cb1b-447...|        ORD-9F3A7259|    TXN-B528EAC1DE7E|CUST-86604630|    Craig Stewart|PRD-539FF9CB|Groceries - Menti...|      3592.0|   Credit Card| 105 Reynolds Manors|          Laraton|             Tunisia|   2023-03-31|      Preparing|2023-04-13 00:00:00|2025-09-26 18:35:...|\n",
      "|4049b673-cb8d-48a...|        ORD-3DD32AB8|    TXN-4C2EC3A5D54F|CUST-5B3EEB1C|     Jeffery Meza|PRD-193DF0F5|Electronics - Cou...|      5928.0|        PayPal|232 Burke Plaza S...|     North Pamela|              Gambia|   2022-08-24|         Failed|2022-09-05 00:00:00|2025-09-26 18:35:...|\n",
      "|f5ad87af-9a53-42f...|ce064ef0-807f-47f...|5fc1bcc5-e971-4d8...|CUST-1B682D21|    William Welch|PRD-2117F270|    Books - Near 786|     5316.09|          Cash|    683 Jones Forest|North Michaelfurt|       New Caledonia|   2025-08-07|      Preparing|2025-08-20 00:00:00|2025-09-26 18:35:...|\n",
      "|81b0261c-8272-4ac...|dbf484f0-fe5b-43c...|09f9e34d-98a1-4ce...|CUST-B9F1D1EB|  Jennifer Norton|PRD-F5DF7682|Home & Kitchen - ...|     1850.07|        PayPal|58690 West Turnpi...|      Tamaramouth|             Ecuador|   2025-06-14|      Delivered|2025-06-24 00:00:00|2025-09-26 18:35:...|\n",
      "|327539dc-ed99-430...|        ORD-15A3D130|    TXN-02CDAAE2C763|CUST-52786DA1|    Jacob Bernard|PRD-E53C31EA|Home & Kitchen - ...|     1815.98|          Cash| 718 Benjamin Garden|       Joshuafurt|        Cook Islands|   2023-10-30|        Shipped|2023-11-11 00:00:00|2025-09-26 18:35:...|\n",
      "|d17a33e8-b73a-4e4...|        ORD-0A82D574|    TXN-B120D8B82901|CUST-8D82FD6E|     Cindy Santos|PRD-1ED2BDAA|Office Supplies -...|     1231.86|           UPI|2188 Joshua Haven...|    West Lawrence|Saint Pierre and ...|   2025-05-16|      Preparing|2025-05-31 00:00:00|2025-09-26 18:35:...|\n",
      "+--------------------+--------------------+--------------------+-------------+-----------------+------------+--------------------+------------+--------------+--------------------+-----------------+--------------------+-------------+---------------+-------------------+--------------------+\n",
      "\n"
     ]
    }
   ],
   "source": [
    "spark.sql(\"SELECT * FROM deliveries LIMIT 10\").show()"
   ]
  },
  {
   "cell_type": "code",
   "execution_count": 18,
   "id": "c75ca0e9",
   "metadata": {
    "execution": {
     "iopub.execute_input": "2025-09-26T13:06:02.286367Z",
     "iopub.status.busy": "2025-09-26T13:06:02.285363Z",
     "iopub.status.idle": "2025-09-26T13:06:02.299503Z",
     "shell.execute_reply": "2025-09-26T13:06:02.298503Z"
    },
    "papermill": {
     "duration": 0.025345,
     "end_time": "2025-09-26T13:06:02.301507",
     "exception": false,
     "start_time": "2025-09-26T13:06:02.276162",
     "status": "completed"
    },
    "tags": []
   },
   "outputs": [
    {
     "name": "stdout",
     "output_type": "stream",
     "text": [
      "root\n",
      " |-- order_id: string (nullable = true)\n",
      " |-- transaction_id: string (nullable = true)\n",
      " |-- customer_id: string (nullable = true)\n",
      " |-- product_id: string (nullable = true)\n",
      " |-- quantity: integer (nullable = true)\n",
      " |-- total_amount: double (nullable = true)\n",
      " |-- order_date: date (nullable = true)\n",
      " |-- payment_method: string (nullable = true)\n",
      " |-- order_status: string (nullable = true)\n",
      " |-- last_updated: timestamp (nullable = true)\n",
      " |-- ingestion_timestamp: timestamp (nullable = true)\n",
      "\n"
     ]
    }
   ],
   "source": [
    "bronze_orders.printSchema()"
   ]
  },
  {
   "cell_type": "code",
   "execution_count": 19,
   "id": "7400369c",
   "metadata": {
    "execution": {
     "iopub.execute_input": "2025-09-26T13:06:02.317643Z",
     "iopub.status.busy": "2025-09-26T13:06:02.316642Z",
     "iopub.status.idle": "2025-09-26T13:06:02.390985Z",
     "shell.execute_reply": "2025-09-26T13:06:02.389984Z"
    },
    "papermill": {
     "duration": 0.084341,
     "end_time": "2025-09-26T13:06:02.391985",
     "exception": false,
     "start_time": "2025-09-26T13:06:02.307644",
     "status": "completed"
    },
    "tags": []
   },
   "outputs": [],
   "source": [
    "silver_deliveries = (\n",
    "    bronze_deliveries\n",
    "    .withColumn(\"delivery_date\", to_timestamp(col(\"delivery_date\")))\n",
    "    .withColumn(\"total_amount\", col(\"total_amount\").cast(\"double\"))\n",
    "    .dropDuplicates([\"delivery_id\"])\n",
    "    .withColumn(\"ingestion_timestamp\", current_timestamp())\n",
    "    .select(\"delivery_id\", \"order_id\", \"transaction_id\", \"customer_id\", \n",
    "            \"customer_name\", \"product_id\", \"product_name\", \"total_amount\", \n",
    "            \"payment_method\", \"delivery_address\", \"delivery_city\", \"delivery_country\",\n",
    "            \"delivery_date\", \"delivery_status\", \"last_updated\", \"ingestion_timestamp\")\n",
    ")"
   ]
  },
  {
   "cell_type": "code",
   "execution_count": 20,
   "id": "c0698bdf",
   "metadata": {
    "execution": {
     "iopub.execute_input": "2025-09-26T13:06:02.412275Z",
     "iopub.status.busy": "2025-09-26T13:06:02.411275Z",
     "iopub.status.idle": "2025-09-26T13:06:02.421427Z",
     "shell.execute_reply": "2025-09-26T13:06:02.420427Z"
    },
    "papermill": {
     "duration": 0.023294,
     "end_time": "2025-09-26T13:06:02.422426",
     "exception": false,
     "start_time": "2025-09-26T13:06:02.399132",
     "status": "completed"
    },
    "tags": []
   },
   "outputs": [
    {
     "name": "stdout",
     "output_type": "stream",
     "text": [
      "root\n",
      " |-- delivery_id: string (nullable = true)\n",
      " |-- order_id: string (nullable = true)\n",
      " |-- transaction_id: string (nullable = true)\n",
      " |-- customer_id: string (nullable = true)\n",
      " |-- customer_name: string (nullable = true)\n",
      " |-- product_id: string (nullable = true)\n",
      " |-- product_name: string (nullable = true)\n",
      " |-- total_amount: double (nullable = true)\n",
      " |-- payment_method: string (nullable = true)\n",
      " |-- delivery_address: string (nullable = true)\n",
      " |-- delivery_city: string (nullable = true)\n",
      " |-- delivery_country: string (nullable = true)\n",
      " |-- delivery_date: timestamp (nullable = true)\n",
      " |-- delivery_status: string (nullable = true)\n",
      " |-- last_updated: timestamp (nullable = true)\n",
      " |-- ingestion_timestamp: timestamp (nullable = false)\n",
      "\n"
     ]
    }
   ],
   "source": [
    "silver_deliveries.printSchema()"
   ]
  },
  {
   "cell_type": "markdown",
   "id": "2e1f1d4f",
   "metadata": {
    "papermill": {
     "duration": 0.006149,
     "end_time": "2025-09-26T13:06:02.434580",
     "exception": false,
     "start_time": "2025-09-26T13:06:02.428431",
     "status": "completed"
    },
    "tags": []
   },
   "source": [
    "Adding Surrogate Keys "
   ]
  },
  {
   "cell_type": "markdown",
   "id": "68eca0ac",
   "metadata": {
    "papermill": {
     "duration": 0.006165,
     "end_time": "2025-09-26T13:06:02.447748",
     "exception": false,
     "start_time": "2025-09-26T13:06:02.441583",
     "status": "completed"
    },
    "tags": []
   },
   "source": [
    "Surrogate key for Customer table"
   ]
  },
  {
   "cell_type": "code",
   "execution_count": 21,
   "id": "beb71693",
   "metadata": {
    "execution": {
     "iopub.execute_input": "2025-09-26T13:06:02.460747Z",
     "iopub.status.busy": "2025-09-26T13:06:02.460747Z",
     "iopub.status.idle": "2025-09-26T13:06:02.482892Z",
     "shell.execute_reply": "2025-09-26T13:06:02.481746Z"
    },
    "papermill": {
     "duration": 0.030147,
     "end_time": "2025-09-26T13:06:02.483894",
     "exception": false,
     "start_time": "2025-09-26T13:06:02.453747",
     "status": "completed"
    },
    "tags": []
   },
   "outputs": [],
   "source": [
    "silver_customers = silver_customers.withColumn(\"customer_sk\", monotonically_increasing_id())  \n"
   ]
  },
  {
   "cell_type": "code",
   "execution_count": 22,
   "id": "95c9a392",
   "metadata": {
    "execution": {
     "iopub.execute_input": "2025-09-26T13:06:02.495892Z",
     "iopub.status.busy": "2025-09-26T13:06:02.495892Z",
     "iopub.status.idle": "2025-09-26T13:06:02.514825Z",
     "shell.execute_reply": "2025-09-26T13:06:02.512473Z"
    },
    "papermill": {
     "duration": 0.0279,
     "end_time": "2025-09-26T13:06:02.517792",
     "exception": false,
     "start_time": "2025-09-26T13:06:02.489892",
     "status": "completed"
    },
    "tags": []
   },
   "outputs": [
    {
     "name": "stdout",
     "output_type": "stream",
     "text": [
      "root\n",
      " |-- customer_id: string (nullable = true)\n",
      " |-- first_name: string (nullable = true)\n",
      " |-- last_name: string (nullable = true)\n",
      " |-- full_name: string (nullable = false)\n",
      " |-- email: string (nullable = true)\n",
      " |-- phone: string (nullable = true)\n",
      " |-- address: string (nullable = true)\n",
      " |-- city: string (nullable = true)\n",
      " |-- country: string (nullable = true)\n",
      " |-- signup_date: timestamp (nullable = true)\n",
      " |-- last_updated: timestamp (nullable = true)\n",
      " |-- ingestion_timestamp: timestamp (nullable = false)\n",
      " |-- customer_sk: long (nullable = false)\n",
      "\n"
     ]
    }
   ],
   "source": [
    "silver_customers.printSchema()"
   ]
  },
  {
   "cell_type": "markdown",
   "id": "c3c500b3",
   "metadata": {
    "papermill": {
     "duration": 0.017743,
     "end_time": "2025-09-26T13:06:02.553296",
     "exception": false,
     "start_time": "2025-09-26T13:06:02.535553",
     "status": "completed"
    },
    "tags": []
   },
   "source": [
    "Surrogate Key for products table"
   ]
  },
  {
   "cell_type": "code",
   "execution_count": 23,
   "id": "b43934ae",
   "metadata": {
    "execution": {
     "iopub.execute_input": "2025-09-26T13:06:02.586837Z",
     "iopub.status.busy": "2025-09-26T13:06:02.585842Z",
     "iopub.status.idle": "2025-09-26T13:06:02.607481Z",
     "shell.execute_reply": "2025-09-26T13:06:02.606481Z"
    },
    "papermill": {
     "duration": 0.040152,
     "end_time": "2025-09-26T13:06:02.609499",
     "exception": false,
     "start_time": "2025-09-26T13:06:02.569347",
     "status": "completed"
    },
    "tags": []
   },
   "outputs": [],
   "source": [
    "silver_products = silver_products.withColumn(\"product_sk\",monotonically_increasing_id())"
   ]
  },
  {
   "cell_type": "code",
   "execution_count": 24,
   "id": "ab120bc4",
   "metadata": {
    "execution": {
     "iopub.execute_input": "2025-09-26T13:06:02.625266Z",
     "iopub.status.busy": "2025-09-26T13:06:02.625266Z",
     "iopub.status.idle": "2025-09-26T13:06:02.638892Z",
     "shell.execute_reply": "2025-09-26T13:06:02.637885Z"
    },
    "papermill": {
     "duration": 0.022937,
     "end_time": "2025-09-26T13:06:02.639891",
     "exception": false,
     "start_time": "2025-09-26T13:06:02.616954",
     "status": "completed"
    },
    "tags": []
   },
   "outputs": [
    {
     "name": "stdout",
     "output_type": "stream",
     "text": [
      "root\n",
      " |-- product_id: string (nullable = true)\n",
      " |-- name: string (nullable = true)\n",
      " |-- category: string (nullable = true)\n",
      " |-- price: double (nullable = true)\n",
      " |-- stock_quantity: integer (nullable = true)\n",
      " |-- created_at: date (nullable = true)\n",
      " |-- last_updated: timestamp (nullable = true)\n",
      " |-- ingestion_timestamp: timestamp (nullable = false)\n",
      " |-- product_sk: long (nullable = false)\n",
      "\n"
     ]
    }
   ],
   "source": [
    "silver_products.printSchema()\n"
   ]
  },
  {
   "cell_type": "markdown",
   "id": "ba4c9b93",
   "metadata": {
    "papermill": {
     "duration": 0.005013,
     "end_time": "2025-09-26T13:06:02.650755",
     "exception": false,
     "start_time": "2025-09-26T13:06:02.645742",
     "status": "completed"
    },
    "tags": []
   },
   "source": [
    "Dumping into Silver Delta Table"
   ]
  },
  {
   "cell_type": "code",
   "execution_count": 25,
   "id": "d7734f18",
   "metadata": {
    "execution": {
     "iopub.execute_input": "2025-09-26T13:06:02.664114Z",
     "iopub.status.busy": "2025-09-26T13:06:02.663111Z",
     "iopub.status.idle": "2025-09-26T13:06:29.312894Z",
     "shell.execute_reply": "2025-09-26T13:06:29.311894Z"
    },
    "papermill": {
     "duration": 26.658934,
     "end_time": "2025-09-26T13:06:29.314930",
     "exception": false,
     "start_time": "2025-09-26T13:06:02.655996",
     "status": "completed"
    },
    "tags": []
   },
   "outputs": [],
   "source": [
    "# Silver Customers\n",
    "silver_customers.write.format(\"delta\") \\\n",
    "    .mode(\"append\") \\\n",
    "    .save(f\"{silver_base}\\\\customers\\\\data\")\n",
    "\n",
    "# Silver Products\n",
    "silver_products.write.format(\"delta\") \\\n",
    "    .mode(\"append\") \\\n",
    "    .save(f\"{silver_base}\\\\products\\\\data\")\n",
    "\n",
    "# Silver Orders\n",
    "silver_orders.write.format(\"delta\") \\\n",
    "    .mode(\"append\") \\\n",
    "    .save(f\"{silver_base}\\\\orders\\\\data\")\n",
    "\n",
    "# Silver Deliveries\n",
    "silver_deliveries.write.format(\"delta\") \\\n",
    "    .mode(\"append\") \\\n",
    "    .save(f\"{silver_base}\\\\deliveries\\\\data\")\n"
   ]
  }
 ],
 "metadata": {
  "kernelspec": {
   "display_name": "Python 3",
   "language": "python",
   "name": "python3"
  },
  "language_info": {
   "codemirror_mode": {
    "name": "ipython",
    "version": 3
   },
   "file_extension": ".py",
   "mimetype": "text/x-python",
   "name": "python",
   "nbconvert_exporter": "python",
   "pygments_lexer": "ipython3",
   "version": "3.10.11"
  },
  "papermill": {
   "default_parameters": {},
   "duration": 57.210801,
   "end_time": "2025-09-26T13:06:29.560408",
   "environment_variables": {},
   "exception": null,
   "input_path": "C:\\Users\\User\\Desktop\\E-Commerce Data Lakaehouse with AI-Powered Self-Healing Pipelines\\silver_layer\\silver_transformations.ipynb",
   "output_path": "C:\\Users\\User\\Desktop\\E-Commerce Data Lakaehouse with AI-Powered Self-Healing Pipelines\\silver_layer\\silver_transformations.ipynb",
   "parameters": {},
   "start_time": "2025-09-26T13:05:32.349607",
   "version": "2.6.0"
  }
 },
 "nbformat": 4,
 "nbformat_minor": 5
}