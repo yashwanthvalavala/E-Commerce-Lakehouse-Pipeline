{
 "cells": [
  {
   "cell_type": "code",
   "execution_count": null,
   "id": "1523bc9c",
   "metadata": {},
   "outputs": [
    {
     "name": "stdout",
     "output_type": "stream",
     "text": [
      "+-------------+----------+----------+-----------------+--------------------+--------------------+--------------------+------------------+--------------------+-------------------+-------------------+--------------------+-----------+\n",
      "|  customer_id|first_name| last_name|        full_name|               email|               phone|             address|              city|             country|        signup_date|       last_updated| ingestion_timestamp|customer_sk|\n",
      "+-------------+----------+----------+-----------------+--------------------+--------------------+--------------------+------------------+--------------------+-------------------+-------------------+--------------------+-----------+\n",
      "|CUST-000304D0|    Ashley|     Olson|     Ashley Olson|ashley.olson2f11@...|        740-768-5993|       917 Meza Hill|      Shepardhaven|          Guadeloupe|2023-10-15 00:00:00|2025-09-08 22:28:15|2025-09-18 18:37:...|51539607552|\n",
      "|CUST-00035D92|     Megan|     Zhang|      Megan Zhang|megan.zhangc5c7@e...|        769.764.7176|353 James Brooks ...|   New Aliciamouth|Svalbard & Jan Ma...|2024-08-23 00:00:00|2025-09-08 22:28:15|2025-09-18 18:37:...|51539607553|\n",
      "|CUST-0005FC3C|     Tammy|     Chang|      Tammy Chang|tammy.chang214e@e...|+1-941-419-1961x3...|7308 Russell Ways...|       West Pamela|         Puerto Rico|2025-07-12 00:00:00|2025-09-08 22:28:15|2025-09-18 18:37:...|51539607554|\n",
      "|CUST-00085072|     David|     Smith|      David Smith|david.smith0826@e...|       (908)311-1439|896 Lucero Light ...|  Robertsonborough|Netherlands Antilles|2023-07-22 00:00:00|2025-09-08 22:28:15|2025-09-18 18:37:...|51539607555|\n",
      "|CUST-00090E9E|   Richard|  Friedman| Richard Friedman|richard.friedmanb...|          6119527390|    61227 Cooper Via|Port Jenniferhaven|   Wallis and Futuna|2021-11-20 00:00:00|2025-09-08 22:28:15|2025-09-18 18:37:...|51539607556|\n",
      "|CUST-000EEFE6|      Tony|      Hill|        Tony Hill|tony.hill3da5@exa...|001-750-565-8054x923|67739 Bean Locks ...|       Josephmouth|              Serbia|2023-03-04 00:00:00|2025-09-08 22:28:15|2025-09-18 18:37:...|51539607557|\n",
      "|CUST-00106E13|   Allison|    Romero|   Allison Romero|allison.romerofd1...|       (551)216-1529|  860 Peterson Ports|       Amandahaven|Lao People's Demo...|2025-01-22 00:00:00|2025-09-08 22:28:15|2025-09-18 18:37:...|51539607558|\n",
      "|CUST-001121A9|   Matthew|    Walker|   Matthew Walker|matthew.walker6db...|001-648-348-9029x...|4110 Jeffrey Pike...|    South Michaela|          Montenegro|2020-12-05 00:00:00|2025-09-08 22:28:15|2025-09-18 18:37:...|51539607559|\n",
      "|CUST-0011705B|    Shelly|Richardson|Shelly Richardson|shelly.richardson...|        601-492-2173|8605 Lyons Fork S...|      Kimberlystad|               Qatar|2023-01-04 00:00:00|2025-09-08 22:28:15|2025-09-18 18:37:...|51539607560|\n",
      "|CUST-0013AD22| Katherine|    Pierce| Katherine Pierce|katherine.piercec...|       (857)826-7313|251 Brandon Path ...|         Perryberg|       French Guiana|2021-10-23 00:00:00|2025-09-08 22:28:15|2025-09-18 18:37:...|51539607561|\n",
      "+-------------+----------+----------+-----------------+--------------------+--------------------+--------------------+------------------+--------------------+-------------------+-------------------+--------------------+-----------+\n",
      "\n"
     ]
    }
   ],
   "source": [
    "spark.sql(\"SELECT * FROM customers LIMIT 10\").show()"
   ]
  },
  {
   "cell_type": "code",
   "execution_count": null,
   "id": "7977af36",
   "metadata": {},
   "outputs": [
    {
     "name": "stdout",
     "output_type": "stream",
     "text": [
      "+------------+--------------------+--------------+-------+--------------+----------+-------------------+--------------------+-----------+\n",
      "|  product_id|                name|      category|  price|stock_quantity|created_at|       last_updated| ingestion_timestamp| product_sk|\n",
      "+------------+--------------------+--------------+-------+--------------+----------+-------------------+--------------------+-----------+\n",
      "|PRD-00003090|Groceries - Revea...|     Groceries| 341.67|           658|2023-03-27|2025-09-08 22:27:07|2025-09-18 18:37:...|51539607552|\n",
      "|PRD-00008115|Groceries - Follo...|     Groceries| 634.31|           185|2025-04-15|2025-09-08 22:27:07|2025-09-18 18:37:...|51539607553|\n",
      "|PRD-0004A45F|    Sports - Hit 457|        Sports|1876.93|            82|2024-03-11|2025-09-08 22:27:07|2025-09-18 18:37:...|51539607554|\n",
      "|PRD-0006D615|Home & Kitchen - ...|Home & Kitchen| 1450.2|           406|2020-11-06|2025-09-08 22:27:07|2025-09-18 18:37:...|51539607555|\n",
      "|PRD-000C227C| Health - Memory 481|        Health|1071.02|           870|2022-09-19|2025-09-08 22:27:07|2025-09-18 18:37:...|51539607556|\n",
      "|PRD-000F59AE|Automotive - Pret...|    Automotive| 952.98|           335|2024-04-18|2025-09-08 22:27:07|2025-09-18 18:37:...|51539607557|\n",
      "|PRD-00139588|Beauty - Successf...|        Beauty| 677.47|           214|2023-06-03|2025-09-08 22:27:07|2025-09-18 18:37:...|51539607558|\n",
      "|PRD-00140ABB|Health - Prepare 208|        Health| 298.45|           428|2020-10-19|2025-09-08 22:27:07|2025-09-18 18:37:...|51539607559|\n",
      "|PRD-0014B9D0|Home & Kitchen - ...|Home & Kitchen|1334.39|           292|2022-01-01|2025-09-08 22:27:07|2025-09-18 18:37:...|51539607560|\n",
      "|PRD-001A1ECA|Home & Kitchen - ...|Home & Kitchen| 470.27|           437|2024-12-19|2025-09-08 22:27:07|2025-09-18 18:37:...|51539607561|\n",
      "+------------+--------------------+--------------+-------+--------------+----------+-------------------+--------------------+-----------+\n",
      "\n"
     ]
    }
   ],
   "source": [
    "spark.sql(\"SELECT * FROM products LIMIT 10\").show()"
   ]
  },
  {
   "cell_type": "code",
   "execution_count": null,
   "id": "15f85d59",
   "metadata": {},
   "outputs": [
    {
     "name": "stdout",
     "output_type": "stream",
     "text": [
      "+------------+----------------+-------------+------------+--------+------------+-------------------+--------------+------------+-------------------+--------------------+\n",
      "|    order_id|  transaction_id|  customer_id|  product_id|quantity|total_amount|         order_date|payment_method|order_status|       last_updated| ingestion_timestamp|\n",
      "+------------+----------------+-------------+------------+--------+------------+-------------------+--------------+------------+-------------------+--------------------+\n",
      "|ORD-0003BFD8|TXN-143B2A23E168|CUST-86B1AA50|PRD-E9D913DF|       4|      2195.0|2023-07-01 00:00:00|    Debit Card|   Cancelled|2025-09-08 22:30:58|2025-09-18 18:37:...|\n",
      "|ORD-0003D11F|TXN-A9EFE2E393AC|CUST-E3D467BE|PRD-709B3FE5|       4|     3545.64|2021-03-26 00:00:00|           UPI|     Shipped|2025-09-08 22:30:58|2025-09-18 18:37:...|\n",
      "|ORD-00109A77|TXN-2B09BE471087|CUST-D9100BC2|PRD-09EFBB38|       4|     5041.08|2022-04-22 00:00:00|    Debit Card|   Cancelled|2025-09-08 22:30:58|2025-09-18 18:37:...|\n",
      "|ORD-001D75CA|TXN-A6A6F306F5D2|CUST-1C25A342|PRD-28BFA500|       1|     1398.08|2021-05-24 00:00:00|   Credit Card|     Pending|2025-09-08 22:30:58|2025-09-18 18:37:...|\n",
      "|ORD-00280900|TXN-898077CB38D1|CUST-080C49FB|PRD-292BA3C3|       5|      3463.7|2025-04-29 00:00:00|        PayPal|   Delivered|2025-09-08 22:30:58|2025-09-18 18:37:...|\n",
      "|ORD-00376492|TXN-3521966277CB|CUST-5EDA1D5D|PRD-3A1888B4|       3|      668.64|2020-10-08 00:00:00|   Credit Card|     Pending|2025-09-08 22:30:58|2025-09-18 18:37:...|\n",
      "|ORD-003E4A2E|TXN-7B955BE26B07|CUST-A4D9EBD7|PRD-70B6AD5A|       2|      3827.8|2021-06-25 00:00:00|   Credit Card|   Delivered|2025-09-08 22:30:58|2025-09-18 18:37:...|\n",
      "|ORD-0046DC03|TXN-68CD2D8F3F5A|CUST-CDA67FF4|PRD-B1AB6EAA|       5|     3266.95|2021-02-12 00:00:00|   Credit Card|   Delivered|2025-09-08 22:30:58|2025-09-18 18:37:...|\n",
      "|ORD-0055AF8B|TXN-00E142E07632|CUST-D268343E|PRD-BC53724F|       5|     5489.95|2023-11-16 00:00:00|        PayPal|   Cancelled|2025-09-08 22:30:58|2025-09-18 18:37:...|\n",
      "|ORD-00610E0E|TXN-C70ED6F28366|CUST-0FE25759|PRD-87658716|       5|      6199.0|2025-08-08 00:00:00|        PayPal|   Cancelled|2025-09-08 22:30:58|2025-09-18 18:37:...|\n",
      "+------------+----------------+-------------+------------+--------+------------+-------------------+--------------+------------+-------------------+--------------------+\n",
      "\n"
     ]
    }
   ],
   "source": [
    "spark.sql(\"SELECT * FROM orders LIMIT 10\").show()"
   ]
  },
  {
   "cell_type": "code",
   "execution_count": null,
   "id": "c0d239dd",
   "metadata": {},
   "outputs": [
    {
     "name": "stdout",
     "output_type": "stream",
     "text": [
      "+--------------------+------------+----------------+-------------+---------------+------------+--------------------+------------+--------------+--------------------+---------------+--------------------+-------------------+---------------+-------------------+--------------------+\n",
      "|         delivery_id|    order_id|  transaction_id|  customer_id|  customer_name|  product_id|        product_name|total_amount|payment_method|    delivery_address|  delivery_city|    delivery_country|      delivery_date|delivery_status|       last_updated| ingestion_timestamp|\n",
      "+--------------------+------------+----------------+-------------+---------------+------------+--------------------+------------+--------------+--------------------+---------------+--------------------+-------------------+---------------+-------------------+--------------------+\n",
      "|000b95ac-25ba-4f4...|ORD-77F64D26|TXN-1A6E9CB7D56E|CUST-9FC6134D| Charles Farmer|PRD-C973F156|Home & Kitchen - ...|      198.19|        PayPal|32014 Carolyn Sta...|   Samanthatown|            Djibouti|2023-05-06 00:00:00|      Preparing|2025-09-08 22:39:46|2025-09-18 18:37:...|\n",
      "|000fa536-5345-4e7...|ORD-CE74D568|TXN-B760E13438B6|CUST-9A3529C1|  Stacy Kennedy|PRD-BCF4BBAA| Clothing - Turn 535|     1110.22|    Debit Card|  1477 Jonathan Mill|Kimberlychester|Falkland Islands ...|2023-06-27 00:00:00|      Preparing|2025-09-08 22:39:39|2025-09-18 18:37:...|\n",
      "|001b28c1-e72a-450...|ORD-F567781D|TXN-BE11C2740A04|CUST-7178C036|  Richard Velez|PRD-4C4CA2FF|  Books - Remain 414|     1288.32|          Cash|  8609 Murphy Bypass|      Aaronview|          San Marino|2020-10-27 00:00:00|         Failed|2025-09-08 22:39:38|2025-09-18 18:37:...|\n",
      "|001da520-3445-40b...|ORD-5200BB38|TXN-B0337C0B0C30|CUST-9A529B70|  Charles Smith|PRD-685FBB80|   Sports - Hair 931|     2020.65|        PayPal|2170 Stephanie Un...|         Rayton|           Venezuela|2021-08-26 00:00:00|      Preparing|2025-09-08 22:39:04|2025-09-18 18:37:...|\n",
      "|002b86d6-c8e1-4d2...|ORD-CE88ABC8|TXN-7CE86D1CE85E|CUST-719937AF|  Gregory Clark|PRD-0B4D7AB0|   Beauty - When 272|     1040.11|           UPI|47444 Shaw Route ...|   Lake Brandon|              France|2021-10-29 00:00:00|         Failed|2025-09-08 22:39:11|2025-09-18 18:37:...|\n",
      "|002bf185-b2ad-472...|ORD-CA140F1A|TXN-C3941FC1AA78|CUST-AC9AD60B|   Laura Brewer|PRD-197D18FD|   Toys - Pretty 399|      7367.8|           UPI| 2903 Bennett Valley|New Deborahstad|         Saint Lucia|2023-08-19 00:00:00|        Shipped|2025-09-08 22:39:48|2025-09-18 18:37:...|\n",
      "|0038973d-6640-443...|ORD-6C129028|TXN-827E53044D60|CUST-A6C419C7|  Bradley Meyer|PRD-B726B402|  Jewelry - Care 132|     1367.44|          Cash|476 Hernandez Pla...|     Normanport|            Dominica|2021-01-18 00:00:00|         Failed|2025-09-08 22:39:27|2025-09-18 18:37:...|\n",
      "|0038ab6a-6b16-442...|ORD-79E9BD32|TXN-C1386FF08B59|CUST-4C38EC90|   Brenda Brown|PRD-DA03EA47|Electronics - Ans...|     2606.31|          Cash| 12448 Baker Heights|     Chaneyview|          Cape Verde|2022-12-11 00:00:00|        Shipped|2025-09-08 22:39:15|2025-09-18 18:37:...|\n",
      "|0040b5b7-3022-4f7...|ORD-8487D01F|TXN-C7613B2FF3C9|CUST-6BADB2DF|Samuel Friedman|PRD-CB44378E|Clothing - Brothe...|      1265.0|           UPI|4195 Simmons Moun...|     Jeremyside|          Azerbaijan|2024-03-05 00:00:00|      Delivered|2025-09-08 22:39:48|2025-09-18 18:37:...|\n",
      "|0049b9ec-ad8e-4aa...|ORD-E84F2D6D|TXN-1F0AA770CD5B|CUST-CADD339B|  Caleb Goodwin|PRD-EE106B1A|   Books - Piece 417|     3484.44|          Cash|     058 Brian Manor| North Ginabury|                Oman|2022-03-06 00:00:00|        Shipped|2025-09-08 22:39:06|2025-09-18 18:37:...|\n",
      "+--------------------+------------+----------------+-------------+---------------+------------+--------------------+------------+--------------+--------------------+---------------+--------------------+-------------------+---------------+-------------------+--------------------+\n",
      "\n"
     ]
    }
   ],
   "source": [
    "spark.sql(\"SELECT * FROM deliveries LIMIT 10\").show()"
   ]
  }
 ],
 "metadata": {
  "kernelspec": {
   "display_name": "Python 3",
   "language": "python",
   "name": "python3"
  },
  "language_info": {
   "codemirror_mode": {
    "name": "ipython",
    "version": 3
   },
   "file_extension": ".py",
   "mimetype": "text/x-python",
   "name": "python",
   "nbconvert_exporter": "python",
   "pygments_lexer": "ipython3",
   "version": "3.10.11"
  }
 },
 "nbformat": 4,
 "nbformat_minor": 5
}
